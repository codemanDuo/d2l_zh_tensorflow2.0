{
 "cells": [
  {
   "cell_type": "code",
   "execution_count": 1,
   "metadata": {},
   "outputs": [
    {
     "name": "stdout",
     "output_type": "stream",
     "text": [
      "2.0.0\n"
     ]
    }
   ],
   "source": [
    "import tensorflow as tf\n",
    "import os\n",
    "\n",
    "print(tf.__version__)"
   ]
  },
  {
   "cell_type": "code",
   "execution_count": 3,
   "metadata": {},
   "outputs": [
    {
     "data": {
      "text/plain": [
       "(2, 2, 2, 1)"
      ]
     },
     "execution_count": 3,
     "metadata": {},
     "output_type": "execute_result"
    }
   ],
   "source": [
    "# 维度计算\n",
    "(2, ) + (2, 2) + (1,)"
   ]
  },
  {
   "cell_type": "code",
   "execution_count": 8,
   "metadata": {},
   "outputs": [
    {
     "data": {
      "text/plain": [
       "TensorShape([4, 4])"
      ]
     },
     "execution_count": 8,
     "metadata": {},
     "output_type": "execute_result"
    }
   ],
   "source": [
    "def comp_conv2d(conv2d, X):\n",
    "    # 将 X 转换成 [1,h,w, 1],即 batch * h * w * 通道数的个数\n",
    "    X = tf.reshape(X,(1,) + X.shape + (1,))\n",
    "#     X = tf.reshape(X,X.shape)\n",
    "    Y = conv2d(X)\n",
    "    #input_shape = (samples, rows, cols, channels)\n",
    "    return tf.reshape(Y,Y.shape[1:3])\n",
    "\n",
    "# 注意这里是两侧分别填充1行或列，所以在两侧一共填充2行或列\n",
    "# Conv2D(filter, padding, kernel_size=None，strides=None, name=None)\n",
    "# filters:卷积核个数\n",
    "# kernel_size: 核尺寸 h * w\n",
    "# padding: 'SAME' or 'VALID' 'VALID'表示0填充。注意：'SAME'并不是表示输入输出尺寸大小一样，只是考虑边界，如果不够用0填充\n",
    "# strides:步长 可以输入一个元组，也可以是一个整数，整数表示长宽方向步长相同\n",
    "conv2d = tf.keras.layers.Conv2D(1, kernel_size=3, padding='same',strides=(2,2))\n",
    "X = tf.random.uniform(shape=(8,8))\n",
    "\n",
    "# 注意函数中 X 的输入形状, 需要 4 维，batch * h * w * 通道数\n",
    "comp_conv2d(conv2d,X).shape"
   ]
  },
  {
   "cell_type": "code",
   "execution_count": 9,
   "metadata": {},
   "outputs": [
    {
     "data": {
      "text/plain": [
       "TensorShape([2, 1])"
      ]
     },
     "execution_count": 9,
     "metadata": {},
     "output_type": "execute_result"
    }
   ],
   "source": [
    "# 步长\n",
    "conv2d = tf.keras.layers.Conv2D(1, kernel_size=(3,5), padding='valid', strides=(3,4))\n",
    "comp_conv2d(conv2d, X).shape"
   ]
  },
  {
   "cell_type": "code",
   "execution_count": null,
   "metadata": {},
   "outputs": [],
   "source": []
  }
 ],
 "metadata": {
  "kernelspec": {
   "display_name": "Python (tf2)",
   "language": "python",
   "name": "tf2"
  },
  "language_info": {
   "codemirror_mode": {
    "name": "ipython",
    "version": 3
   },
   "file_extension": ".py",
   "mimetype": "text/x-python",
   "name": "python",
   "nbconvert_exporter": "python",
   "pygments_lexer": "ipython3",
   "version": "3.6.10"
  }
 },
 "nbformat": 4,
 "nbformat_minor": 4
}
