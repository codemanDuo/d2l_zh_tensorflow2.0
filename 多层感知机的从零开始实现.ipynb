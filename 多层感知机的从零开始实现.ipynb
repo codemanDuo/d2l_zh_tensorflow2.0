{
 "cells": [
  {
   "cell_type": "code",
   "execution_count": 1,
   "metadata": {},
   "outputs": [
    {
     "name": "stdout",
     "output_type": "stream",
     "text": [
      "2.0.0\n"
     ]
    }
   ],
   "source": [
    "import tensorflow as tf\n",
    "import os\n",
    "\n",
    "print(tf.__version__)"
   ]
  },
  {
   "cell_type": "code",
   "execution_count": 2,
   "metadata": {},
   "outputs": [
    {
     "name": "stdout",
     "output_type": "stream",
     "text": [
      "物理gpu个数:  2\n",
      "总的gpu个数，其中包括括虚拟Logical gpus:  2\n"
     ]
    }
   ],
   "source": [
    "import os\n",
    "os.environ['CUDA_VISIBLE_DEVICES'] = '0, 1'\n",
    "# 获取物理gpu, cpu对象\n",
    "gpus = tf.config.experimental.list_physical_devices(device_type='GPU')\n",
    "cpus = tf.config.experimental.list_physical_devices(device_type='CPU')\n",
    "\n",
    "# 设置当前程序的　物理可见设备范围\n",
    "tf.config.experimental.set_visible_devices(devices=gpus[0], device_type='GPU')\n",
    "\n",
    "#设置仅在需要时申请：\n",
    "# for gpu in gpus:\n",
    "#     tf.config.experimental.set_memory_growth(gpu, True)\n",
    "\n",
    "# 设置在物理gpu上设置虚拟gpu，并用来限制gpu内存使用\n",
    "tf.config.experimental.set_virtual_device_configuration(\n",
    "    gpus[0], [tf.config.experimental.VirtualDeviceConfiguration(memory_limit=1024), tf.config.experimental.VirtualDeviceConfiguration(memory_limit=1024)])\n",
    "\n",
    "# 获取当前虚拟gpu对象\n",
    "logical_gpus = tf.config.experimental.list_logical_devices('GPU')\n",
    "\n",
    "print('物理gpu个数: ', len(gpus))\n",
    "print('总的gpu个数，其中包括括虚拟Logical gpus: ', len(logical_gpus))"
   ]
  },
  {
   "cell_type": "code",
   "execution_count": 3,
   "metadata": {},
   "outputs": [],
   "source": [
    "# 获取数据\n",
    "from tensorflow.keras.datasets import fashion_mnist\n",
    "\n",
    "(x_train, y_train), (x_test, y_test) = fashion_mnist.load_data()\n",
    "\n",
    "# 定义预处理函数\n",
    "def data_scale(x, y):\n",
    "    x = tf.cast(x, tf.float32)\n",
    "    # 由于还没有学卷积，所以需要把图片数据展开,28*28\n",
    "    x = x / 255\n",
    "    x = tf.reshape(x,(784, -1))    # (78,1)\n",
    "    x = tf.squeeze(x)    # 降一个维度\n",
    "    return x, y\n",
    "\n",
    "train_db = tf.data.Dataset.from_tensor_slices((x_train, y_train)).map(data_scale).cache().batch(64)\n",
    "# next(iter(train_db))  # (shape=(64, 784))"
   ]
  },
  {
   "cell_type": "code",
   "execution_count": 4,
   "metadata": {},
   "outputs": [],
   "source": [
    "# 创建模型\n",
    "# 由于还没有学卷积，所以需要把图片数据展开，展开图像的长度为 28*28\n",
    "num_inputs = 784\n",
    "# 分类类别数为: 10 分类\n",
    "num_outputs = 10\n",
    "# 构建两个隐藏层\n",
    "W1 = tf.Variable(tf.random.normal(shape=(num_inputs, 128), mean=0, stddev=0.1, dtype=tf.float32))\n",
    "B1 = tf.Variable(tf.random.normal(shape=(1, 128), mean=0, stddev=0.1, dtype=tf.float32))\n",
    "\n",
    "W2 = tf.Variable(tf.random.normal(shape=(128, 64), mean=0, stddev=0.1, dtype=tf.float32))\n",
    "B2 = tf.Variable(tf.random.normal(shape=(1, 64), mean=0, stddev=0.1, dtype=tf.float32))\n",
    "\n",
    "W3 = tf.Variable(tf.random.normal(shape=(128, 10), mean=0, stddev=0.1, dtype=tf.float32))\n",
    "B3 = tf.Variable(tf.random.normal(shape=(1, 64), mean=0, stddev=0.1, dtype=tf.float32))\n",
    "def hidden_layer_net(X):\n",
    "    h1 = tf.nn.relu(tf.matmul(X, W1) + B1)\n",
    "    h2 = tf.nn.relu(tf.matmul(h1, W2) + B2)\n",
    "    out_put = tf.math.softmax(tf.matmul(h2, W3) + B3)\n",
    "    return out_put"
   ]
  },
  {
   "cell_type": "code",
   "execution_count": null,
   "metadata": {},
   "outputs": [],
   "source": []
  }
 ],
 "metadata": {
  "kernelspec": {
   "display_name": "Python (tf2-1)",
   "language": "python",
   "name": "tf2"
  },
  "language_info": {
   "codemirror_mode": {
    "name": "ipython",
    "version": 3
   },
   "file_extension": ".py",
   "mimetype": "text/x-python",
   "name": "python",
   "nbconvert_exporter": "python",
   "pygments_lexer": "ipython3",
   "version": "3.6.8"
  }
 },
 "nbformat": 4,
 "nbformat_minor": 2
}
