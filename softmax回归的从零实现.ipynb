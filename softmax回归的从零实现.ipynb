{
 "cells": [
  {
   "cell_type": "code",
   "execution_count": 1,
   "metadata": {},
   "outputs": [],
   "source": [
    "# from IPython.core.display import display, HTML\n",
    "# display(HTML(\"<style>.container { width:80% !important; }</style>\"))"
   ]
  },
  {
   "cell_type": "code",
   "execution_count": 2,
   "metadata": {
    "scrolled": true
   },
   "outputs": [
    {
     "name": "stdout",
     "output_type": "stream",
     "text": [
      "2.0.0\n"
     ]
    }
   ],
   "source": [
    "import tensorflow as tf\n",
    "import numpy as np\n",
    "\n",
    "print(tf.__version__)"
   ]
  },
  {
   "cell_type": "code",
   "execution_count": 3,
   "metadata": {},
   "outputs": [
    {
     "name": "stdout",
     "output_type": "stream",
     "text": [
      "物理gpu个数:  2\n",
      "总的gpu个数，其中包括括虚拟Logical gpus:  2\n"
     ]
    }
   ],
   "source": [
    "import os\n",
    "os.environ['CUDA_VISIBLE_DEVICES'] = '0, 1'\n",
    "# 获取物理gpu, cpu对象\n",
    "gpus = tf.config.experimental.list_physical_devices(device_type='GPU')\n",
    "cpus = tf.config.experimental.list_physical_devices(device_type='CPU')\n",
    "\n",
    "# 设置当前程序的　物理可见设备范围\n",
    "tf.config.experimental.set_visible_devices(devices=gpus[0], device_type='GPU')\n",
    "\n",
    "#设置仅在需要时申请：\n",
    "# for gpu in gpus:\n",
    "#     tf.config.experimental.set_memory_growth(gpu, True)\n",
    "\n",
    "# 设置在物理gpu上设置虚拟gpu，并用来限制gpu内存使用\n",
    "tf.config.experimental.set_virtual_device_configuration(\n",
    "    gpus[0], [tf.config.experimental.VirtualDeviceConfiguration(memory_limit=1024), tf.config.experimental.VirtualDeviceConfiguration(memory_limit=1024)])\n",
    "\n",
    "# 获取当前虚拟gpu对象\n",
    "logical_gpus = tf.config.experimental.list_logical_devices('GPU')\n",
    "\n",
    "print('物理gpu个数: ', len(gpus))\n",
    "print('总的gpu个数，其中包括括虚拟Logical gpus: ', len(logical_gpus))"
   ]
  },
  {
   "cell_type": "code",
   "execution_count": 4,
   "metadata": {},
   "outputs": [],
   "source": [
    "# 获取数据\n",
    "from tensorflow.keras.datasets import fashion_mnist\n",
    "\n",
    "(x_train, y_train) , (x_test, y_test) = fashion_mnist.load_data()\n",
    "# 定义预处理函数\n",
    "def data_scale(x, y):\n",
    "    x = tf.cast(x, tf.float32)\n",
    "    # 由于还没有学卷积，所以需要把图片数据展开,28*28\n",
    "    x = x / 255\n",
    "    x = tf.reshape(x,(784, -1))    # (78,1)\n",
    "    x = tf.squeeze(x)    # 降一个维度\n",
    "    return x, y\n",
    "\n",
    "train_db = tf.data.Dataset.from_tensor_slices((x_train, y_train)).map(data_scale).cache().batch(64)\n",
    "next(iter(train_db))# (64,784) (64,)\n",
    "test_db = tf.data.Dataset.from_tensor_slices((x_test, y_test)).map(data_scale).cache().batch(64)"
   ]
  },
  {
   "cell_type": "code",
   "execution_count": 5,
   "metadata": {},
   "outputs": [],
   "source": [
    "# 熟悉函数\n",
    "# 由于还没有学卷积，所以需要把图片数据展开，展开图像的长度为 28*28\n",
    "num_inputs = 784\n",
    "# 分类类别数为: 10 分类\n",
    "num_outputs = 10\n",
    "# 构建 X.W + B\n",
    "W = tf.Variable(tf.random.normal(shape=(num_inputs, num_outputs),mean=0, stddev=0.1, dtype=tf.float32))\n",
    "B = tf.Variable(tf.random.normal(shape=(1,10), mean=0.5, stddev=0.1, dtype=tf.float32))"
   ]
  },
  {
   "cell_type": "code",
   "execution_count": 6,
   "metadata": {},
   "outputs": [
    {
     "data": {
      "text/plain": [
       "(<tf.Tensor: id=80, shape=(1, 3), dtype=int32, numpy=array([[5, 7, 9]], dtype=int32)>,\n",
       " <tf.Tensor: id=82, shape=(2, 1), dtype=int32, numpy=\n",
       " array([[ 6],\n",
       "        [15]], dtype=int32)>,\n",
       " <tf.Tensor: id=84, shape=(), dtype=int32, numpy=21>)"
      ]
     },
     "execution_count": 6,
     "metadata": {},
     "output_type": "execute_result"
    }
   ],
   "source": [
    "# 感受一下 tf.reduce_sum计算\n",
    "X = tf.constant([[1, 2, 3], [4, 5, 6]])\n",
    "\n",
    "tf.reduce_sum(X, axis=0, keepdims=True), tf.reduce_sum(X, axis=1, keepdims=True),tf.reduce_sum(X)"
   ]
  },
  {
   "cell_type": "code",
   "execution_count": 7,
   "metadata": {},
   "outputs": [],
   "source": [
    "# tf.reduce_sum() 需要得到 batch_size * 1,所以axis=-1,即softmax的设计为\n",
    "def softmax(logits, axis=-1):\n",
    "    return tf.exp(logits)/tf.reduce_sum(tf.exp(logits), axis, keepdims=True)"
   ]
  },
  {
   "cell_type": "code",
   "execution_count": 8,
   "metadata": {},
   "outputs": [
    {
     "name": "stdout",
     "output_type": "stream",
     "text": [
      "tf.Tensor(\n",
      "[[ 1.6769742   1.2339317  -0.8880535  -1.3728452  -1.0796046 ]\n",
      " [ 0.5351774  -0.7255373  -0.8779835  -0.04434932 -0.83744067]], shape=(2, 5), dtype=float32)\n"
     ]
    },
    {
     "data": {
      "text/plain": [
       "(<tf.Tensor: id=95, shape=(2, 5), dtype=float32, numpy=\n",
       " array([[0.54648596, 0.3508877 , 0.04203409, 0.02588566, 0.0347066 ],\n",
       "        [0.4272719 , 0.12111081, 0.10398636, 0.2393421 , 0.10828888]],\n",
       "       dtype=float32)>,\n",
       " TensorShape([2, 5]),\n",
       " <tf.Tensor: id=97, shape=(2,), dtype=float32, numpy=array([1., 1.], dtype=float32)>)"
      ]
     },
     "execution_count": 8,
     "metadata": {},
     "output_type": "execute_result"
    }
   ],
   "source": [
    "# 再用一个简答的例子感受一下softmax函数的计算,转换后得到的是概率值且和为1\n",
    "X = tf.random.normal(shape=(2, 5))\n",
    "print(X)\n",
    "X_prob = softmax(X)\n",
    "X_prob, X_prob.shape, tf.reduce_sum(X_prob, axis=1)"
   ]
  },
  {
   "cell_type": "code",
   "execution_count": 9,
   "metadata": {},
   "outputs": [],
   "source": [
    "# 定义模型\n",
    "def softmax_net(X, W, B):\n",
    "    logits = tf.matmul(tf.reshape(X, shape=(-1, W.shape[0])), W) + B\n",
    "    return softmax(logits)"
   ]
  },
  {
   "cell_type": "code",
   "execution_count": 10,
   "metadata": {},
   "outputs": [
    {
     "data": {
      "text/plain": [
       "(<tf.Tensor: id=102, shape=(3, 4), dtype=float32, numpy=\n",
       " array([[1., 0., 0., 0.],\n",
       "        [0., 0., 1., 0.],\n",
       "        [0., 1., 0., 0.]], dtype=float32)>,\n",
       " <tf.Tensor: id=130, shape=(3,), dtype=float32, numpy=array([0.3, 0.4, 0.3], dtype=float32)>)"
      ]
     },
     "execution_count": 10,
     "metadata": {},
     "output_type": "execute_result"
    }
   ],
   "source": [
    "# 在定义损失函数前，再熟悉两个函数:\n",
    "# 1、　tf.one_hot将类别 [0, 2, 1] 映射成 样本数*类别数 的　01向量\n",
    "a = tf.constant([0,2,1])\n",
    "a = tf.one_hot(a,depth=4)   # 得到 3*4的ont-hot矩阵\n",
    "\n",
    "# 2、　tf.boolean_mask(a, b) 函数可以将a矩阵按照b中所有为true的位置抽取出来，放到一起，这里从n维降到1维度,可以想\n",
    "# 可以想象成一张有洞的纸b覆盖在a上，把a上露出来的都挑出来\n",
    "b = tf.constant([[0.3, 0.5, 0.1, 0.1],[0.1, 0.3, 0.4, 0.2],[0.1, 0.3, 0.4, 0.2]])\n",
    "c = tf.boolean_mask(b, a)\n",
    "a, c    # c:[0.3, 0.4, 0.3]　那么，这就是我们 loss = -sum(y * log(yhat))，其他的y为零，其实就是当y=1对应的，log(y_hat)的值 "
   ]
  },
  {
   "cell_type": "code",
   "execution_count": 11,
   "metadata": {},
   "outputs": [],
   "source": [
    "# 定义损失函数\n",
    "\n",
    "def cross_entropy(y_hat, y):\n",
    "    y = tf.cast(tf.reshape(y, shape=[-1, 1]),dtype=tf.int32)\n",
    "    y = tf.one_hot(y, depth=y_hat.shape[-1])    \n",
    "    y = tf.cast(tf.reshape(y, shape=[-1, y_hat.shape[-1]]),dtype=tf.int32)\n",
    "    return -tf.math.log(tf.boolean_mask(y_hat, y))\n"
   ]
  },
  {
   "cell_type": "code",
   "execution_count": 12,
   "metadata": {},
   "outputs": [
    {
     "name": "stdout",
     "output_type": "stream",
     "text": [
      "tf.Tensor([ True  True False  True False  True], shape=(6,), dtype=bool)\n",
      "tf.Tensor(4.0, shape=(), dtype=float16)\n"
     ]
    }
   ],
   "source": [
    "# 熟悉一下 tf.reduce_sum函数：\n",
    "t = tf.constant([1,2,3,4,5,6])\n",
    "s = tf.constant([1,2,4,4,0,6])\n",
    "print(t == s)\n",
    "print(tf.reduce_sum(tf.cast(t == s, dtype=tf.float16)))"
   ]
  },
  {
   "cell_type": "code",
   "execution_count": 13,
   "metadata": {},
   "outputs": [],
   "source": [
    "# 定义预测准确率计算函数,用来评价在测试集上的准确率\n",
    "# def accuracy(y_hat, y):\n",
    "#     return np.mean((tf.argmax(y_hat, axis=1) == tf.cast(y,dtype=tf.int64)))    # 这里y的类型不做转换容易报错\n",
    "\n",
    "def evaluate_accuracy(data_iter, softmax_net):\n",
    "    acc_sum, n = 0, 0.0\n",
    "    for x, y in data_iter:\n",
    "        yhat = softmax_net(x, W, B)\n",
    "        acc_sum += tf.reduce_sum(tf.cast(tf.argmax(yhat, axis=1) == tf.cast(y, dtype=tf.int64), dtype=tf.float32))\n",
    "        n += y.shape[0]\n",
    "    return acc_sum / n"
   ]
  },
  {
   "cell_type": "code",
   "execution_count": 14,
   "metadata": {},
   "outputs": [
    {
     "name": "stdout",
     "output_type": "stream",
     "text": [
      "tf.Tensor(0.1421, shape=(), dtype=float32)\n"
     ]
    }
   ],
   "source": [
    "# 可以先测一下随机初始化的参数大致准确率\n",
    "# (x_test, y_test) = next(iter(train_db))\n",
    "# print(x_test, y_test)\n",
    "# yhat = softmax_net(x_test, W, B)\n",
    "# print(yhat)\n",
    "# ac = accuracy(yhat, y_test)\n",
    "# print(ac)    # 0.03125\n",
    "acc = evaluate_accuracy(test_db, softmax_net)\n",
    "print(acc)"
   ]
  },
  {
   "cell_type": "code",
   "execution_count": 15,
   "metadata": {},
   "outputs": [
    {
     "name": "stderr",
     "output_type": "stream",
     "text": [
      "WARNING: Logging before flag parsing goes to stderr.\n",
      "W0217 11:43:08.397786 139646339430208 deprecation.py:323] From /home/zero/anaconda3/envs/tf2/lib/python3.6/site-packages/tensorflow_core/python/ops/array_grad.py:502: _EagerTensorBase.cpu (from tensorflow.python.framework.ops) is deprecated and will be removed in a future version.\n",
      "Instructions for updating:\n",
      "Use tf.identity instead.\n"
     ]
    },
    {
     "name": "stdout",
     "output_type": "stream",
     "text": [
      "epoch 1, loss 0.6704, train acc 0.774, test acc 0.812\n",
      "epoch 2, loss 0.5117, train acc 0.827, test acc 0.825\n",
      "epoch 3, loss 0.4795, train acc 0.837, test acc 0.830\n",
      "epoch 4, loss 0.4621, train acc 0.842, test acc 0.834\n",
      "epoch 5, loss 0.4507, train acc 0.846, test acc 0.835\n",
      "epoch 6, loss 0.4424, train acc 0.848, test acc 0.837\n",
      "epoch 7, loss 0.4360, train acc 0.850, test acc 0.839\n",
      "epoch 8, loss 0.4308, train acc 0.852, test acc 0.839\n",
      "epoch 9, loss 0.4265, train acc 0.854, test acc 0.840\n",
      "epoch 10, loss 0.4229, train acc 0.855, test acc 0.841\n",
      "epoch 11, loss 0.4197, train acc 0.856, test acc 0.841\n",
      "epoch 12, loss 0.4170, train acc 0.857, test acc 0.842\n",
      "epoch 13, loss 0.4145, train acc 0.857, test acc 0.842\n",
      "epoch 14, loss 0.4123, train acc 0.858, test acc 0.843\n",
      "epoch 15, loss 0.4103, train acc 0.858, test acc 0.843\n",
      "epoch 16, loss 0.4085, train acc 0.859, test acc 0.843\n",
      "epoch 17, loss 0.4068, train acc 0.859, test acc 0.843\n",
      "epoch 18, loss 0.4053, train acc 0.860, test acc 0.844\n",
      "epoch 19, loss 0.4038, train acc 0.860, test acc 0.845\n",
      "epoch 20, loss 0.4025, train acc 0.861, test acc 0.845\n"
     ]
    }
   ],
   "source": [
    "# 训练模型\n",
    "epoches = 20\n",
    "lr = 1e-3\n",
    "\n",
    "trainer = tf.keras.optimizers.SGD(lr)\n",
    "\n",
    "def train_model(trainer=trainer):\n",
    "    for epoch in range(epoches):\n",
    "        train_l_sum, train_acc_sum, n = 0.0, 0.0, 0.0\n",
    "        for (x_in, y_in) in train_db:\n",
    "            # 创建上下文管理器，链接需要计算梯度的函数和变量\n",
    "            with tf.GradientTape() as tape:\n",
    "                y_out = softmax_net(x_in, W, B)\n",
    "                loss = tf.reduce_sum(cross_entropy(y_out, y_in))\n",
    "#                 print('loss', loss)\n",
    "            # 自动观测可训练变量\n",
    "            grads = tape.gradient(loss, [W, B])\n",
    "            # grads = tape.gradient(loss, softmax_net.trainable_variables)\n",
    "            if trainer:\n",
    "                # 使用优化器自动更新参数\n",
    "                trainer.apply_gradients(zip(grads, [W,B]))\n",
    "            else:\n",
    "                # 手动更新参数\n",
    "                W.assign_sub(grads[0] * lr)\n",
    "                B.assign_sub(grads[1] * lr)\n",
    "            # 计算训练集批量平均准确率和累计平均损失,注意这样做主要是为了方便计算，更合理应该计算全局损失和准确率,但是又需要重新计算，耗时较长\n",
    "            train_acc_sum += tf.reduce_sum(tf.cast(tf.argmax(y_out, axis=1) == tf.cast(y_in, dtype=tf.int64), dtype=tf.float32))\n",
    "#             print(loss)\n",
    "            train_l_sum += loss\n",
    "            # 样本个数：\n",
    "            n += y_in.shape[0]\n",
    "        test_acc = evaluate_accuracy(test_db, softmax_net)\n",
    "        print('epoch %d, loss %.4f, train acc %.3f, test acc %.3f' % (epoch + 1, train_l_sum / n, train_acc_sum / n, test_acc))\n",
    "\n",
    "# train_model()\n",
    "train_model(trainer=None)"
   ]
  },
  {
   "cell_type": "code",
   "execution_count": 16,
   "metadata": {},
   "outputs": [
    {
     "data": {
      "image/png": "[encoded data removed]",
      "text/plain": [
       "<Figure size 864x864 with 9 Axes>"
      ]
     },
     "metadata": {
      "needs_background": "light"
     },
     "output_type": "display_data"
    }
   ],
   "source": [
    "import matplotlib.pyplot as plt\n",
    "X, y = iter(test_db).next()\n",
    "\n",
    "def get_fashion_mnist_labels(labels):\n",
    "    text_labels = ['t-shirt', 'trouser', 'pullover', 'dress', 'coat', 'sandal', 'shirt', 'sneaker', 'bag', 'ankle boot']\n",
    "    return [text_labels[int(i)] for i in labels]\n",
    "\n",
    "def show_fashion_mnist(images, labels):\n",
    "    # 这⾥的_表示我们忽略（不使⽤）的变量\n",
    "    _, figs = plt.subplots(1, len(images), figsize=(12, 12)) # 这里注意subplot 和subplots 的区别\n",
    "    for f, img, lbl in zip(figs, images, labels):\n",
    "        f.imshow(tf.reshape(img, shape=(28, 28)).numpy())\n",
    "        f.set_title(lbl)\n",
    "        f.axes.get_xaxis().set_visible(False)\n",
    "        f.axes.get_yaxis().set_visible(False)\n",
    "    plt.show()\n",
    "\n",
    "true_labels = get_fashion_mnist_labels(y.numpy())\n",
    "pred_labels = get_fashion_mnist_labels(tf.argmax(softmax_net(X,W,B), axis=1).numpy())\n",
    "titles = [true + '\\n' + pred for true, pred in zip(true_labels, pred_labels)]\n",
    "\n",
    "show_fashion_mnist(X[0:9], titles[0:9])"
   ]
  }
 ],
 "metadata": {
  "kernelspec": {
   "display_name": "Python (tf2-1)",
   "language": "python",
   "name": "tf2"
  },
  "language_info": {
   "codemirror_mode": {
    "name": "ipython",
    "version": 3
   },
   "file_extension": ".py",
   "mimetype": "text/x-python",
   "name": "python",
   "nbconvert_exporter": "python",
   "pygments_lexer": "ipython3",
   "version": "3.6.8"
  }
 },
 "nbformat": 4,
 "nbformat_minor": 2
}
