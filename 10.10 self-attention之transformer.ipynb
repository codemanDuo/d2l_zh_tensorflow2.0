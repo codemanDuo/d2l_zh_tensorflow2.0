{
 "cells": [
  {
   "cell_type": "code",
   "execution_count": 1,
   "metadata": {},
   "outputs": [
    {
     "name": "stdout",
     "output_type": "stream",
     "text": [
      "2.0.0\n",
      "True\n"
     ]
    }
   ],
   "source": [
    "import tensorflow as tf\n",
    "\n",
    "print(tf.__version__)\n",
    "print(tf.test.is_gpu_available())"
   ]
  },
  {
   "cell_type": "markdown",
   "metadata": {},
   "source": [
    "### Transformer 模型的核心思想是自注意力机制（self-attention）\n",
    "能注意输入序列的不同位置以计算该序列的表示的能力。Transformer 创建了多层自注意力层（self-attetion layers）组成的堆栈，下文的按比缩放的点积注意力（Scaled dot product attention）和多头注意力（Multi-head attention）部分对此进行了说明。\n",
    "\n",
    "一个 transformer 模型用自注意力层而非 RNNs 或 CNNs 来处理变长的输入。\n",
    "`这种通用架构有一系列的优势：`\n",
    "\n",
    "1、它不对数据间的时间/空间关系做任何假设。这是处理一组对象（objects）的理想选择（例如，星际争霸单位（StarCraft units））。\n",
    "2、层输出可以并行计算，而非像 RNN 这样的序列计算。\n",
    "3、远距离项可以影响彼此的输出，而无需经过许多 RNN 步骤或卷积层（例如，参见场景记忆 Transformer（Scene Memory Transformer））\n",
    "它能学习长距离的依赖。在许多序列任务中，这是一项挑战。\n",
    "\n",
    "`该架构的缺点是：`\n",
    "\n",
    "1、对于时间序列，一个单位时间的输出是从整个历史记录计算的，而非仅从输入和当前的隐含状态计算得到。这可能效率较低。\n",
    "2、如果输入确实有时间/空间的关系，像文本，则必须加入一些`位置编码`，否则模型将有效地看到一堆单词。"
   ]
  },
  {
   "cell_type": "markdown",
   "metadata": {},
   "source": [
    "#### 重点\n",
    "1、位置向量编码的含义\n",
    "\n",
    "2、和seq2seq的区别\n",
    "\n",
    "3、Q,K,V的设计（QKV图形）\n",
    "\n",
    "4、从attention谈transformer本质"
   ]
  },
  {
   "cell_type": "markdown",
   "metadata": {},
   "source": [
    "### 以下代码用来实现经典的编码器－解码器代码，并使用 cmn_eng　2.2w条中英文翻译数据，作为实例\n",
    "如果希望更详细的解读，强烈推荐阅读：https://zhuanlan.zhihu.com/p/28054589\n",
    "https://leovan.me/cn/2018/10/seq2seq-and-attention-machanism/"
   ]
  },
  {
   "cell_type": "code",
   "execution_count": 2,
   "metadata": {},
   "outputs": [],
   "source": [
    "import tensorflow as tf\n",
    "import os\n",
    "\n",
    "import matplotlib.pyplot as plt\n",
    "import matplotlib.ticker as ticker\n",
    "from sklearn.model_selection import train_test_split\n",
    "\n",
    "# 修复中文显示问题\n",
    "plt.rcParams['font.sans-serif'] = [u'SimHei']\n",
    "plt.rcParams['axes.unicode_minus'] = False"
   ]
  },
  {
   "cell_type": "code",
   "execution_count": 3,
   "metadata": {},
   "outputs": [
    {
     "name": "stdout",
     "output_type": "stream",
     "text": [
      "2.0.0\n"
     ]
    }
   ],
   "source": [
    "print(tf.__version__)\n",
    "\n",
    "# 判断是否gpu可用,如果可用设置gpu使用显存\n",
    "gpus = tf.config.experimental.list_physical_devices('GPU')\n",
    "for gpu in gpus:\n",
    "    tf.config.experimental.set_memory_growth(gpu,True)"
   ]
  },
  {
   "cell_type": "code",
   "execution_count": 4,
   "metadata": {},
   "outputs": [],
   "source": [
    "import unicodedata\n",
    "import re\n",
    "import numpy as np\n",
    "import os\n",
    "import io\n",
    "import time"
   ]
  },
  {
   "cell_type": "code",
   "execution_count": 5,
   "metadata": {
    "scrolled": true
   },
   "outputs": [
    {
     "data": {
      "text/plain": [
       "'I met Lao Wang as soon as I went out of the door.\\t我一出门就碰上老王了。\\n'"
      ]
     },
     "execution_count": 5,
     "metadata": {},
     "output_type": "execute_result"
    }
   ],
   "source": [
    "with open('./data/ch_en.txt', 'r', encoding='utf-8') as f:\n",
    "    contexts = f.readlines()\n",
    "contexts[10]"
   ]
  },
  {
   "cell_type": "code",
   "execution_count": 6,
   "metadata": {
    "scrolled": true
   },
   "outputs": [],
   "source": [
    "def data_pro(contexts):\n",
    "    processed_contexts_en = []\n",
    "    processed_contexts_ch = []\n",
    "    for line in contexts:\n",
    "        en, ch = re.split(r'\\t', line.strip(), 1)\n",
    "        # 如果句子过长，则跳过此句\n",
    "#         if len(ch) > 100:\n",
    "#             continue\n",
    "#         print(en, ch)\n",
    "        en = re.sub(r'([\\?\\.\\!\\,¿])', r' \\1', en)\n",
    "#         print(en)\n",
    "        en = re.sub(r'\\s+', ' ', en)\n",
    "        ch = re.sub(r'\\s+', ' ', ch)\n",
    "        en = re.sub(r'[^a-zA-Z\\?\\.\\!\\,。？！，、¿]+', r' ', en)\n",
    "        ch = re.sub(r'[^a-zA-Z\\?\\.\\!\\,。？！，、¿\\u4e00-\\u9fa5]+', r' ', ch)\n",
    "        en = '<start> ' + en[:200] + ' <end>'\n",
    "        ch = '<start> ' + ' '.join([i for i in ch[:100]]) + ' <end>'\n",
    "        \n",
    "        processed_contexts_en.append(en)\n",
    "        processed_contexts_ch.append(ch)\n",
    "    \n",
    "    return processed_contexts_en, processed_contexts_ch\n",
    "\n",
    "\n",
    "processed_contexts_en, processed_contexts_ch = data_pro(contexts)"
   ]
  },
  {
   "cell_type": "code",
   "execution_count": 7,
   "metadata": {},
   "outputs": [],
   "source": [
    "def max_length(tensor):\n",
    "    return max(len(t) for t in tensor)"
   ]
  },
  {
   "cell_type": "code",
   "execution_count": 8,
   "metadata": {},
   "outputs": [],
   "source": [
    "def tokenize(lang):\n",
    "  lang_tokenizer = tf.keras.preprocessing.text.Tokenizer(30000,\n",
    "      filters='')\n",
    "  lang_tokenizer.fit_on_texts(lang)\n",
    "\n",
    "  tensor = lang_tokenizer.texts_to_sequences(lang)\n",
    "\n",
    "  tensor = tf.keras.preprocessing.sequence.pad_sequences(tensor,\n",
    "                                                         padding='post')\n",
    "\n",
    "  return tensor, lang_tokenizer"
   ]
  },
  {
   "cell_type": "code",
   "execution_count": 9,
   "metadata": {},
   "outputs": [],
   "source": [
    "def load_dataset():\n",
    "    # 创建清理过的输入输出对\n",
    "    input_tensor, inp_lang_tokenizer = tokenize(processed_contexts_en)\n",
    "    target_tensor, targ_lang_tokenizer = tokenize(processed_contexts_ch)\n",
    "\n",
    "    return input_tensor, target_tensor, inp_lang_tokenizer, targ_lang_tokenizer"
   ]
  },
  {
   "cell_type": "code",
   "execution_count": 10,
   "metadata": {},
   "outputs": [
    {
     "name": "stdout",
     "output_type": "stream",
     "text": [
      "inp_lang词典大小 105877\n"
     ]
    },
    {
     "data": {
      "text/plain": [
       "([[3, 19, 90, 249, 296, 4], [19, 90]], '的')"
      ]
     },
     "execution_count": 10,
     "metadata": {},
     "output_type": "execute_result"
    }
   ],
   "source": [
    "input_tensor, target_tensor, inp_lang, targ_lang = load_dataset()\n",
    "input_tensor[-1], target_tensor[-1]\n",
    "print('inp_lang词典大小', len(inp_lang.index_word))\n",
    "inp_lang.texts_to_sequences(['<start> hello world <end>', 'head of'])\n",
    "targ_lang.texts_to_sequences(['<start> 你 好 世 界 <end>', '你 好']), targ_lang.index_word[1]"
   ]
  },
  {
   "cell_type": "code",
   "execution_count": 11,
   "metadata": {},
   "outputs": [],
   "source": [
    "# 计算目标张量的最大长度 （max_length）\n",
    "max_length_targ, max_length_inp = max_length(target_tensor), max_length(input_tensor)"
   ]
  },
  {
   "cell_type": "code",
   "execution_count": 12,
   "metadata": {},
   "outputs": [
    {
     "name": "stdout",
     "output_type": "stream",
     "text": [
      "255000 255000 45001 45001\n"
     ]
    }
   ],
   "source": [
    "# 采用 80 - 20 的比例切分训练集和验证集\n",
    "input_tensor_train, input_tensor_val, target_tensor_train, target_tensor_val = train_test_split(input_tensor, target_tensor, test_size=0.15)\n",
    "\n",
    "# 显示长度\n",
    "print(len(input_tensor_train), len(target_tensor_train), len(input_tensor_val), len(target_tensor_val))"
   ]
  },
  {
   "cell_type": "code",
   "execution_count": 13,
   "metadata": {},
   "outputs": [],
   "source": [
    "def convert(lang, tensor):\n",
    "  for t in tensor:\n",
    "    if t!=0:\n",
    "      print (\"%d ----> %s\" % (t, lang.index_word[t]))"
   ]
  },
  {
   "cell_type": "code",
   "execution_count": 14,
   "metadata": {
    "scrolled": true
   },
   "outputs": [
    {
     "name": "stdout",
     "output_type": "stream",
     "text": [
      "Input Language; index to word mapping\n",
      "3 ----> <start>\n",
      "96 ----> how\n",
      "58 ----> do\n",
      "15 ----> you\n",
      "3013 ----> replace\n",
      "1 ----> the\n",
      "40 ----> all\n",
      "3146 ----> singing\n",
      "5 ----> ,\n",
      "40 ----> all\n",
      "2679 ----> dancing\n",
      "116 ----> man\n",
      "2469 ----> alive\n",
      "20 ----> as\n",
      "19890 ----> oscars\n",
      "1829 ----> host\n",
      "48 ----> ?\n",
      "4 ----> <end>\n",
      "\n",
      "Target Language; index to word mapping\n",
      "3 ----> <start>\n",
      "19 ----> 你\n",
      "51 ----> 如\n",
      "211 ----> 何\n",
      "299 ----> 取\n",
      "228 ----> 代\n",
      "6 ----> 一\n",
      "16 ----> 个\n",
      "32 ----> 能\n",
      "883 ----> 歌\n",
      "793 ----> 善\n",
      "886 ----> 舞\n",
      "1 ----> 的\n",
      "150 ----> 全\n",
      "238 ----> 球\n",
      "106 ----> 最\n",
      "76 ----> 性\n",
      "204 ----> 感\n",
      "542 ----> 男\n",
      "14 ----> 人\n",
      "25 ----> 来\n",
      "131 ----> 主\n",
      "260 ----> 持\n",
      "757 ----> 奥\n",
      "189 ----> 斯\n",
      "597 ----> 卡\n",
      "237 ----> ？\n",
      "4 ----> <end>\n"
     ]
    }
   ],
   "source": [
    "print (\"Input Language; index to word mapping\")\n",
    "convert(inp_lang, input_tensor_train[0])\n",
    "print ()\n",
    "print (\"Target Language; index to word mapping\")\n",
    "convert(targ_lang, target_tensor_train[0])"
   ]
  },
  {
   "cell_type": "code",
   "execution_count": 15,
   "metadata": {},
   "outputs": [],
   "source": [
    "BUFFER_SIZE = len(input_tensor_train)\n",
    "BATCH_SIZE = 256\n",
    "steps_per_epoch = len(input_tensor_train)//BATCH_SIZE\n",
    "embedding_dim = 256\n",
    "units = 1024\n",
    "vocab_inp_size = len(inp_lang.word_index)+1\n",
    "vocab_tar_size = len(targ_lang.word_index)+1\n",
    "\n",
    "dataset = tf.data.Dataset.from_tensor_slices((input_tensor_train, target_tensor_train)).shuffle(BUFFER_SIZE)\n",
    "dataset = dataset.batch(BATCH_SIZE, drop_remainder=True)"
   ]
  },
  {
   "cell_type": "code",
   "execution_count": 16,
   "metadata": {
    "scrolled": true
   },
   "outputs": [
    {
     "data": {
      "text/plain": [
       "(<tf.Tensor: id=18, shape=(256, 53), dtype=int32, numpy=\n",
       " array([[    3,  3560,    26, ...,     0,     0,     0],\n",
       "        [    3,     5,     1, ...,     0,     0,     0],\n",
       "        [    3, 29049,    53, ...,     0,     0,     0],\n",
       "        ...,\n",
       "        [    3,     7,    25, ...,     0,     0,     0],\n",
       "        [    3,    49,    15, ...,     0,     0,     0],\n",
       "        [    3,    11,    14, ...,     0,     0,     0]], dtype=int32)>,\n",
       " <tf.Tensor: id=19, shape=(256, 61), dtype=int32, numpy=\n",
       " array([[  3, 194, 618, ...,   0,   0,   0],\n",
       "        [  3, 327,  76, ...,   0,   0,   0],\n",
       "        [  3,  10,  17, ...,   0,   0,   0],\n",
       "        ...,\n",
       "        [  3, 324, 383, ...,   0,   0,   0],\n",
       "        [  3,  91,  19, ...,   0,   0,   0],\n",
       "        [  3,   7, 554, ...,   0,   0,   0]], dtype=int32)>)"
      ]
     },
     "execution_count": 16,
     "metadata": {},
     "output_type": "execute_result"
    }
   ],
   "source": [
    "example_input_batch, example_target_batch = next(iter(dataset))\n",
    "example_input_batch, example_target_batch"
   ]
  },
  {
   "cell_type": "markdown",
   "metadata": {},
   "source": [
    "#### self-attention机制的transformer实现:\n",
    "1、编码器:是由 N=6 个相同的网络层构成，每层中包含两个子层。第一层为一个 Multi-Head Self-Attention 层，第二层为一个 Position-Wise 全链接的前馈神经网络。每一层再应用一个残差连接 (Residual Connection) 7 和一个层标准化 (Layer Normalization) 8。则每一层的输出为 Layer(x + sublayer(x))，其中`sublayer(x)`为子层本身的函数实现。为了实现 为了实现残差连接，模型中所有的子层包括 Embedding 层的输出维度均为 dmodel=512。\n",
    "\n",
    "２、解码器: 也是由 N=6 个相同的网络层构成，但每层中包含三个子层，增加的第三层用于处理编码器的输出。同编码器一样，每一层应用一个残差连接和一个层标准化。除此之外，解码器对 Self-Attention 层进行了修改，确保对于位置  的预测仅依赖于位置在  之前的输出。"
   ]
  },
  {
   "attachments": {
    "image.png": {
     "image/png": "[encoded data removed]"
    }
   },
   "cell_type": "markdown",
   "metadata": {},
   "source": [
    "#### 重点的几个部分：\n",
    "① self_attention层(Multi-head attention)组件, Attention(Q, K, V) = softmax({Q . trans(K) /sqrt(d_k)) V\n",
    "\n",
    "② feed_forword层组件\n",
    "如图：\n",
    "![image.png](attachment:image.png)"
   ]
  },
  {
   "cell_type": "code",
   "execution_count": 17,
   "metadata": {},
   "outputs": [],
   "source": [
    "# mask的理解我觉得是 transformer最难的点之一\n",
    "# 计算mask矩阵，需要注意的是，为了计算 softmax scaled_attention_logits += (mask * -1e9)，mask位置取1，非mask位置取0\n",
    "def create_padding_mask(seq):\n",
    "    \"\"\"\n",
    "    计算sequence的mask\n",
    "    \"\"\"\n",
    "    seq = tf.cast(tf.math.equal(seq, 0), tf.float32)\n",
    "\n",
    "    return seq[:, tf.newaxis, :]  # (batch_size, 1, 1, seq_len)"
   ]
  },
  {
   "cell_type": "code",
   "execution_count": 18,
   "metadata": {
    "scrolled": false
   },
   "outputs": [
    {
     "data": {
      "text/plain": [
       "<tf.Tensor: id=27, shape=(3, 1, 5), dtype=float32, numpy=\n",
       "array([[[0., 0., 1., 1., 0.]],\n",
       "\n",
       "       [[0., 0., 0., 1., 1.]],\n",
       "\n",
       "       [[1., 1., 1., 0., 0.]]], dtype=float32)>"
      ]
     },
     "execution_count": 18,
     "metadata": {},
     "output_type": "execute_result"
    }
   ],
   "source": [
    "x = tf.constant([[7, 6, 0, 0, 1], [1, 2, 3, 0, 0], [0, 0, 0, 4, 5]])\n",
    "create_padding_mask(x)"
   ]
  },
  {
   "cell_type": "code",
   "execution_count": 19,
   "metadata": {
    "scrolled": true
   },
   "outputs": [
    {
     "data": {
      "text/plain": [
       "<tf.Tensor: id=33, shape=(3, 3), dtype=float32, numpy=\n",
       "array([[1., 0., 0.],\n",
       "       [1., 1., 0.],\n",
       "       [1., 1., 1.]], dtype=float32)>"
      ]
     },
     "execution_count": 19,
     "metadata": {},
     "output_type": "execute_result"
    }
   ],
   "source": [
    "# 生成一个下三角矩阵：\n",
    "tf.linalg.band_part(tf.ones((3,3)), -1, 0)"
   ]
  },
  {
   "cell_type": "code",
   "execution_count": 20,
   "metadata": {},
   "outputs": [],
   "source": [
    "# 创建一个用来解码器训练用的 前瞻遮掩　(look_ahead_mask)，用于遮挡一个序列中的后续标记，因为用来训练时，只能看见前面的序列，看不见后面\n",
    "def create_look_ahead_mask(size):\n",
    "    ahead_mask = 1 - tf.linalg.band_part(tf.ones((size, size)), -1, 0)\n",
    "    \n",
    "    return ahead_mask"
   ]
  },
  {
   "cell_type": "code",
   "execution_count": 21,
   "metadata": {},
   "outputs": [
    {
     "data": {
      "text/plain": [
       "<tf.Tensor: id=41, shape=(5, 5), dtype=float32, numpy=\n",
       "array([[0., 1., 1., 1., 1.],\n",
       "       [0., 0., 1., 1., 1.],\n",
       "       [0., 0., 0., 1., 1.],\n",
       "       [0., 0., 0., 0., 1.],\n",
       "       [0., 0., 0., 0., 0.]], dtype=float32)>"
      ]
     },
     "execution_count": 21,
     "metadata": {},
     "output_type": "execute_result"
    }
   ],
   "source": [
    "create_look_ahead_mask(5)"
   ]
  },
  {
   "attachments": {
    "image.png": {
     "image/png": "[encoded data removed]"
    }
   },
   "cell_type": "markdown",
   "metadata": {},
   "source": [
    "![image.png](attachment:image.png)"
   ]
  },
  {
   "cell_type": "markdown",
   "metadata": {},
   "source": [
    "####     q, k, v都是经过计算后的向量，且为了方便后续解码器使用，将q,k,v的seq_len和depth作区分，q@k需要depth_q=depth_k,记作depth\n",
    "    q: (batch_size, num_heads, seq_len_q, depth)\n",
    "    k: (batch_size, num_heads, seq_len_k, depth)\n",
    "    v: (batch_size, num_heads, seq_len_v, depth_v)\n",
    "    mask: (batch_size, seq_len_q, seq_len_k)\n"
   ]
  },
  {
   "cell_type": "code",
   "execution_count": 22,
   "metadata": {},
   "outputs": [],
   "source": [
    "def compute_scaled_dot_product_attention(q, k, v, mask=None):\n",
    "    \"\"\"\n",
    "    q, k, v都是经过计算后的向量，且为了方便后续解码器使用，将q,k,v的seq_len和depth作区分，q@k需要depth_q=depth_k,记作depth\n",
    "    q: (batch_size, num_heads, seq_len_q, depth)\n",
    "    k: (batch_size, num_heads, seq_len_k, depth)\n",
    "    v: (batch_size, num_heads, seq_len_v, depth_v)\n",
    "    mask: (batch_size, seq_len_q, seq_len_k)\n",
    "    \n",
    "    \"\"\"\n",
    "    # Q .transpose(K)\n",
    "    # tf.matmul()中的transpose_b默认从最后两位进行转置(tf.transpose(x, perm=[0,1,3,2]))，即得(batch_size, num_heads, seq_len_q, seq_len_k)\n",
    "    mat_qk = tf.matmul(q, k, transpose_b=True)\n",
    "    # sqrt(dk)\n",
    "    dk = tf.cast(tf.shape(k)[-1], tf.float32)  # depth\n",
    "    scaled_attention_logits = mat_qk / tf.math.sqrt(dk)    # (batch_size, num_heads, seq_len_q, seq_len_k)\n",
    "    # 加上mask\n",
    "    if mask is not None:\n",
    "        # 先将mask转换 mask: (batch_size, seq_len_q, seq_len_k) --> (batch_size, 1 , seq_len_q, seq_len_k)，然后使用广播机制\n",
    "        mask = mask[:, tf.newaxis, : , :]\n",
    "        # 由于后面计算softmax方便，1e0为1，不能起到mask的作用，所以使用 -1e9接近无穷大操作，起到mask作用\n",
    "        scaled_attention_logits += (mask * -1e9)   # batch_size, num_heads, seq_len_q, seq_len_k\n",
    "\n",
    "    # 计算权重\n",
    "    attention_weights = tf.nn.softmax(scaled_attention_logits, axis=-1) # batch_size, num_heads, seq_lenq, seq_len_k\n",
    "    # 计算value: (bz, nh, sql, sql) @ (bz, nh, sql, depth_v) -->　(bz, nh, sql, depth_v)\n",
    "    output = tf.matmul(attention_weights, v)    # 然后将多个头的output拼接起来\n",
    "    \n",
    "    return output, attention_weights"
   ]
  },
  {
   "attachments": {
    "image.png": {
     "image/png": "[encoded data removed]"
    }
   },
   "cell_type": "markdown",
   "metadata": {},
   "source": [
    "#### ![image.png](attachment:image.png)"
   ]
  },
  {
   "cell_type": "code",
   "execution_count": 23,
   "metadata": {},
   "outputs": [],
   "source": [
    "# 定义　MultiHeadAttention:参数: d_model, num_heads\n",
    "# multi_head_attention输入为 inputs 维度 (batch_size, seq_len, head_out)\n",
    "\n",
    "class MultiHeadAttention(tf.keras.layers.Layer):\n",
    "    def __init__(self, d_model, num_heads):\n",
    "        super(MultiHeadAttention, self).__init__()\n",
    "        self.num_heads = num_heads\n",
    "        self.d_model = d_model\n",
    "        \n",
    "        # 输出维度除以head数应为整数\n",
    "        assert self.d_model % self.num_heads == 0\n",
    "        # 单个head的维度 (batch, seq_len, self.depth)\n",
    "        self.depth = self.d_model // self.num_heads\n",
    "        \n",
    "        # 定义Q, K, V注意力矩阵,同时定义多头，然后使用reshape\n",
    "        self.wq = tf.keras.layers.Dense(d_model)\n",
    "        self.wk = tf.keras.layers.Dense(d_model)\n",
    "        self.wv = tf.keras.layers.Dense(d_model)\n",
    "        # 线性层\n",
    "        self.dense = tf.keras.layers.Dense(d_model)\n",
    "        \n",
    "    def split_heads(self, x):\n",
    "        \"\"\"\n",
    "        x : (batch_size, seq_len, d_model)\n",
    "        \"\"\"\n",
    "        x = tf.reshape(x, [tf.shape(x)[0], -1, self.num_heads, self.depth])\n",
    "        \n",
    "        return tf.transpose(x, perm=[0, 2, 1, 3])\n",
    "    \n",
    "    def call(self, v, k, q, mask):\n",
    "        \"\"\"这里要把在编码器中，q,k,v是相同的，但是将 q,k,v拆分开写，方便后续解码器使用不同的v, k, q\n",
    "        \"\"\"\n",
    "        q = self.wq(q)    # (batch_size, seq_len, d_model)\n",
    "        k = self.wk(k)\n",
    "        v = self.wv(v)\n",
    "        \n",
    "        # 拆分成多头\n",
    "        q = self.split_heads(q)    # (batch_size, num_heads, seq_len, self.depth)\n",
    "        k = self.split_heads(k)\n",
    "        v = self.split_heads(v)\n",
    "\n",
    "        #(bz, nh, sql, sql)\n",
    "        scaled_attention, attention_weights = compute_scaled_dot_product_attention(q, k, v, mask)\n",
    "        \n",
    "        concat_attention = tf.reshape(scaled_attention, (tf.shape(scaled_attention)[0], -1, self.d_model))\n",
    "        # 经过 linear层\n",
    "        output = self.dense(concat_attention)    # (batch_size, seq_len, d_model)\n",
    "        # print(output.shape)\n",
    "\n",
    "        return output, attention_weights"
   ]
  },
  {
   "cell_type": "code",
   "execution_count": 24,
   "metadata": {},
   "outputs": [
    {
     "data": {
      "text/plain": [
       "(TensorShape([2, 60, 512]), TensorShape([2, 8, 60, 60]))"
      ]
     },
     "execution_count": 24,
     "metadata": {},
     "output_type": "execute_result"
    }
   ],
   "source": [
    "temp_mha = MultiHeadAttention(num_heads=8, d_model=512)\n",
    "x = tf.random.uniform((2, 60, 512))  # (batch_size, encoder_sequence, d_model)\n",
    "out, attn = temp_mha(x, x, x, mask=None)\n",
    "out, attn = temp_mha(out, out, out, mask=None)\n",
    "out.shape, attn.shape"
   ]
  },
  {
   "cell_type": "markdown",
   "metadata": {},
   "source": [
    "#### 定义 Feed_Forward前馈神经网络\n",
    "点式前馈网络由两层全联接层组成，两层之间有一个 ReLU 激活函数。"
   ]
  },
  {
   "cell_type": "code",
   "execution_count": 25,
   "metadata": {},
   "outputs": [],
   "source": [
    "def point_wise_feed_forward_network(d_model, dff):\n",
    "    \"\"\"一个比较奇怪的操作\n",
    "    \"\"\"\n",
    "    return tf.keras.Sequential([\n",
    "        tf.keras.layers.Dense(dff, activation='relu'),\n",
    "        tf.keras.layers.Dense(d_model)\n",
    "    ])"
   ]
  },
  {
   "attachments": {
    "image.png": {
     "image/png": "[encoded data removed]"
    }
   },
   "cell_type": "markdown",
   "metadata": {},
   "source": [
    "多层transformer的编码器和解码器：\n",
    "![image.png](attachment:image.png)\n",
    "再来回顾一下transformer结构，并没有脱离注意力机制的设计:\n",
    "\n",
    "1、输入语句经过编码器层，为每个序列生成对应输出序列\n",
    "\n",
    "2、解码器关注编码器的输出及自身输入预测下一个序列，不同于Luong attention类型，由于非递归式的，所以使用下三角mask遮掩后面的词)\n",
    "\n",
    "3、基于transformer的设计，q应该来源于解码器,k,v来源与编码器，这种和seq2seq-attention如出一辙，相当统一\n",
    "\n",
    "4、由于使用了self_attention做并行计算，那么mask设计成(batch_size, seq_len_encoder, seq_len_decoder)，且解码器需要一个下三角矩阵来做mask"
   ]
  },
  {
   "cell_type": "markdown",
   "metadata": {},
   "source": [
    "### 编码器层（Encoder layer）\n",
    "每个编码器层包括以下子层：\n",
    "\n",
    "1、多头注意力（有填充遮挡）\n",
    "\n",
    "2、点式前馈网络（Point wise feed forward networks）。"
   ]
  },
  {
   "cell_type": "code",
   "execution_count": 26,
   "metadata": {},
   "outputs": [],
   "source": [
    "class EncoderLayer(tf.keras.layers.Layer):\n",
    "    \"\"\"定义一个单层的encoder组件\n",
    "    1、包含多头注意力\n",
    "    2、包含Feed_Forward\n",
    "    3、残差链接并层归一化 LayerNorm(x + Sublayer(x))\n",
    "    4、dropout层\n",
    "    \"\"\"\n",
    "    def __init__(self, d_model, num_heads, intermediate_size, rate=0.1):\n",
    "        super(EncoderLayer, self).__init__()\n",
    "        # 点式前馈网络\n",
    "        self.feed_forward = point_wise_feed_forward_network(d_model, intermediate_size)\n",
    "        # 多头注意力\n",
    "        self.multi_head_att = MultiHeadAttention(d_model, num_heads)\n",
    "        # layer_normalization\n",
    "        self.layernorm1 = tf.keras.layers.LayerNormalization(axis=-1, epsilon=1e-6)\n",
    "        self.layernorm2 = tf.keras.layers.LayerNormalization(axis=-1, epsilon=1e-6)\n",
    "        # dropout\n",
    "        self.dropout1 = tf.keras.layers.Dropout(rate)\n",
    "        self.dropout2 = tf.keras.layers.Dropout(rate)\n",
    "    \n",
    "    def call(self, x, training, mask):\n",
    "        \"\"\"\n",
    "        输入：(batch_size, input_seq_len, d_model)\n",
    "        输出: (batch_size, input_seq_len, d_model)\n",
    "        \"\"\"\n",
    "        # 多头注意力\n",
    "        multi_head_att, _ = self.multi_head_att(x, x, x, mask)   # (batch_size, input_seq_len, d_model)\n",
    "        # dropout层\n",
    "        #tf.print('multi_head_att:', multi_head_att.shape)\n",
    "        dropout1 = self.dropout1(multi_head_att, training=training)   # (batch_size, input_seq_len, d_model)\n",
    "        # layer_norm层: LayerNorm(x + Sublayer(x))\n",
    "        layer_norm1 = self.layernorm1(x + dropout1)   # (batch_size, input_seq_len, d_model)\n",
    "        # feed_forward\n",
    "        feed_forward = self.feed_forward(layer_norm1)\n",
    "        # dropout2\n",
    "        dropout2 = self.dropout2(feed_forward, training=training)\n",
    "        # layer_norm2\n",
    "        out = self.layernorm2(layer_norm1 + dropout2)\n",
    "        \n",
    "        return out"
   ]
  },
  {
   "cell_type": "code",
   "execution_count": 27,
   "metadata": {},
   "outputs": [
    {
     "data": {
      "text/plain": [
       "TensorShape([64, 43, 512])"
      ]
     },
     "execution_count": 27,
     "metadata": {},
     "output_type": "execute_result"
    }
   ],
   "source": [
    "#测试一下\n",
    "sample_encoder_layer = EncoderLayer(512, 8, 2048)\n",
    "\n",
    "sample_encoder_layer_output = sample_encoder_layer(\n",
    "    tf.random.uniform((64, 43, 512)), False, None)\n",
    "\n",
    "sample_encoder_layer_output.shape  # (batch_size, input_seq_len, d_model)"
   ]
  },
  {
   "cell_type": "markdown",
   "metadata": {},
   "source": [
    "### 解码器层：Decoder layer\n",
    "\n",
    "每个解码器层包括以下子层：\n",
    "\n",
    "1、遮掩的多头注意力(前瞻遮掩和填充遮掩两种)\n",
    "\n",
    "2、多头注意力（用填充遮挡）。V（数值）和 K（主键）接收编码器输出作为输入。Q（请求）接收遮挡的多头注意力子层的输出。\n",
    "\n",
    "3、点式前馈网络"
   ]
  },
  {
   "cell_type": "code",
   "execution_count": 28,
   "metadata": {},
   "outputs": [],
   "source": [
    "class DecoderLayer(tf.keras.layers.Layer):\n",
    "    \"\"\"解码器\n",
    "    解码器与编码器略有不同，总共有两层多头注意力层，且第二层的k,v来自编码器\n",
    "    \"\"\"\n",
    "    def __init__(self, d_model, num_heads, intermediate_size, rate=0.1):\n",
    "        super(DecoderLayer, self).__init__()\n",
    "        # 两层多头注意力层\n",
    "        self.multi_head_att1 = MultiHeadAttention(d_model, num_heads)\n",
    "        self.multi_head_att2 = MultiHeadAttention(d_model, num_heads)\n",
    "        \n",
    "        # 点式前馈网络\n",
    "        self.feed_forward = point_wise_feed_forward_network(d_model, intermediate_size)\n",
    "        \n",
    "        # layer_normalization\n",
    "        self.layernorm1 = tf.keras.layers.LayerNormalization(epsilon=1e-6)\n",
    "        self.layernorm2 = tf.keras.layers.LayerNormalization(epsilon=1e-6)\n",
    "        self.layernorm3 = tf.keras.layers.LayerNormalization(epsilon=1e-6)\n",
    "        \n",
    "        # dropout层\n",
    "        self.dropout1 = tf.keras.layers.Dropout(rate)\n",
    "        self.dropout2 = tf.keras.layers.Dropout(rate)\n",
    "        self.dropout3 = tf.keras.layers.Dropout(rate)\n",
    "        \n",
    "    def call(self, x, enc_output, training, look_ahead_mask, padding_mask):\n",
    "        \"\"\"\n",
    "        x: 解码器输入\n",
    "        enc_outputc: 编码器输出\n",
    "        traininga: 是否训练阶段\n",
    "        look_ahead_mask: 解码器中使用的后向遮掩\n",
    "        padding_mask: padding_mask\n",
    "        \"\"\"\n",
    "        # 计算第一层att，使用 look_ahead_mask\n",
    "        dec_mth1, dec_att_weight1 = self.multi_head_att1(x, x, x, look_ahead_mask)\n",
    "        dec_dropout1 = self.dropout1(dec_mth1, training=training)\n",
    "        dec_layernorm1 = self.layernorm1(x + dec_dropout1)\n",
    "        # 计算第二层att，q为第一层输出，k,v为编码器输出\n",
    "        dec_mth2, dec_att_weight2 = self.multi_head_att2(enc_output, enc_output, dec_layernorm1, padding_mask)\n",
    "        dec_dropout2 = self.dropout2(dec_mth2, training=training)\n",
    "        dec_layernorm2 = self.layernorm2(dec_layernorm1 + dec_dropout2)\n",
    "        # 计算点式前馈\n",
    "        dec_ff = self.feed_forward(dec_layernorm2)\n",
    "        dec_dropout3 = self.dropout3(dec_ff, training=training)\n",
    "        out = self.layernorm3(dec_layernorm2 + dec_dropout3)\n",
    "        \n",
    "        return out, dec_att_weight1, dec_att_weight2"
   ]
  },
  {
   "cell_type": "code",
   "execution_count": 29,
   "metadata": {
    "scrolled": true
   },
   "outputs": [
    {
     "data": {
      "text/plain": [
       "TensorShape([64, 50, 512])"
      ]
     },
     "execution_count": 29,
     "metadata": {},
     "output_type": "execute_result"
    }
   ],
   "source": [
    "# 测试一下\n",
    "sample_decoder_layer = DecoderLayer(512, 8, 2048)\n",
    "\n",
    "sample_decoder_layer_output, _, _ = sample_decoder_layer(\n",
    "    tf.random.uniform((64, 50, 512)), sample_encoder_layer_output, \n",
    "    False, None, None)\n",
    "\n",
    "sample_decoder_layer_output.shape  # (batch_size, target_seq_len, d_model)"
   ]
  },
  {
   "cell_type": "markdown",
   "metadata": {},
   "source": [
    "#### 编码器（Encoder）:\n",
    "    1、输入嵌入 (input embedding)\n",
    "    2、位置编码 (Position encodding)\n",
    "    3、N个编码器层\n",
    "Large{PE_{(pos, 2i)} = sin(pos / 10000^{2i / d_{model}})};\n",
    "\n",
    "Large{PE_{(pos, 2i+1)} = cos(pos / 10000^{2i / d_{model}})}\n",
    "\n",
    "这样做有两个好处：\n",
    "\n",
    "1、范围处于0-1\n",
    "\n",
    "2、相邻位置和远距离位置向量在向量距离上也有对应大小"
   ]
  },
  {
   "cell_type": "code",
   "execution_count": 30,
   "metadata": {},
   "outputs": [],
   "source": [
    "# 相对位置编码函数\n",
    "def get_angles(pos, i, d_model):\n",
    "    \"\"\"计算 pos / 10000^{2i / d_{model}\n",
    "    \"\"\"\n",
    "#     print(pos.shape)    # (50, 1)\n",
    "#     print(i) # list 0-d_model\n",
    "    angle_rates = 1 / np.power(10000, (2 * (i//2)) / np.float32(d_model))\n",
    "    return pos * angle_rates\n",
    "\n",
    "def position_embedding(position, d_model):\n",
    "    angle_rads = get_angles(np.arange(position)[:, np.newaxis],\n",
    "                          np.arange(d_model)[np.newaxis, :],\n",
    "                          d_model)\n",
    "\n",
    "    # 将 sin 应用于数组中的偶数索引（indices）；2i\n",
    "    angle_rads[:, 0::2] = np.sin(angle_rads[:, 0::2])\n",
    "\n",
    "    # 将 cos 应用于数组中的奇数索引；2i+1\n",
    "    angle_rads[:, 1::2] = np.cos(angle_rads[:, 1::2])\n",
    "\n",
    "    pos_encoding = angle_rads[np.newaxis, ...]\n",
    "\n",
    "    return tf.cast(pos_encoding, dtype=tf.float32)"
   ]
  },
  {
   "cell_type": "code",
   "execution_count": 31,
   "metadata": {
    "scrolled": true
   },
   "outputs": [
    {
     "name": "stdout",
     "output_type": "stream",
     "text": [
      "(1, 50, 512)\n"
     ]
    },
    {
     "data": {
      "image/png": "[encoded data removed]",
      "text/plain": [
       "<Figure size 432x288 with 2 Axes>"
      ]
     },
     "metadata": {
      "needs_background": "light"
     },
     "output_type": "display_data"
    }
   ],
   "source": [
    "pos_encoding = position_embedding(50, 512)    # 以512维编码50长度的位置向量\n",
    "print (pos_encoding.shape)\n",
    "# print(pos_encoding[0])\n",
    "plt.pcolormesh(pos_encoding[0], cmap='RdBu')\n",
    "plt.xlabel('Depth')\n",
    "plt.xlim((0, 512))\n",
    "plt.ylabel('Position')\n",
    "plt.colorbar()\n",
    "plt.show()"
   ]
  },
  {
   "cell_type": "code",
   "execution_count": 32,
   "metadata": {},
   "outputs": [],
   "source": [
    "class Encoder(tf.keras.layers.Layer):\n",
    "    \"\"\"多层编码器堆叠\n",
    "    \"\"\"\n",
    "    def __init__(self, num_layers, d_model, num_heads, intermediate_size, input_vocab_size, \n",
    "                 maximum_position_encoding, rate=0.1):\n",
    "        \"\"\"\n",
    "        num_layers: encoder_layer层数\n",
    "        d_model: encoder输出维度, 也是每层encoder_layer输出维度\n",
    "        num_heads: attention头的个数，也可以看成通道数\n",
    "        intermediate_sizee: 点式前馈网络feed_forward中dense转换维度\n",
    "        input_vocab_size: 词表大小\n",
    "        maximum_position_encoding: 最大位置编码\n",
    "        rate: Dropout学习率\n",
    "        \"\"\"\n",
    "        super(Encoder, self).__init__()\n",
    "        self.d_model = d_model\n",
    "        self.num_layers = num_layers\n",
    "        \n",
    "        # 添加 embedding层\n",
    "        self.embedding = tf.keras.layers.Embedding(input_vocab_size, d_model)\n",
    "        # 位置 embedding层\n",
    "        self.position_embedding = position_embedding(maximum_position_encoding, self.d_model)\n",
    "        # N层编码器层\n",
    "        self.enc_layers = [EncoderLayer(d_model, num_heads, intermediate_size, rate) for i in range(num_layers)]\n",
    "        # Dropout层\n",
    "        self.dropout = tf.keras.layers.Dropout(rate)\n",
    "        \n",
    "    def call(self, x, training, mask):\n",
    "        \"\"\"x : (batch_size, seq_len)\n",
    "        \"\"\"\n",
    "        # 获取批次最大长度\n",
    "        seq_len = tf.shape(x)[1]\n",
    "        # 将嵌入和位置编码相加\n",
    "        x = self.embedding(x)    # (batch_size, seq_len, d_model)\n",
    "        x *= tf.math.sqrt(tf.cast(self.d_model, tf.float32))    # 主要是为了减小弱化pos_embedding的影响\n",
    "        # 取seq_len长度的position_embedding，然后add\n",
    "        x += self.position_embedding[: , :seq_len, :]\n",
    "        \n",
    "        x = self.dropout(x, training=training)\n",
    "        \n",
    "        # 加载 encoder_layer\n",
    "        for i in range(self.num_layers):\n",
    "            x = self.enc_layers[i](x, training, mask)\n",
    "\n",
    "        return x"
   ]
  },
  {
   "cell_type": "code",
   "execution_count": 33,
   "metadata": {
    "scrolled": true
   },
   "outputs": [
    {
     "name": "stdout",
     "output_type": "stream",
     "text": [
      "(64, 100, 512)\n"
     ]
    }
   ],
   "source": [
    "sample_encoder = Encoder(num_layers=2, d_model=512, num_heads=8, \n",
    "                         intermediate_size=2048, input_vocab_size=8500,\n",
    "                         maximum_position_encoding=10000)\n",
    "\n",
    "sample_encoder_output = sample_encoder(tf.random.uniform((64, 100)), \n",
    "                                       training=False, mask=None)\n",
    "\n",
    "print (sample_encoder_output.shape)  # (batch_size, input_seq_len, d_model)"
   ]
  },
  {
   "cell_type": "code",
   "execution_count": 34,
   "metadata": {},
   "outputs": [],
   "source": [
    "class Decoder(tf.keras.layers.Layer):\n",
    "    \"\"\"解码器和编码器略有不同\n",
    "    \"\"\"\n",
    "    def __init__(self, num_layers, d_model, num_heads, intermediate_size, target_vocab_size, \n",
    "                 maximum_position_encoding, rate=0.1):\n",
    "        \"\"\"\n",
    "        num_layers: decoder_layer层数\n",
    "        d_model: decoder输出维度, 也是每层decoder_layer输出维度\n",
    "        num_heads: attention头的个数，也可以看成通道数\n",
    "        intermediate_sizee: 点式前馈网络feed_forward中dense转换维度\n",
    "        target_vocab_size: 词表大小\n",
    "        maximum_position_encoding: 最大位置编码\n",
    "        rate: Dropout学习率\n",
    "        \"\"\"\n",
    "        super(Decoder, self).__init__()\n",
    "        self.d_model = d_model\n",
    "        self.num_layers = num_layers\n",
    "        \n",
    "        # 添加 embedding层\n",
    "        self.embedding = tf.keras.layers.Embedding(target_vocab_size, d_model)\n",
    "        # 位置 embedding层\n",
    "        self.position_embedding = position_embedding(maximum_position_encoding, self.d_model)\n",
    "        # N层编码器层\n",
    "        self.dec_layers = [DecoderLayer(d_model, num_heads, intermediate_size, rate) for i in range(num_layers)]\n",
    "        # Dropout层\n",
    "        self.dropout = tf.keras.layers.Dropout(rate)\n",
    "        \n",
    "    def call(self, x, enc_output, training, look_ahead_mask, padding_mask):\n",
    "        # 获取批次最大长度\n",
    "        seq_len = tf.shape(x)[1]\n",
    "        # 记录attention_weights\n",
    "        att_weights = {}\n",
    "        \n",
    "        x = self.embedding(x)    # (batch_size, seq_len, d_model)\n",
    "        x *= tf.math.sqrt(tf.cast(self.d_model, tf.float32))\n",
    "        x += self.position_embedding[: , :seq_len, :]\n",
    "        x = self.dropout(x, training)\n",
    "        # 解码器层: 输入：x, enc_output, training, look_ahead_mask, padding_mask\n",
    "        # 解码器层输出： out, dec_att_weight1, dec_att_weight2\n",
    "        for i in range(self.num_layers):\n",
    "            # 每层 enc_output都是encoder的输出，没有变\n",
    "            x, dec_att_weight1, dec_att_weight2 = self.dec_layers[i](x, enc_output, training, \n",
    "                                                                     look_ahead_mask, padding_mask)\n",
    "            att_weights['decoder_layer{}_block1'.format(i+1)] = dec_att_weight1 # 形状为:(bz,num_heads,s1l_q,sql_k)\n",
    "            att_weights['decoder_layer{}_block2'.format(i+1)] = dec_att_weight2 # 形状为:(bz,num_heads,s1l_q,sql_k)\n",
    "        \n",
    "        return x, att_weights"
   ]
  },
  {
   "cell_type": "code",
   "execution_count": 35,
   "metadata": {
    "scrolled": true
   },
   "outputs": [
    {
     "name": "stdout",
     "output_type": "stream",
     "text": [
      "(26, 26)\n",
      "tf.Tensor(\n",
      "[0.02495936 0.02574826 0.03195338 0.04221122 0.05034498 0.05064841\n",
      " 0.04675838 0.04656952 0.05509788 0.07284845 0.08965264 0.08671387\n",
      " 0.06405354 0.04123347 0.02814719 0.02317428 0.02290746 0.02462459\n",
      " 0.02609171 0.02637743 0.02597922 0.0252564  0.02342509 0.01962921\n",
      " 0.01476692 0.01082718], shape=(26,), dtype=float32)\n",
      "(26, 100)\n"
     ]
    },
    {
     "data": {
      "text/plain": [
       "(TensorShape([64, 26, 512]), TensorShape([64, 8, 26, 100]))"
      ]
     },
     "execution_count": 35,
     "metadata": {},
     "output_type": "execute_result"
    }
   ],
   "source": [
    "sample_decoder = Decoder(num_layers=2, d_model=512, num_heads=8, \n",
    "                        intermediate_size=2048, target_vocab_size=8000,\n",
    "                         maximum_position_encoding=5000)\n",
    "\n",
    "output, attn = sample_decoder(tf.random.uniform((64, 26)), \n",
    "                              enc_output=sample_encoder_output, \n",
    "                              training=False, look_ahead_mask=None, \n",
    "                              padding_mask=None)\n",
    "\n",
    "# 注意这两个的输出区别: block1_weight是 decoder端的自注意力weight\n",
    "print(attn['decoder_layer1_block1'][0][0].shape)\n",
    "print(attn['decoder_layer1_block1'][0][0][0])\n",
    "# block1_weight是 decoder是 decoder_q, encoder_k, encoder_v\n",
    "print(attn['decoder_layer1_block2'][0][1].shape)\n",
    "output.shape, attn['decoder_layer2_block2'].shape"
   ]
  },
  {
   "cell_type": "markdown",
   "metadata": {},
   "source": [
    "### 创建 Transformer\n",
    "1、len接编码器、解码器\n",
    "\n",
    "2、输出使用过线性层"
   ]
  },
  {
   "cell_type": "code",
   "execution_count": 36,
   "metadata": {},
   "outputs": [],
   "source": [
    "class Transformer(tf.keras.Model):\n",
    "    \"\"\"Transformer实现\n",
    "    \"\"\"\n",
    "    def __init__(self,num_layers, d_model, num_heads, intermediate_size, input_vocab_size,\n",
    "                 target_vocab_size, en_max_pos_encoding, de_max_pos_encoding, rate=0.1):\n",
    "        \"\"\"\n",
    "        num_layers: decoder_layer层数\n",
    "        d_model: decoder输出维度, 也是每层decoder_layer输出维度\n",
    "        num_heads: attention头的个数，也可以看成通道数\n",
    "        intermediate_sizee: 点式前馈网络feed_forward中dense转换维度\n",
    "        input_vocab_size: 词表大小\n",
    "        target_vocab_size: 输出词表大小\n",
    "        en_max_pos_encoding: encoder最大位置编码\n",
    "        de_max_pos_encoding：decoder最大位置编码\n",
    "        rate: Dropout学习率\n",
    "        \"\"\"\n",
    "        super(Transformer,self).__init__()\n",
    "        self.encoder = Encoder(num_layers, d_model, num_heads, intermediate_size, \n",
    "                               input_vocab_size, en_max_pos_encoding, rate)\n",
    "        self.decoder = Decoder(num_layers, d_model, num_heads, intermediate_size, \n",
    "                               input_vocab_size, de_max_pos_encoding, rate)\n",
    "        # 输出线性层\n",
    "        self.final_linear = tf.keras.layers.Dense(target_vocab_size)\n",
    "    \n",
    "    def call(self, inp, tar, training, enc_padding_mask, \n",
    "           look_ahead_mask, dec_padding_mask):\n",
    "\n",
    "        enc_output = self.encoder(inp, training, enc_padding_mask)  # (batch_size, inp_seq_len, d_model)\n",
    "\n",
    "        # dec_output.shape == (batch_size, tar_seq_len, d_model)\n",
    "        dec_output, attention_weights = self.decoder(\n",
    "            tar, enc_output, training, look_ahead_mask, dec_padding_mask)\n",
    "\n",
    "        final_output = self.final_linear(dec_output)  # (batch_size, tar_seq_len, target_vocab_size)\n",
    "\n",
    "        return final_output, attention_weights"
   ]
  },
  {
   "cell_type": "code",
   "execution_count": 37,
   "metadata": {},
   "outputs": [
    {
     "name": "stdout",
     "output_type": "stream",
     "text": [
      "['encoder_1', 'decoder_1', 'dense_84']\n"
     ]
    },
    {
     "data": {
      "text/plain": [
       "TensorShape([64, 26, 8000])"
      ]
     },
     "execution_count": 37,
     "metadata": {},
     "output_type": "execute_result"
    }
   ],
   "source": [
    "sample_transformer = Transformer(\n",
    "    num_layers=2, d_model=512, num_heads=8, intermediate_size=2048, \n",
    "    input_vocab_size=8500, target_vocab_size=8000, \n",
    "    en_max_pos_encoding=10000, de_max_pos_encoding=6000)\n",
    "\n",
    "temp_input = tf.random.uniform((64, 62))\n",
    "temp_target = tf.random.uniform((64, 26))\n",
    "\n",
    "fn_out, _ = sample_transformer(temp_input, temp_target, training=False, \n",
    "                               enc_padding_mask=None, \n",
    "                               look_ahead_mask=None,\n",
    "                               dec_padding_mask=None)\n",
    "print([l.name for l in sample_transformer.layers])\n",
    "\n",
    "fn_out.shape  # (batch_size, tar_seq_len, target_vocab_size)"
   ]
  },
  {
   "cell_type": "code",
   "execution_count": 38,
   "metadata": {},
   "outputs": [],
   "source": [
    "# 配置超参数\n",
    "num_layers = 4\n",
    "d_model = 128\n",
    "intermediate_size = 512\n",
    "num_heads = 8\n",
    "input_vocab_size = vocab_inp_size\n",
    "target_vocab_size = input_vocab_size\n",
    "dropout_rate = 0.1"
   ]
  },
  {
   "cell_type": "code",
   "execution_count": 39,
   "metadata": {},
   "outputs": [],
   "source": [
    "# 定义优化器,设置学习率调度\n",
    "class CustomSchedule(tf.keras.optimizers.schedules.LearningRateSchedule):\n",
    "    def __init__(self, d_model, warmup_steps=4000):\n",
    "        super(CustomSchedule, self).__init__()\n",
    "        \n",
    "        self.d_model = tf.cast(d_model, tf.float32)\n",
    "        self.warmup_steps = warmup_steps\n",
    "        \n",
    "    def __call__(self, step):\n",
    "        # tf.math.rsqrt即平方根的倒数\n",
    "        arg1 = tf.math.rsqrt(step)\n",
    "        # **表示指数 a**b = a^b\n",
    "        arg2 = step * (self.warmup_steps ** -1.5)\n",
    "        \n",
    "        return tf.math.rsqrt(self.d_model) * tf.math.minimum(arg1, arg2)"
   ]
  },
  {
   "cell_type": "code",
   "execution_count": 40,
   "metadata": {},
   "outputs": [
    {
     "data": {
      "text/plain": [
       "Text(0.5, 0, 'Train Step')"
      ]
     },
     "execution_count": 40,
     "metadata": {},
     "output_type": "execute_result"
    },
    {
     "data": {
      "image/png": "[encoded data removed]",
      "text/plain": [
       "<Figure size 432x288 with 1 Axes>"
      ]
     },
     "metadata": {
      "needs_background": "light"
     },
     "output_type": "display_data"
    }
   ],
   "source": [
    "temp_learning_rate_schedule = CustomSchedule(d_model)\n",
    "\n",
    "plt.plot(temp_learning_rate_schedule(tf.range(40000, dtype=tf.float32)))\n",
    "plt.ylabel(\"Learning Rate\")\n",
    "plt.xlabel(\"Train Step\")"
   ]
  },
  {
   "cell_type": "code",
   "execution_count": 41,
   "metadata": {},
   "outputs": [],
   "source": [
    "# 设置动态学习率\n",
    "learning_rate = CustomSchedule(d_model)\n",
    "\n",
    "optimizer = tf.keras.optimizers.Adam(learning_rate=learning_rate, beta_1=0.9, beta_2=0.98, epsilon=1e-9)"
   ]
  },
  {
   "cell_type": "markdown",
   "metadata": {},
   "source": [
    "### 定义损失函数"
   ]
  },
  {
   "cell_type": "code",
   "execution_count": 42,
   "metadata": {},
   "outputs": [],
   "source": [
    "loss = tf.keras.losses.SparseCategoricalCrossentropy(from_logits=True, reduction='none')\n",
    "\n",
    "def loss_function(real, pred):\n",
    "    # 计算mask\n",
    "    mask = tf.math.logical_not(tf.math.equal(real, 0))\n",
    "    loss_ = loss(real, pred)\n",
    "    mask = tf.cast(mask, dtype=loss_.dtype)\n",
    "    loss_ *= mask\n",
    "    \n",
    "    return tf.reduce_mean(loss_)\n",
    "\n",
    "# loss的计算方式\n",
    "\n",
    "train_loss = tf.keras.metrics.Mean(name='train_loss')\n",
    "train_accuracy = tf.keras.metrics.SparseCategoricalAccuracy(\n",
    "    name='train_accuracy')"
   ]
  },
  {
   "cell_type": "markdown",
   "metadata": {},
   "source": [
    "### 训练和检查点"
   ]
  },
  {
   "cell_type": "code",
   "execution_count": 43,
   "metadata": {},
   "outputs": [],
   "source": [
    "def create_masks(inp, tar):\n",
    "    # 编码器输入填充\n",
    "    enc_padding_mask = create_padding_mask(inp)\n",
    "    \n",
    "    # 解码器中的第二个注意力模块使用，该填充用于遮挡编码器的输出\n",
    "    dec_padding_mask = create_padding_mask(inp)\n",
    "    \n",
    "    # 在解码器的第一个注意力模块使用，用于填充和遮掩解码器的输入的后续future tokens\n",
    "    look_ahead_mask = create_look_ahead_mask(tf.shape(tar)[1])  # 形状为: seq_len_q * seq_len_q\n",
    "    dec_target_padding_mask = create_padding_mask(tar)  # 四维  batch_s, 1, 1, seq_len_q\n",
    "    # tf.maximum支持广播机制\n",
    "    combined_mask = tf.maximum(dec_target_padding_mask, look_ahead_mask)\n",
    "    \n",
    "    return enc_padding_mask, combined_mask, dec_padding_mask"
   ]
  },
  {
   "cell_type": "code",
   "execution_count": 44,
   "metadata": {},
   "outputs": [
    {
     "name": "stdout",
     "output_type": "stream",
     "text": [
      "tf.Tensor(\n",
      "[[1 2 3 4 0]\n",
      " [1 2 3 6 0]\n",
      " [1 2 0 0 0]], shape=(3, 5), dtype=int64)\n",
      "tf.Tensor(\n",
      "[[1 2 3 4 8 8 8 0 0]\n",
      " [1 2 3 4 8 0 8 0 0]\n",
      " [1 2 3 4 0 0 0 0 0]], shape=(3, 9), dtype=int64)\n",
      "enc_padding_mask: tf.Tensor(\n",
      "[[[0. 0. 0. 0. 1.]]\n",
      "\n",
      " [[0. 0. 0. 0. 1.]]\n",
      "\n",
      " [[0. 0. 1. 1. 1.]]], shape=(3, 1, 5), dtype=float32)\n",
      "combined_mask:  tf.Tensor(\n",
      "[[[0. 1. 1. 1. 1. 1. 1. 1. 1.]\n",
      "  [0. 0. 1. 1. 1. 1. 1. 1. 1.]\n",
      "  [0. 0. 0. 1. 1. 1. 1. 1. 1.]\n",
      "  [0. 0. 0. 0. 1. 1. 1. 1. 1.]\n",
      "  [0. 0. 0. 0. 0. 1. 1. 1. 1.]\n",
      "  [0. 0. 0. 0. 0. 0. 1. 1. 1.]\n",
      "  [0. 0. 0. 0. 0. 0. 0. 1. 1.]\n",
      "  [0. 0. 0. 0. 0. 0. 0. 1. 1.]\n",
      "  [0. 0. 0. 0. 0. 0. 0. 1. 1.]]\n",
      "\n",
      " [[0. 1. 1. 1. 1. 1. 1. 1. 1.]\n",
      "  [0. 0. 1. 1. 1. 1. 1. 1. 1.]\n",
      "  [0. 0. 0. 1. 1. 1. 1. 1. 1.]\n",
      "  [0. 0. 0. 0. 1. 1. 1. 1. 1.]\n",
      "  [0. 0. 0. 0. 0. 1. 1. 1. 1.]\n",
      "  [0. 0. 0. 0. 0. 1. 1. 1. 1.]\n",
      "  [0. 0. 0. 0. 0. 1. 0. 1. 1.]\n",
      "  [0. 0. 0. 0. 0. 1. 0. 1. 1.]\n",
      "  [0. 0. 0. 0. 0. 1. 0. 1. 1.]]\n",
      "\n",
      " [[0. 1. 1. 1. 1. 1. 1. 1. 1.]\n",
      "  [0. 0. 1. 1. 1. 1. 1. 1. 1.]\n",
      "  [0. 0. 0. 1. 1. 1. 1. 1. 1.]\n",
      "  [0. 0. 0. 0. 1. 1. 1. 1. 1.]\n",
      "  [0. 0. 0. 0. 1. 1. 1. 1. 1.]\n",
      "  [0. 0. 0. 0. 1. 1. 1. 1. 1.]\n",
      "  [0. 0. 0. 0. 1. 1. 1. 1. 1.]\n",
      "  [0. 0. 0. 0. 1. 1. 1. 1. 1.]\n",
      "  [0. 0. 0. 0. 1. 1. 1. 1. 1.]]], shape=(3, 9, 9), dtype=float32)\n",
      "dec_padding_mask:  tf.Tensor(\n",
      "[[[0. 0. 0. 0. 1.]]\n",
      "\n",
      " [[0. 0. 0. 0. 1.]]\n",
      "\n",
      " [[0. 0. 1. 1. 1.]]], shape=(3, 1, 5), dtype=float32)\n"
     ]
    }
   ],
   "source": [
    "inp1 = tf.constant([[1,2,3,4,0],[1,2,3,6,0],[1,2,0,0,0]], dtype=tf.int64)\n",
    "print(inp1)\n",
    "inp2 = tf.constant([[1,2,3,4,8,8,8,0,0],[1,2,3,4,8,0,8,0,0],[1,2,3,4,0,0,0,0,0]], dtype=tf.int64)\n",
    "print(inp2)\n",
    "enc_padding_mask, combined_mask, dec_padding_mask = create_masks(inp1, inp2)\n",
    "print('enc_padding_mask:', enc_padding_mask)\n",
    "print('combined_mask: ', combined_mask)\n",
    "print('dec_padding_mask: ', dec_padding_mask)"
   ]
  },
  {
   "cell_type": "code",
   "execution_count": 45,
   "metadata": {
    "scrolled": true
   },
   "outputs": [],
   "source": [
    "transformer = Transformer(num_layers, d_model, num_heads, intermediate_size,\n",
    "                          input_vocab_size, target_vocab_size, \n",
    "                          en_max_pos_encoding=input_vocab_size, \n",
    "                          de_max_pos_encoding=target_vocab_size,\n",
    "                          rate=dropout_rate)"
   ]
  },
  {
   "cell_type": "code",
   "execution_count": 46,
   "metadata": {},
   "outputs": [
    {
     "name": "stdout",
     "output_type": "stream",
     "text": [
      "Latest checkpoint restored!!\n"
     ]
    }
   ],
   "source": [
    "checkpoint_dir = './training_checkpoints'\n",
    "\n",
    "ckpt = tf.train.Checkpoint(transformer=transformer, optimizer=optimizer)\n",
    "\n",
    "ckpt_manager = tf.train.CheckpointManager(ckpt, checkpoint_dir, max_to_keep=5)\n",
    "\n",
    "# 如果检查点存在，则恢复最新的检查点。\n",
    "if ckpt_manager.latest_checkpoint:\n",
    "    ckpt.restore(ckpt_manager.latest_checkpoint)\n",
    "    print ('Latest checkpoint restored!!')"
   ]
  },
  {
   "cell_type": "code",
   "execution_count": 47,
   "metadata": {},
   "outputs": [],
   "source": [
    "# 该 @tf.function 将追踪-编译 train_step 到 TF 图中，以便更快地\n",
    "# 执行。该函数专用于参数张量的精确形状。为了避免由于可变序列长度或可变\n",
    "# 批次大小（最后一批次较小）导致的再追踪，使用 input_signature 指定\n",
    "# 更多的通用形状。\n",
    "\n",
    "EPOCHS = 20\n",
    "\n",
    "train_step_signature = [\n",
    "    tf.TensorSpec(shape=(None, None), dtype=tf.int32),\n",
    "    tf.TensorSpec(shape=(None, None), dtype=tf.int32),\n",
    "]\n",
    "\n",
    "\n",
    "@tf.function(input_signature=train_step_signature)\n",
    "def train_step(inp, tar):\n",
    "    tar_inp = tar[:, :-1]\n",
    "    tar_real = tar[:, 1:]\n",
    "\n",
    "    enc_padding_mask, combined_mask, dec_padding_mask = create_masks(\n",
    "        inp, tar_inp)\n",
    "\n",
    "    with tf.GradientTape() as tape:\n",
    "        predictions, _ = transformer(inp, tar_inp,\n",
    "                                     True,\n",
    "                                     enc_padding_mask,\n",
    "                                     combined_mask,\n",
    "                                     dec_padding_mask)\n",
    "        loss = loss_function(tar_real, predictions)\n",
    "\n",
    "    gradients = tape.gradient(loss, transformer.trainable_variables)\n",
    "    optimizer.apply_gradients(zip(gradients, transformer.trainable_variables))\n",
    "\n",
    "    train_loss(loss)\n",
    "    train_accuracy(tar_real, predictions)"
   ]
  },
  {
   "cell_type": "code",
   "execution_count": 48,
   "metadata": {},
   "outputs": [
    {
     "name": "stdout",
     "output_type": "stream",
     "text": [
      "Epoch 1 Batch 0 Loss 6.4360 Accuracy 0.0000\n",
      "Epoch 1 Batch 50 Loss 4.2139 Accuracy 0.0179\n",
      "Epoch 1 Batch 100 Loss 3.8319 Accuracy 0.0240\n",
      "Epoch 1 Batch 150 Loss 3.6957 Accuracy 0.0273\n",
      "Epoch 1 Batch 200 Loss 3.6136 Accuracy 0.0299\n",
      "Epoch 1 Batch 250 Loss 3.5677 Accuracy 0.0325\n",
      "Epoch 1 Batch 300 Loss 3.5274 Accuracy 0.0358\n",
      "Epoch 1 Batch 350 Loss 3.4954 Accuracy 0.0387\n",
      "Epoch 1 Batch 400 Loss 3.4721 Accuracy 0.0409\n",
      "Epoch 1 Batch 450 Loss 3.4491 Accuracy 0.0427\n",
      "Epoch 1 Batch 500 Loss 3.4297 Accuracy 0.0442\n",
      "Epoch 1 Batch 550 Loss 3.4075 Accuracy 0.0457\n",
      "Epoch 1 Batch 600 Loss 3.3796 Accuracy 0.0476\n",
      "Epoch 1 Batch 650 Loss 3.3447 Accuracy 0.0498\n",
      "Epoch 1 Batch 700 Loss 3.3043 Accuracy 0.0522\n",
      "Epoch 1 Batch 750 Loss 3.2567 Accuracy 0.0547\n",
      "Epoch 1 Batch 800 Loss 3.2073 Accuracy 0.0578\n",
      "Epoch 1 Batch 850 Loss 3.1550 Accuracy 0.0613\n",
      "Epoch 1 Batch 900 Loss 3.0997 Accuracy 0.0654\n",
      "Epoch 1 Batch 950 Loss 3.0441 Accuracy 0.0700\n",
      "Epoch 1 Loss 2.9931 Accuracy 0.0747\n",
      "Time taken for 1 epoch: 884.5428445339203 secs\n",
      "\n",
      "Epoch 2 Batch 0 Loss 1.9203 Accuracy 0.1809\n",
      "Epoch 2 Batch 50 Loss 1.8215 Accuracy 0.1881\n",
      "Epoch 2 Batch 100 Loss 1.7764 Accuracy 0.1972\n",
      "Epoch 2 Batch 150 Loss 1.7294 Accuracy 0.2055\n",
      "Epoch 2 Batch 200 Loss 1.6832 Accuracy 0.2138\n",
      "Epoch 2 Batch 250 Loss 1.6383 Accuracy 0.2215\n",
      "Epoch 2 Batch 300 Loss 1.5966 Accuracy 0.2288\n",
      "Epoch 2 Batch 350 Loss 1.5585 Accuracy 0.2361\n",
      "Epoch 2 Batch 400 Loss 1.5211 Accuracy 0.2429\n",
      "Epoch 2 Batch 450 Loss 1.4843 Accuracy 0.2496\n",
      "Epoch 2 Batch 500 Loss 1.4503 Accuracy 0.2564\n",
      "Epoch 2 Batch 550 Loss 1.4173 Accuracy 0.2631\n",
      "Epoch 2 Batch 600 Loss 1.3851 Accuracy 0.2696\n",
      "Epoch 2 Batch 650 Loss 1.3539 Accuracy 0.2757\n",
      "Epoch 2 Batch 700 Loss 1.3243 Accuracy 0.2817\n",
      "Epoch 2 Batch 750 Loss 1.2955 Accuracy 0.2873\n",
      "Epoch 2 Batch 800 Loss 1.2683 Accuracy 0.2928\n",
      "Epoch 2 Batch 850 Loss 1.2423 Accuracy 0.2981\n",
      "Epoch 2 Batch 900 Loss 1.2174 Accuracy 0.3032\n",
      "Epoch 2 Batch 950 Loss 1.1931 Accuracy 0.3080\n",
      "Epoch 2 Loss 1.1725 Accuracy 0.3122\n",
      "Time taken for 1 epoch: 873.925904750824 secs\n",
      "\n",
      "Epoch 3 Batch 0 Loss 0.6638 Accuracy 0.3992\n",
      "Epoch 3 Batch 50 Loss 0.7025 Accuracy 0.4051\n",
      "Epoch 3 Batch 100 Loss 0.6927 Accuracy 0.4086\n",
      "Epoch 3 Batch 150 Loss 0.6828 Accuracy 0.4108\n",
      "Epoch 3 Batch 200 Loss 0.6719 Accuracy 0.4131\n",
      "Epoch 3 Batch 250 Loss 0.6631 Accuracy 0.4154\n",
      "Epoch 3 Batch 300 Loss 0.6521 Accuracy 0.4176\n",
      "Epoch 3 Batch 350 Loss 0.6412 Accuracy 0.4193\n",
      "Epoch 3 Batch 400 Loss 0.6320 Accuracy 0.4207\n",
      "Epoch 3 Batch 450 Loss 0.6223 Accuracy 0.4224\n",
      "Epoch 3 Batch 500 Loss 0.6137 Accuracy 0.4242\n",
      "Epoch 3 Batch 550 Loss 0.6052 Accuracy 0.4257\n",
      "Epoch 3 Batch 600 Loss 0.5966 Accuracy 0.4271\n",
      "Epoch 3 Batch 650 Loss 0.5889 Accuracy 0.4287\n",
      "Epoch 3 Batch 700 Loss 0.5812 Accuracy 0.4301\n",
      "Epoch 3 Batch 750 Loss 0.5736 Accuracy 0.4313\n",
      "Epoch 3 Batch 800 Loss 0.5665 Accuracy 0.4326\n",
      "Epoch 3 Batch 850 Loss 0.5594 Accuracy 0.4338\n",
      "Epoch 3 Batch 900 Loss 0.5524 Accuracy 0.4350\n",
      "Epoch 3 Batch 950 Loss 0.5457 Accuracy 0.4362\n",
      "Epoch 3 Loss 0.5397 Accuracy 0.4372\n",
      "Time taken for 1 epoch: 875.3941600322723 secs\n",
      "\n",
      "Epoch 4 Batch 0 Loss 0.3989 Accuracy 0.4617\n",
      "Epoch 4 Batch 50 Loss 0.4048 Accuracy 0.4605\n",
      "Epoch 4 Batch 100 Loss 0.3973 Accuracy 0.4610\n",
      "Epoch 4 Batch 150 Loss 0.3936 Accuracy 0.4620\n",
      "Epoch 4 Batch 200 Loss 0.3907 Accuracy 0.4632\n",
      "Epoch 4 Batch 250 Loss 0.3881 Accuracy 0.4642\n",
      "Epoch 4 Batch 300 Loss 0.3846 Accuracy 0.4650\n",
      "Epoch 4 Batch 350 Loss 0.3809 Accuracy 0.4655\n",
      "Epoch 4 Batch 400 Loss 0.3775 Accuracy 0.4662\n",
      "Epoch 4 Batch 450 Loss 0.3740 Accuracy 0.4669\n",
      "Epoch 4 Batch 500 Loss 0.3707 Accuracy 0.4677\n",
      "Epoch 4 Batch 550 Loss 0.3673 Accuracy 0.4683\n",
      "Epoch 4 Batch 600 Loss 0.3639 Accuracy 0.4688\n",
      "Epoch 4 Batch 650 Loss 0.3606 Accuracy 0.4694\n",
      "Epoch 4 Batch 700 Loss 0.3573 Accuracy 0.4700\n",
      "Epoch 4 Batch 750 Loss 0.3543 Accuracy 0.4706\n",
      "Epoch 4 Batch 800 Loss 0.3511 Accuracy 0.4711\n",
      "Epoch 4 Batch 850 Loss 0.3481 Accuracy 0.4716\n",
      "Epoch 4 Batch 900 Loss 0.3447 Accuracy 0.4721\n",
      "Epoch 4 Batch 950 Loss 0.3420 Accuracy 0.4726\n",
      "Epoch 4 Loss 0.3396 Accuracy 0.4730\n",
      "Time taken for 1 epoch: 873.6292660236359 secs\n",
      "\n",
      "Epoch 5 Batch 0 Loss 0.2954 Accuracy 0.5043\n",
      "Epoch 5 Batch 50 Loss 0.2788 Accuracy 0.4836\n",
      "Epoch 5 Batch 100 Loss 0.2751 Accuracy 0.4821\n",
      "Epoch 5 Batch 150 Loss 0.2720 Accuracy 0.4829\n",
      "Epoch 5 Batch 200 Loss 0.2707 Accuracy 0.4835\n",
      "Epoch 5 Batch 250 Loss 0.2685 Accuracy 0.4839\n",
      "Epoch 5 Batch 300 Loss 0.2672 Accuracy 0.4845\n",
      "Epoch 5 Batch 350 Loss 0.2654 Accuracy 0.4850\n",
      "Epoch 5 Batch 400 Loss 0.2641 Accuracy 0.4857\n",
      "Epoch 5 Batch 450 Loss 0.2626 Accuracy 0.4860\n",
      "Epoch 5 Batch 500 Loss 0.2610 Accuracy 0.4865\n",
      "Epoch 5 Batch 550 Loss 0.2590 Accuracy 0.4866\n",
      "Epoch 5 Batch 600 Loss 0.2577 Accuracy 0.4870\n",
      "Epoch 5 Batch 650 Loss 0.2559 Accuracy 0.4872\n",
      "Epoch 5 Batch 700 Loss 0.2542 Accuracy 0.4875\n",
      "Epoch 5 Batch 750 Loss 0.2525 Accuracy 0.4877\n",
      "Epoch 5 Batch 800 Loss 0.2507 Accuracy 0.4879\n",
      "Epoch 5 Batch 850 Loss 0.2490 Accuracy 0.4882\n",
      "Epoch 5 Batch 900 Loss 0.2474 Accuracy 0.4885\n",
      "Epoch 5 Batch 950 Loss 0.2457 Accuracy 0.4887\n",
      "Saving checkpoint for epoch 5 at ./training_checkpoints/ckpt-11\n",
      "Epoch 5 Loss 0.2442 Accuracy 0.4888\n",
      "Time taken for 1 epoch: 874.5972125530243 secs\n",
      "\n",
      "Epoch 6 Batch 0 Loss 0.1905 Accuracy 0.5003\n",
      "Epoch 6 Batch 50 Loss 0.2109 Accuracy 0.4937\n",
      "Epoch 6 Batch 100 Loss 0.2090 Accuracy 0.4943\n",
      "Epoch 6 Batch 150 Loss 0.2074 Accuracy 0.4949\n",
      "Epoch 6 Batch 200 Loss 0.2055 Accuracy 0.4950\n",
      "Epoch 6 Batch 250 Loss 0.2041 Accuracy 0.4952\n",
      "Epoch 6 Batch 300 Loss 0.2031 Accuracy 0.4957\n",
      "Epoch 6 Batch 350 Loss 0.2009 Accuracy 0.4957\n",
      "Epoch 6 Batch 400 Loss 0.1991 Accuracy 0.4959\n",
      "Epoch 6 Batch 450 Loss 0.1974 Accuracy 0.4960\n",
      "Epoch 6 Batch 500 Loss 0.1961 Accuracy 0.4964\n",
      "Epoch 6 Batch 550 Loss 0.1949 Accuracy 0.4966\n",
      "Epoch 6 Batch 600 Loss 0.1937 Accuracy 0.4969\n",
      "Epoch 6 Batch 650 Loss 0.1923 Accuracy 0.4970\n",
      "Epoch 6 Batch 700 Loss 0.1908 Accuracy 0.4973\n",
      "Epoch 6 Batch 750 Loss 0.1895 Accuracy 0.4975\n",
      "Epoch 6 Batch 800 Loss 0.1882 Accuracy 0.4978\n",
      "Epoch 6 Batch 850 Loss 0.1870 Accuracy 0.4981\n",
      "Epoch 6 Batch 900 Loss 0.1857 Accuracy 0.4983\n",
      "Epoch 6 Batch 950 Loss 0.1847 Accuracy 0.4987\n",
      "Epoch 6 Loss 0.1834 Accuracy 0.4988\n",
      "Time taken for 1 epoch: 874.0593688488007 secs\n",
      "\n",
      "Epoch 7 Batch 0 Loss 0.1406 Accuracy 0.5032\n",
      "Epoch 7 Batch 50 Loss 0.1542 Accuracy 0.5039\n",
      "Epoch 7 Batch 100 Loss 0.1525 Accuracy 0.5041\n",
      "Epoch 7 Batch 150 Loss 0.1525 Accuracy 0.5045\n",
      "Epoch 7 Batch 200 Loss 0.1511 Accuracy 0.5047\n",
      "Epoch 7 Batch 250 Loss 0.1501 Accuracy 0.5050\n",
      "Epoch 7 Batch 300 Loss 0.1484 Accuracy 0.5051\n",
      "Epoch 7 Batch 350 Loss 0.1470 Accuracy 0.5055\n",
      "Epoch 7 Batch 400 Loss 0.1456 Accuracy 0.5057\n",
      "Epoch 7 Batch 450 Loss 0.1440 Accuracy 0.5056\n",
      "Epoch 7 Batch 500 Loss 0.1429 Accuracy 0.5059\n",
      "Epoch 7 Batch 550 Loss 0.1416 Accuracy 0.5062\n",
      "Epoch 7 Batch 600 Loss 0.1401 Accuracy 0.5061\n",
      "Epoch 7 Batch 650 Loss 0.1390 Accuracy 0.5063\n",
      "Epoch 7 Batch 700 Loss 0.1379 Accuracy 0.5064\n",
      "Epoch 7 Batch 750 Loss 0.1369 Accuracy 0.5066\n",
      "Epoch 7 Batch 800 Loss 0.1359 Accuracy 0.5069\n",
      "Epoch 7 Batch 850 Loss 0.1350 Accuracy 0.5072\n",
      "Epoch 7 Batch 900 Loss 0.1339 Accuracy 0.5073\n",
      "Epoch 7 Batch 950 Loss 0.1330 Accuracy 0.5076\n",
      "Epoch 7 Loss 0.1322 Accuracy 0.5078\n",
      "Time taken for 1 epoch: 874.017126083374 secs\n",
      "\n",
      "Epoch 8 Batch 0 Loss 0.1131 Accuracy 0.5137\n",
      "Epoch 8 Batch 50 Loss 0.1119 Accuracy 0.5131\n",
      "Epoch 8 Batch 100 Loss 0.1117 Accuracy 0.5123\n",
      "Epoch 8 Batch 150 Loss 0.1098 Accuracy 0.5125\n",
      "Epoch 8 Batch 200 Loss 0.1090 Accuracy 0.5126\n",
      "Epoch 8 Batch 250 Loss 0.1086 Accuracy 0.5127\n",
      "Epoch 8 Batch 300 Loss 0.1080 Accuracy 0.5125\n",
      "Epoch 8 Batch 350 Loss 0.1071 Accuracy 0.5127\n",
      "Epoch 8 Batch 400 Loss 0.1065 Accuracy 0.5129\n",
      "Epoch 8 Batch 450 Loss 0.1061 Accuracy 0.5132\n",
      "Epoch 8 Batch 500 Loss 0.1053 Accuracy 0.5131\n",
      "Epoch 8 Batch 550 Loss 0.1046 Accuracy 0.5130\n",
      "Epoch 8 Batch 600 Loss 0.1040 Accuracy 0.5132\n",
      "Epoch 8 Batch 650 Loss 0.1034 Accuracy 0.5131\n",
      "Epoch 8 Batch 700 Loss 0.1027 Accuracy 0.5131\n",
      "Epoch 8 Batch 750 Loss 0.1020 Accuracy 0.5133\n",
      "Epoch 8 Batch 800 Loss 0.1014 Accuracy 0.5134\n",
      "Epoch 8 Batch 850 Loss 0.1006 Accuracy 0.5136\n",
      "Epoch 8 Batch 900 Loss 0.0999 Accuracy 0.5138\n",
      "Epoch 8 Batch 950 Loss 0.0992 Accuracy 0.5139\n",
      "Epoch 8 Loss 0.0985 Accuracy 0.5139\n",
      "Time taken for 1 epoch: 874.4951808452606 secs\n",
      "\n",
      "Epoch 9 Batch 0 Loss 0.0711 Accuracy 0.5183\n",
      "Epoch 9 Batch 50 Loss 0.0824 Accuracy 0.5192\n",
      "Epoch 9 Batch 100 Loss 0.0821 Accuracy 0.5184\n"
     ]
    },
    {
     "name": "stdout",
     "output_type": "stream",
     "text": [
      "Epoch 9 Batch 150 Loss 0.0823 Accuracy 0.5181\n",
      "Epoch 9 Batch 200 Loss 0.0818 Accuracy 0.5185\n",
      "Epoch 9 Batch 250 Loss 0.0813 Accuracy 0.5187\n",
      "Epoch 9 Batch 300 Loss 0.0806 Accuracy 0.5184\n",
      "Epoch 9 Batch 350 Loss 0.0803 Accuracy 0.5181\n",
      "Epoch 9 Batch 400 Loss 0.0795 Accuracy 0.5179\n",
      "Epoch 9 Batch 450 Loss 0.0789 Accuracy 0.5177\n",
      "Epoch 9 Batch 500 Loss 0.0785 Accuracy 0.5179\n",
      "Epoch 9 Batch 550 Loss 0.0780 Accuracy 0.5180\n",
      "Epoch 9 Batch 600 Loss 0.0775 Accuracy 0.5182\n",
      "Epoch 9 Batch 650 Loss 0.0769 Accuracy 0.5184\n",
      "Epoch 9 Batch 700 Loss 0.0763 Accuracy 0.5183\n",
      "Epoch 9 Batch 750 Loss 0.0758 Accuracy 0.5183\n",
      "Epoch 9 Batch 800 Loss 0.0753 Accuracy 0.5183\n",
      "Epoch 9 Batch 850 Loss 0.0748 Accuracy 0.5184\n",
      "Epoch 9 Batch 900 Loss 0.0745 Accuracy 0.5186\n",
      "Epoch 9 Batch 950 Loss 0.0739 Accuracy 0.5187\n",
      "Epoch 9 Loss 0.0734 Accuracy 0.5188\n",
      "Time taken for 1 epoch: 873.4772634506226 secs\n",
      "\n",
      "Epoch 10 Batch 0 Loss 0.0607 Accuracy 0.5184\n",
      "Epoch 10 Batch 50 Loss 0.0621 Accuracy 0.5210\n",
      "Epoch 10 Batch 100 Loss 0.0620 Accuracy 0.5206\n",
      "Epoch 10 Batch 150 Loss 0.0617 Accuracy 0.5205\n",
      "Epoch 10 Batch 200 Loss 0.0612 Accuracy 0.5202\n",
      "Epoch 10 Batch 250 Loss 0.0613 Accuracy 0.5211\n",
      "Epoch 10 Batch 300 Loss 0.0607 Accuracy 0.5209\n",
      "Epoch 10 Batch 350 Loss 0.0601 Accuracy 0.5211\n",
      "Epoch 10 Batch 400 Loss 0.0596 Accuracy 0.5212\n",
      "Epoch 10 Batch 450 Loss 0.0593 Accuracy 0.5214\n",
      "Epoch 10 Batch 500 Loss 0.0588 Accuracy 0.5215\n",
      "Epoch 10 Batch 550 Loss 0.0584 Accuracy 0.5216\n",
      "Epoch 10 Batch 600 Loss 0.0581 Accuracy 0.5218\n",
      "Epoch 10 Batch 650 Loss 0.0577 Accuracy 0.5219\n",
      "Epoch 10 Batch 700 Loss 0.0572 Accuracy 0.5219\n",
      "Epoch 10 Batch 750 Loss 0.0568 Accuracy 0.5222\n",
      "Epoch 10 Batch 800 Loss 0.0564 Accuracy 0.5223\n",
      "Epoch 10 Batch 850 Loss 0.0560 Accuracy 0.5225\n",
      "Epoch 10 Batch 900 Loss 0.0556 Accuracy 0.5226\n",
      "Epoch 10 Batch 950 Loss 0.0552 Accuracy 0.5227\n",
      "Saving checkpoint for epoch 10 at ./training_checkpoints/ckpt-12\n",
      "Epoch 10 Loss 0.0548 Accuracy 0.5228\n",
      "Time taken for 1 epoch: 874.3123269081116 secs\n",
      "\n",
      "Epoch 11 Batch 0 Loss 0.0510 Accuracy 0.5344\n",
      "Epoch 11 Batch 50 Loss 0.0462 Accuracy 0.5266\n",
      "Epoch 11 Batch 100 Loss 0.0453 Accuracy 0.5256\n",
      "Epoch 11 Batch 150 Loss 0.0454 Accuracy 0.5268\n",
      "Epoch 11 Batch 200 Loss 0.0449 Accuracy 0.5270\n",
      "Epoch 11 Batch 250 Loss 0.0445 Accuracy 0.5264\n",
      "Epoch 11 Batch 300 Loss 0.0440 Accuracy 0.5261\n",
      "Epoch 11 Batch 350 Loss 0.0437 Accuracy 0.5259\n",
      "Epoch 11 Batch 400 Loss 0.0434 Accuracy 0.5259\n",
      "Epoch 11 Batch 450 Loss 0.0432 Accuracy 0.5258\n",
      "Epoch 11 Batch 500 Loss 0.0430 Accuracy 0.5257\n",
      "Epoch 11 Batch 550 Loss 0.0427 Accuracy 0.5256\n",
      "Epoch 11 Batch 600 Loss 0.0423 Accuracy 0.5257\n",
      "Epoch 11 Batch 650 Loss 0.0420 Accuracy 0.5257\n",
      "Epoch 11 Batch 700 Loss 0.0418 Accuracy 0.5258\n",
      "Epoch 11 Batch 750 Loss 0.0414 Accuracy 0.5260\n",
      "Epoch 11 Batch 800 Loss 0.0412 Accuracy 0.5260\n",
      "Epoch 11 Batch 850 Loss 0.0409 Accuracy 0.5259\n",
      "Epoch 11 Batch 900 Loss 0.0406 Accuracy 0.5261\n",
      "Epoch 11 Batch 950 Loss 0.0404 Accuracy 0.5261\n",
      "Epoch 11 Loss 0.0402 Accuracy 0.5260\n",
      "Time taken for 1 epoch: 873.571165561676 secs\n",
      "\n",
      "Epoch 12 Batch 0 Loss 0.0313 Accuracy 0.5235\n",
      "Epoch 12 Batch 50 Loss 0.0359 Accuracy 0.5319\n",
      "Epoch 12 Batch 100 Loss 0.0351 Accuracy 0.5300\n",
      "Epoch 12 Batch 150 Loss 0.0344 Accuracy 0.5280\n",
      "Epoch 12 Batch 200 Loss 0.0342 Accuracy 0.5277\n",
      "Epoch 12 Batch 250 Loss 0.0340 Accuracy 0.5276\n",
      "Epoch 12 Batch 300 Loss 0.0339 Accuracy 0.5276\n",
      "Epoch 12 Batch 350 Loss 0.0338 Accuracy 0.5280\n",
      "Epoch 12 Batch 400 Loss 0.0336 Accuracy 0.5277\n",
      "Epoch 12 Batch 450 Loss 0.0335 Accuracy 0.5278\n",
      "Epoch 12 Batch 500 Loss 0.0333 Accuracy 0.5280\n",
      "Epoch 12 Batch 550 Loss 0.0332 Accuracy 0.5281\n",
      "Epoch 12 Batch 600 Loss 0.0331 Accuracy 0.5280\n",
      "Epoch 12 Batch 650 Loss 0.0329 Accuracy 0.5279\n",
      "Epoch 12 Batch 700 Loss 0.0328 Accuracy 0.5279\n",
      "Epoch 12 Batch 750 Loss 0.0326 Accuracy 0.5278\n",
      "Epoch 12 Batch 800 Loss 0.0325 Accuracy 0.5279\n",
      "Epoch 12 Batch 850 Loss 0.0323 Accuracy 0.5277\n",
      "Epoch 12 Batch 900 Loss 0.0322 Accuracy 0.5277\n",
      "Epoch 12 Batch 950 Loss 0.0321 Accuracy 0.5278\n",
      "Epoch 12 Loss 0.0319 Accuracy 0.5279\n",
      "Time taken for 1 epoch: 875.184974193573 secs\n",
      "\n",
      "Epoch 13 Batch 0 Loss 0.0287 Accuracy 0.5117\n",
      "Epoch 13 Batch 50 Loss 0.0269 Accuracy 0.5280\n",
      "Epoch 13 Batch 100 Loss 0.0274 Accuracy 0.5292\n",
      "Epoch 13 Batch 150 Loss 0.0274 Accuracy 0.5289\n",
      "Epoch 13 Batch 200 Loss 0.0275 Accuracy 0.5284\n",
      "Epoch 13 Batch 250 Loss 0.0273 Accuracy 0.5284\n",
      "Epoch 13 Batch 300 Loss 0.0273 Accuracy 0.5287\n",
      "Epoch 13 Batch 350 Loss 0.0274 Accuracy 0.5288\n",
      "Epoch 13 Batch 400 Loss 0.0273 Accuracy 0.5285\n",
      "Epoch 13 Batch 450 Loss 0.0273 Accuracy 0.5284\n",
      "Epoch 13 Batch 500 Loss 0.0273 Accuracy 0.5287\n",
      "Epoch 13 Batch 550 Loss 0.0271 Accuracy 0.5286\n",
      "Epoch 13 Batch 600 Loss 0.0270 Accuracy 0.5286\n",
      "Epoch 13 Batch 650 Loss 0.0269 Accuracy 0.5286\n",
      "Epoch 13 Batch 700 Loss 0.0268 Accuracy 0.5287\n",
      "Epoch 13 Batch 750 Loss 0.0267 Accuracy 0.5287\n",
      "Epoch 13 Batch 800 Loss 0.0266 Accuracy 0.5288\n",
      "Epoch 13 Batch 850 Loss 0.0265 Accuracy 0.5289\n",
      "Epoch 13 Batch 900 Loss 0.0265 Accuracy 0.5290\n",
      "Epoch 13 Batch 950 Loss 0.0264 Accuracy 0.5291\n",
      "Epoch 13 Loss 0.0263 Accuracy 0.5290\n",
      "Time taken for 1 epoch: 874.3959329128265 secs\n",
      "\n",
      "Epoch 14 Batch 0 Loss 0.0226 Accuracy 0.5360\n",
      "Epoch 14 Batch 50 Loss 0.0238 Accuracy 0.5299\n",
      "Epoch 14 Batch 100 Loss 0.0238 Accuracy 0.5293\n",
      "Epoch 14 Batch 150 Loss 0.0234 Accuracy 0.5289\n",
      "Epoch 14 Batch 200 Loss 0.0232 Accuracy 0.5296\n",
      "Epoch 14 Batch 250 Loss 0.0232 Accuracy 0.5301\n",
      "Epoch 14 Batch 300 Loss 0.0231 Accuracy 0.5303\n",
      "Epoch 14 Batch 350 Loss 0.0230 Accuracy 0.5302\n",
      "Epoch 14 Batch 400 Loss 0.0229 Accuracy 0.5300\n",
      "Epoch 14 Batch 450 Loss 0.0227 Accuracy 0.5298\n",
      "Epoch 14 Batch 500 Loss 0.0227 Accuracy 0.5297\n",
      "Epoch 14 Batch 550 Loss 0.0226 Accuracy 0.5300\n",
      "Epoch 14 Batch 600 Loss 0.0226 Accuracy 0.5300\n",
      "Epoch 14 Batch 650 Loss 0.0225 Accuracy 0.5302\n",
      "Epoch 14 Batch 700 Loss 0.0224 Accuracy 0.5302\n",
      "Epoch 14 Batch 750 Loss 0.0224 Accuracy 0.5301\n",
      "Epoch 14 Batch 800 Loss 0.0223 Accuracy 0.5301\n",
      "Epoch 14 Batch 850 Loss 0.0222 Accuracy 0.5300\n",
      "Epoch 14 Batch 900 Loss 0.0222 Accuracy 0.5299\n",
      "Epoch 14 Batch 950 Loss 0.0221 Accuracy 0.5299\n",
      "Epoch 14 Loss 0.0221 Accuracy 0.5299\n",
      "Time taken for 1 epoch: 873.7899348735809 secs\n",
      "\n",
      "Epoch 15 Batch 0 Loss 0.0201 Accuracy 0.5269\n",
      "Epoch 15 Batch 50 Loss 0.0193 Accuracy 0.5311\n",
      "Epoch 15 Batch 100 Loss 0.0194 Accuracy 0.5301\n",
      "Epoch 15 Batch 150 Loss 0.0197 Accuracy 0.5306\n",
      "Epoch 15 Batch 200 Loss 0.0197 Accuracy 0.5306\n",
      "Epoch 15 Batch 250 Loss 0.0198 Accuracy 0.5305\n",
      "Epoch 15 Batch 300 Loss 0.0198 Accuracy 0.5308\n",
      "Epoch 15 Batch 350 Loss 0.0197 Accuracy 0.5310\n",
      "Epoch 15 Batch 400 Loss 0.0197 Accuracy 0.5311\n",
      "Epoch 15 Batch 450 Loss 0.0196 Accuracy 0.5308\n",
      "Epoch 15 Batch 500 Loss 0.0195 Accuracy 0.5304\n",
      "Epoch 15 Batch 550 Loss 0.0193 Accuracy 0.5303\n",
      "Epoch 15 Batch 600 Loss 0.0192 Accuracy 0.5304\n",
      "Epoch 15 Batch 650 Loss 0.0192 Accuracy 0.5305\n",
      "Epoch 15 Batch 700 Loss 0.0192 Accuracy 0.5305\n",
      "Epoch 15 Batch 750 Loss 0.0192 Accuracy 0.5305\n",
      "Epoch 15 Batch 800 Loss 0.0191 Accuracy 0.5304\n",
      "Epoch 15 Batch 850 Loss 0.0190 Accuracy 0.5304\n",
      "Epoch 15 Batch 900 Loss 0.0190 Accuracy 0.5305\n",
      "Epoch 15 Batch 950 Loss 0.0189 Accuracy 0.5306\n",
      "Saving checkpoint for epoch 15 at ./training_checkpoints/ckpt-13\n",
      "Epoch 15 Loss 0.0188 Accuracy 0.5306\n",
      "Time taken for 1 epoch: 874.01189661026 secs\n",
      "\n",
      "Epoch 16 Batch 0 Loss 0.0160 Accuracy 0.5309\n",
      "Epoch 16 Batch 50 Loss 0.0168 Accuracy 0.5324\n",
      "Epoch 16 Batch 100 Loss 0.0170 Accuracy 0.5306\n",
      "Epoch 16 Batch 150 Loss 0.0169 Accuracy 0.5311\n",
      "Epoch 16 Batch 200 Loss 0.0167 Accuracy 0.5309\n",
      "Epoch 16 Batch 250 Loss 0.0166 Accuracy 0.5309\n",
      "Epoch 16 Batch 300 Loss 0.0165 Accuracy 0.5311\n",
      "Epoch 16 Batch 350 Loss 0.0164 Accuracy 0.5312\n",
      "Epoch 16 Batch 400 Loss 0.0163 Accuracy 0.5313\n",
      "Epoch 16 Batch 450 Loss 0.0163 Accuracy 0.5314\n",
      "Epoch 16 Batch 500 Loss 0.0162 Accuracy 0.5314\n",
      "Epoch 16 Batch 550 Loss 0.0161 Accuracy 0.5314\n",
      "Epoch 16 Batch 600 Loss 0.0161 Accuracy 0.5312\n",
      "Epoch 16 Batch 650 Loss 0.0160 Accuracy 0.5312\n",
      "Epoch 16 Batch 700 Loss 0.0160 Accuracy 0.5313\n",
      "Epoch 16 Batch 750 Loss 0.0159 Accuracy 0.5312\n",
      "Epoch 16 Batch 800 Loss 0.0158 Accuracy 0.5310\n",
      "Epoch 16 Batch 850 Loss 0.0157 Accuracy 0.5312\n",
      "Epoch 16 Batch 900 Loss 0.0157 Accuracy 0.5311\n",
      "Epoch 16 Batch 950 Loss 0.0157 Accuracy 0.5313\n",
      "Epoch 16 Loss 0.0156 Accuracy 0.5313\n",
      "Time taken for 1 epoch: 873.6214430332184 secs\n",
      "\n",
      "Epoch 17 Batch 0 Loss 0.0138 Accuracy 0.5281\n",
      "Epoch 17 Batch 50 Loss 0.0139 Accuracy 0.5318\n"
     ]
    },
    {
     "name": "stdout",
     "output_type": "stream",
     "text": [
      "Epoch 17 Batch 100 Loss 0.0134 Accuracy 0.5304\n",
      "Epoch 17 Batch 150 Loss 0.0135 Accuracy 0.5310\n",
      "Epoch 17 Batch 200 Loss 0.0136 Accuracy 0.5307\n",
      "Epoch 17 Batch 250 Loss 0.0136 Accuracy 0.5309\n",
      "Epoch 17 Batch 300 Loss 0.0136 Accuracy 0.5309\n",
      "Epoch 17 Batch 350 Loss 0.0135 Accuracy 0.5310\n",
      "Epoch 17 Batch 400 Loss 0.0134 Accuracy 0.5311\n",
      "Epoch 17 Batch 450 Loss 0.0134 Accuracy 0.5312\n",
      "Epoch 17 Batch 500 Loss 0.0133 Accuracy 0.5314\n",
      "Epoch 17 Batch 550 Loss 0.0133 Accuracy 0.5313\n",
      "Epoch 17 Batch 600 Loss 0.0133 Accuracy 0.5314\n",
      "Epoch 17 Batch 650 Loss 0.0132 Accuracy 0.5315\n",
      "Epoch 17 Batch 700 Loss 0.0132 Accuracy 0.5314\n",
      "Epoch 17 Batch 750 Loss 0.0132 Accuracy 0.5316\n",
      "Epoch 17 Batch 800 Loss 0.0132 Accuracy 0.5316\n",
      "Epoch 17 Batch 850 Loss 0.0132 Accuracy 0.5318\n",
      "Epoch 17 Batch 900 Loss 0.0131 Accuracy 0.5318\n",
      "Epoch 17 Batch 950 Loss 0.0131 Accuracy 0.5319\n",
      "Epoch 17 Loss 0.0131 Accuracy 0.5319\n",
      "Time taken for 1 epoch: 872.0582058429718 secs\n",
      "\n",
      "Epoch 18 Batch 0 Loss 0.0114 Accuracy 0.5329\n",
      "Epoch 18 Batch 50 Loss 0.0119 Accuracy 0.5312\n",
      "Epoch 18 Batch 100 Loss 0.0119 Accuracy 0.5324\n",
      "Epoch 18 Batch 150 Loss 0.0118 Accuracy 0.5323\n",
      "Epoch 18 Batch 200 Loss 0.0116 Accuracy 0.5324\n",
      "Epoch 18 Batch 250 Loss 0.0116 Accuracy 0.5324\n",
      "Epoch 18 Batch 300 Loss 0.0117 Accuracy 0.5325\n",
      "Epoch 18 Batch 350 Loss 0.0117 Accuracy 0.5327\n",
      "Epoch 18 Batch 400 Loss 0.0117 Accuracy 0.5328\n",
      "Epoch 18 Batch 450 Loss 0.0116 Accuracy 0.5328\n",
      "Epoch 18 Batch 500 Loss 0.0116 Accuracy 0.5329\n",
      "Epoch 18 Batch 550 Loss 0.0115 Accuracy 0.5328\n",
      "Epoch 18 Batch 600 Loss 0.0115 Accuracy 0.5325\n",
      "Epoch 18 Batch 650 Loss 0.0115 Accuracy 0.5324\n",
      "Epoch 18 Batch 700 Loss 0.0115 Accuracy 0.5323\n",
      "Epoch 18 Batch 750 Loss 0.0115 Accuracy 0.5323\n",
      "Epoch 18 Batch 800 Loss 0.0114 Accuracy 0.5323\n",
      "Epoch 18 Batch 850 Loss 0.0114 Accuracy 0.5323\n",
      "Epoch 18 Batch 900 Loss 0.0114 Accuracy 0.5323\n",
      "Epoch 18 Batch 950 Loss 0.0113 Accuracy 0.5322\n",
      "Epoch 18 Loss 0.0113 Accuracy 0.5323\n",
      "Time taken for 1 epoch: 871.99365234375 secs\n",
      "\n",
      "Epoch 19 Batch 0 Loss 0.0147 Accuracy 0.5382\n",
      "Epoch 19 Batch 50 Loss 0.0103 Accuracy 0.5331\n",
      "Epoch 19 Batch 100 Loss 0.0105 Accuracy 0.5341\n",
      "Epoch 19 Batch 150 Loss 0.0104 Accuracy 0.5328\n",
      "Epoch 19 Batch 200 Loss 0.0104 Accuracy 0.5330\n",
      "Epoch 19 Batch 250 Loss 0.0104 Accuracy 0.5327\n",
      "Epoch 19 Batch 300 Loss 0.0104 Accuracy 0.5325\n",
      "Epoch 19 Batch 350 Loss 0.0102 Accuracy 0.5324\n",
      "Epoch 19 Batch 400 Loss 0.0103 Accuracy 0.5326\n",
      "Epoch 19 Batch 450 Loss 0.0102 Accuracy 0.5325\n",
      "Epoch 19 Batch 500 Loss 0.0102 Accuracy 0.5325\n",
      "Epoch 19 Batch 550 Loss 0.0102 Accuracy 0.5325\n",
      "Epoch 19 Batch 600 Loss 0.0102 Accuracy 0.5322\n",
      "Epoch 19 Batch 650 Loss 0.0102 Accuracy 0.5323\n",
      "Epoch 19 Batch 700 Loss 0.0102 Accuracy 0.5324\n",
      "Epoch 19 Batch 750 Loss 0.0102 Accuracy 0.5325\n",
      "Epoch 19 Batch 800 Loss 0.0102 Accuracy 0.5325\n",
      "Epoch 19 Batch 850 Loss 0.0102 Accuracy 0.5327\n",
      "Epoch 19 Batch 900 Loss 0.0102 Accuracy 0.5327\n",
      "Epoch 19 Batch 950 Loss 0.0102 Accuracy 0.5327\n",
      "Epoch 19 Loss 0.0101 Accuracy 0.5326\n",
      "Time taken for 1 epoch: 871.8082571029663 secs\n",
      "\n",
      "Epoch 20 Batch 0 Loss 0.0095 Accuracy 0.5277\n",
      "Epoch 20 Batch 50 Loss 0.0090 Accuracy 0.5337\n",
      "Epoch 20 Batch 100 Loss 0.0091 Accuracy 0.5328\n",
      "Epoch 20 Batch 150 Loss 0.0093 Accuracy 0.5329\n",
      "Epoch 20 Batch 200 Loss 0.0093 Accuracy 0.5335\n",
      "Epoch 20 Batch 250 Loss 0.0093 Accuracy 0.5332\n",
      "Epoch 20 Batch 300 Loss 0.0093 Accuracy 0.5330\n",
      "Epoch 20 Batch 350 Loss 0.0093 Accuracy 0.5331\n",
      "Epoch 20 Batch 400 Loss 0.0092 Accuracy 0.5328\n",
      "Epoch 20 Batch 450 Loss 0.0092 Accuracy 0.5329\n",
      "Epoch 20 Batch 500 Loss 0.0092 Accuracy 0.5328\n",
      "Epoch 20 Batch 550 Loss 0.0092 Accuracy 0.5325\n",
      "Epoch 20 Batch 600 Loss 0.0092 Accuracy 0.5324\n",
      "Epoch 20 Batch 650 Loss 0.0091 Accuracy 0.5325\n",
      "Epoch 20 Batch 700 Loss 0.0091 Accuracy 0.5326\n",
      "Epoch 20 Batch 750 Loss 0.0091 Accuracy 0.5328\n",
      "Epoch 20 Batch 800 Loss 0.0091 Accuracy 0.5326\n",
      "Epoch 20 Batch 850 Loss 0.0090 Accuracy 0.5329\n",
      "Epoch 20 Batch 900 Loss 0.0090 Accuracy 0.5328\n",
      "Epoch 20 Batch 950 Loss 0.0090 Accuracy 0.5328\n",
      "Saving checkpoint for epoch 20 at ./training_checkpoints/ckpt-14\n",
      "Epoch 20 Loss 0.0090 Accuracy 0.5328\n",
      "Time taken for 1 epoch: 873.4287114143372 secs\n",
      "\n"
     ]
    }
   ],
   "source": [
    "for epoch in range(EPOCHS):\n",
    "    start = time.time()\n",
    "\n",
    "    train_loss.reset_states()\n",
    "    train_accuracy.reset_states()\n",
    "\n",
    "    # inp -> portuguese, tar -> english\n",
    "    for (batch, (inp, tar)) in enumerate(dataset):\n",
    "        train_step(inp, tar)\n",
    "\n",
    "        if batch % 50 == 0:\n",
    "            print('Epoch {} Batch {} Loss {:.4f} Accuracy {:.4f}'.format(\n",
    "                epoch + 1, batch, train_loss.result(), train_accuracy.result()))\n",
    "\n",
    "    if (epoch + 1) % 5 == 0:\n",
    "        ckpt_save_path = ckpt_manager.save()\n",
    "        print('Saving checkpoint for epoch {} at {}'.format(epoch+1,\n",
    "                                                            ckpt_save_path))\n",
    "\n",
    "    print('Epoch {} Loss {:.4f} Accuracy {:.4f}'.format(epoch + 1,\n",
    "                                                        train_loss.result(),\n",
    "                                                        train_accuracy.result()))\n",
    "\n",
    "    print('Time taken for 1 epoch: {} secs\\n'.format(time.time() - start))"
   ]
  },
  {
   "cell_type": "markdown",
   "metadata": {},
   "source": [
    "### 翻译\n",
    "评估函数类似于训练循环，不同之处在于在这里我们不使用 `教师强制`。每个时间步的解码器输入是其先前的预测、隐藏层状态和编码器输出。\n",
    "当模型预测 结束标记 时停止预测。\n",
    "存储 每个时间步的注意力权重。\n",
    "请注意：对于一个输入，编码器输出仅计算一次。"
   ]
  },
  {
   "cell_type": "code",
   "execution_count": 64,
   "metadata": {},
   "outputs": [],
   "source": [
    "MAX_LENGTH = 40\n",
    "\n",
    "def evaluate(inp_sentence):\n",
    "    attention_plot = np.zeros((max_length_targ, max_length_inp))\n",
    "    inputs = inp_lang.texts_to_sequences([inp_sentence])\n",
    "    print('inputs', inputs)\n",
    "    inputs = tf.keras.preprocessing.sequence.pad_sequences(inputs,\n",
    "                                                           maxlen=max_length_inp,\n",
    "                                                           padding='post')\n",
    "    encoder_input = tf.convert_to_tensor(inputs)\n",
    "\n",
    "    # 因为目标是英语，输入 transformer 的第一个词应该是\n",
    "    # 英语的开始标记。\n",
    "    decoder_input = [max_length_targ]\n",
    "    output = tf.expand_dims(decoder_input, 0)\n",
    "    \n",
    "    for i in range(MAX_LENGTH):\n",
    "        enc_padding_mask, combined_mask, dec_padding_mask = create_masks(\n",
    "            encoder_input, output)\n",
    "  \n",
    "        # predictions.shape == (batch_size, seq_len, vocab_size)\n",
    "        predictions, attention_weights = transformer(encoder_input, \n",
    "                                                     output,\n",
    "                                                     False,\n",
    "                                                     enc_padding_mask,\n",
    "                                                     combined_mask,\n",
    "                                                     dec_padding_mask)\n",
    "    \n",
    "        # 从 seq_len 维度选择最后一个词\n",
    "        predictions = predictions[: ,-1:, :]  # (batch_size, 1, vocab_size)\n",
    "\n",
    "        predicted_id = tf.cast(tf.argmax(predictions, axis=-1), tf.int32)\n",
    "    \n",
    "        # 如果 predicted_id 等于结束标记，就返回结果\n",
    "        if predicted_id == max_length_inp+1:\n",
    "            return tf.squeeze(output, axis=0), attention_weights\n",
    "\n",
    "        # 连接 predicted_id 与输出，作为解码器的输入传递到解码器。\n",
    "        output = tf.concat([output, predicted_id], axis=-1)\n",
    "\n",
    "    return tf.squeeze(output, axis=0), attention_weights"
   ]
  },
  {
   "cell_type": "code",
   "execution_count": 92,
   "metadata": {},
   "outputs": [],
   "source": [
    "def plot_attention_weights(attention, sentence, result, layer):\n",
    "    fig = plt.figure(figsize=(16, 8))\n",
    "\n",
    "    sentence = inp_lang.texts_to_sequences([sentence])\n",
    "\n",
    "    attention = tf.squeeze(attention[layer], axis=0)\n",
    "  \n",
    "    for head in range(attention.shape[0]):\n",
    "        ax = fig.add_subplot(2, 4, head+1)\n",
    "\n",
    "        # 画出注意力权重\n",
    "        ax.matshow(attention[head][:-1, :], cmap='viridis')\n",
    "\n",
    "        fontdict = {'fontsize': 10}\n",
    "\n",
    "        ax.set_xticks(range(len(sentence)+2))\n",
    "        ax.set_yticks(range(len(result)))\n",
    "\n",
    "        ax.set_ylim(len(result)-1.5, -0.5)\n",
    "\n",
    "        ax.set_xticklabels(\n",
    "            ['<start>']+[inp_lang.index_word[i] for i in sentence]+['<end>'], \n",
    "            fontdict=fontdict, rotation=90)\n",
    "\n",
    "        ax.set_yticklabels([targ_lang.index_word[i] for i in result.numpy().tolist()\n",
    "                            if i < max_length_targ], \n",
    "                           fontdict=fontdict)\n",
    "\n",
    "        ax.set_xlabel('Head {}'.format(head+1))\n",
    "  \n",
    "    plt.tight_layout()\n",
    "    plt.show()"
   ]
  },
  {
   "cell_type": "code",
   "execution_count": 93,
   "metadata": {},
   "outputs": [],
   "source": [
    "def translate(sentence, plot=''):\n",
    "    result, attention_weights = evaluate(sentence)\n",
    "    print(result)\n",
    "    predicted_sentence = [targ_lang.index_word[i] for i in result.numpy().tolist() if i < max_length_targ]\n",
    "\n",
    "    print('Input: {}'.format(sentence))\n",
    "    print('Predicted translation: {}'.format(predicted_sentence))\n",
    "\n",
    "    if plot:\n",
    "        plot_attention_weights(attention_weights, sentence, result, plot)"
   ]
  },
  {
   "cell_type": "markdown",
   "metadata": {},
   "source": [
    "### 恢复最新的检查点并验证"
   ]
  },
  {
   "cell_type": "code",
   "execution_count": 94,
   "metadata": {},
   "outputs": [
    {
     "name": "stdout",
     "output_type": "stream",
     "text": [
      "inputs [[15, 23, 3292]]\n",
      "tf.Tensor(\n",
      "[61 61  4  1  1  1  5  4  4  5  4  5  4  5  4  5  4  5  4  4  4  4  4  4\n",
      "  4  5  4  5  4  5  4  5  4  4  4  4  4  5  4  5  4], shape=(41,), dtype=int32)\n",
      "Input: '<start> you are lucky <end>'\n",
      "Predicted translation: ['<end>', '的', '的', '的', '。', '<end>', '<end>', '。', '<end>', '。', '<end>', '。', '<end>', '。', '<end>', '。', '<end>', '<end>', '<end>', '<end>', '<end>', '<end>', '<end>', '。', '<end>', '。', '<end>', '。', '<end>', '。', '<end>', '<end>', '<end>', '<end>', '<end>', '。', '<end>', '。', '<end>']\n"
     ]
    },
    {
     "ename": "TypeError",
     "evalue": "unhashable type: 'list'",
     "output_type": "error",
     "traceback": [
      "\u001b[0;31m-------------------------------------------------------------\u001b[0m",
      "\u001b[0;31mTypeError\u001b[0m                   Traceback (most recent call last)",
      "\u001b[0;32m<ipython-input-94-55d40a726f7a>\u001b[0m in \u001b[0;36m<module>\u001b[0;34m\u001b[0m\n\u001b[0;32m----> 1\u001b[0;31m \u001b[0mtranslate\u001b[0m\u001b[0;34m(\u001b[0m\u001b[0;34m\"'<start> you are lucky <end>'\"\u001b[0m\u001b[0;34m,\u001b[0m \u001b[0mplot\u001b[0m\u001b[0;34m=\u001b[0m\u001b[0;34m'decoder_layer4_block2'\u001b[0m\u001b[0;34m)\u001b[0m\u001b[0;34m\u001b[0m\u001b[0m\n\u001b[0m\u001b[1;32m      2\u001b[0m \u001b[0mprint\u001b[0m \u001b[0;34m(\u001b[0m\u001b[0;34m\"Real translation: this is the first book i've ever done.\"\u001b[0m\u001b[0;34m)\u001b[0m\u001b[0;34m\u001b[0m\u001b[0m\n",
      "\u001b[0;32m<ipython-input-93-a9d5ee33a8db>\u001b[0m in \u001b[0;36mtranslate\u001b[0;34m(sentence, plot)\u001b[0m\n\u001b[1;32m      8\u001b[0m \u001b[0;34m\u001b[0m\u001b[0m\n\u001b[1;32m      9\u001b[0m     \u001b[0;32mif\u001b[0m \u001b[0mplot\u001b[0m\u001b[0;34m:\u001b[0m\u001b[0;34m\u001b[0m\u001b[0m\n\u001b[0;32m---> 10\u001b[0;31m         \u001b[0mplot_attention_weights\u001b[0m\u001b[0;34m(\u001b[0m\u001b[0mattention_weights\u001b[0m\u001b[0;34m,\u001b[0m \u001b[0msentence\u001b[0m\u001b[0;34m,\u001b[0m \u001b[0mresult\u001b[0m\u001b[0;34m,\u001b[0m \u001b[0mplot\u001b[0m\u001b[0;34m)\u001b[0m\u001b[0;34m\u001b[0m\u001b[0m\n\u001b[0m",
      "\u001b[0;32m<ipython-input-92-72029744270e>\u001b[0m in \u001b[0;36mplot_attention_weights\u001b[0;34m(attention, sentence, result, layer)\u001b[0m\n\u001b[1;32m     20\u001b[0m \u001b[0;34m\u001b[0m\u001b[0m\n\u001b[1;32m     21\u001b[0m         ax.set_xticklabels(\n\u001b[0;32m---> 22\u001b[0;31m             \u001b[0;34m[\u001b[0m\u001b[0;34m'<start>'\u001b[0m\u001b[0;34m]\u001b[0m\u001b[0;34m+\u001b[0m\u001b[0;34m[\u001b[0m\u001b[0minp_lang\u001b[0m\u001b[0;34m.\u001b[0m\u001b[0mindex_word\u001b[0m\u001b[0;34m[\u001b[0m\u001b[0mi\u001b[0m\u001b[0;34m]\u001b[0m \u001b[0;32mfor\u001b[0m \u001b[0mi\u001b[0m \u001b[0;32min\u001b[0m \u001b[0msentence\u001b[0m\u001b[0;34m]\u001b[0m\u001b[0;34m+\u001b[0m\u001b[0;34m[\u001b[0m\u001b[0;34m'<end>'\u001b[0m\u001b[0;34m]\u001b[0m\u001b[0;34m,\u001b[0m\u001b[0;34m\u001b[0m\u001b[0m\n\u001b[0m\u001b[1;32m     23\u001b[0m             fontdict=fontdict, rotation=90)\n\u001b[1;32m     24\u001b[0m \u001b[0;34m\u001b[0m\u001b[0m\n",
      "\u001b[0;32m<ipython-input-92-72029744270e>\u001b[0m in \u001b[0;36m<listcomp>\u001b[0;34m(.0)\u001b[0m\n\u001b[1;32m     20\u001b[0m \u001b[0;34m\u001b[0m\u001b[0m\n\u001b[1;32m     21\u001b[0m         ax.set_xticklabels(\n\u001b[0;32m---> 22\u001b[0;31m             \u001b[0;34m[\u001b[0m\u001b[0;34m'<start>'\u001b[0m\u001b[0;34m]\u001b[0m\u001b[0;34m+\u001b[0m\u001b[0;34m[\u001b[0m\u001b[0minp_lang\u001b[0m\u001b[0;34m.\u001b[0m\u001b[0mindex_word\u001b[0m\u001b[0;34m[\u001b[0m\u001b[0mi\u001b[0m\u001b[0;34m]\u001b[0m \u001b[0;32mfor\u001b[0m \u001b[0mi\u001b[0m \u001b[0;32min\u001b[0m \u001b[0msentence\u001b[0m\u001b[0;34m]\u001b[0m\u001b[0;34m+\u001b[0m\u001b[0;34m[\u001b[0m\u001b[0;34m'<end>'\u001b[0m\u001b[0;34m]\u001b[0m\u001b[0;34m,\u001b[0m\u001b[0;34m\u001b[0m\u001b[0m\n\u001b[0m\u001b[1;32m     23\u001b[0m             fontdict=fontdict, rotation=90)\n\u001b[1;32m     24\u001b[0m \u001b[0;34m\u001b[0m\u001b[0m\n",
      "\u001b[0;31mTypeError\u001b[0m: unhashable type: 'list'"
     ]
    },
    {
     "data": {
      "image/png": "[encoded data removed]",
      "text/plain": [
       "<Figure size 1152x576 with 1 Axes>"
      ]
     },
     "metadata": {
      "needs_background": "light"
     },
     "output_type": "display_data"
    }
   ],
   "source": [
    "translate(\"'<start> you are lucky <end>'\", plot='decoder_layer4_block2')\n",
    "print (\"Real translation: this is the first book i've ever done.\")"
   ]
  },
  {
   "cell_type": "code",
   "execution_count": null,
   "metadata": {
    "scrolled": true
   },
   "outputs": [],
   "source": [
    "translate('<start> spreading the cost of their work over all users . <end>')"
   ]
  },
  {
   "cell_type": "code",
   "execution_count": null,
   "metadata": {},
   "outputs": [],
   "source": [
    "translate('<start> The House of Representatives approved a similar package earlier this month ! <end>')"
   ]
  },
  {
   "cell_type": "code",
   "execution_count": null,
   "metadata": {},
   "outputs": [],
   "source": [
    "translate('<start> Many companies seek reassurance that all is well by installing cyber-security tools to monitor employees ! <end>')"
   ]
  },
  {
   "cell_type": "code",
   "execution_count": null,
   "metadata": {},
   "outputs": [],
   "source": []
  }
 ],
 "metadata": {
  "kernelspec": {
   "display_name": "Python (tf2-1)",
   "language": "python",
   "name": "tf2"
  },
  "language_info": {
   "codemirror_mode": {
    "name": "ipython",
    "version": 3
   },
   "file_extension": ".py",
   "mimetype": "text/x-python",
   "name": "python",
   "nbconvert_exporter": "python",
   "pygments_lexer": "ipython3",
   "version": "3.6.2"
  }
 },
 "nbformat": 4,
 "nbformat_minor": 2
}
