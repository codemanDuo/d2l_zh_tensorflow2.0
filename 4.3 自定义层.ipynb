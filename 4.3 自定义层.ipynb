{
 "cells": [
  {
   "cell_type": "code",
   "execution_count": 1,
   "metadata": {},
   "outputs": [
    {
     "name": "stdout",
     "output_type": "stream",
     "text": [
      "2.0.0\n"
     ]
    }
   ],
   "source": [
    "# 导入模块\n",
    "import tensorflow as tf\n",
    "import os\n",
    "\n",
    "print(tf.__version__)"
   ]
  },
  {
   "cell_type": "code",
   "execution_count": 2,
   "metadata": {},
   "outputs": [],
   "source": [
    "# 自定义层\n",
    "class Mylayer(tf.keras.layers.Layer):\n",
    "    def __init__(self):\n",
    "        super().__init__()\n",
    "    \n",
    "    def call(self, inputs):\n",
    "        return inputs - tf.reduce_mean(inputs)"
   ]
  },
  {
   "cell_type": "code",
   "execution_count": 4,
   "metadata": {},
   "outputs": [
    {
     "data": {
      "text/plain": [
       "<tf.Tensor: id=4, shape=(5,), dtype=int32, numpy=array([-2, -1,  0,  1,  2])>"
      ]
     },
     "execution_count": 4,
     "metadata": {},
     "output_type": "execute_result"
    }
   ],
   "source": [
    "layer = Mylayer()\n",
    "layer(tf.constant([1,2,3,4,5]))\n"
   ]
  },
  {
   "cell_type": "code",
   "execution_count": 7,
   "metadata": {},
   "outputs": [
    {
     "data": {
      "text/plain": [
       "<tf.Tensor: id=42, shape=(2, 20), dtype=float32, numpy=\n",
       "array([[-0.446385  ,  0.6301856 ,  0.20005152,  0.17440099,  0.7496983 ,\n",
       "         0.13548554,  0.3464602 , -0.3619033 ,  0.4968888 ,  0.3229698 ,\n",
       "        -0.42583594, -0.9493694 ,  0.10649963, -1.107528  , -0.39249432,\n",
       "        -0.4126935 , -0.56481093,  0.07144813,  0.65953237,  0.19163543],\n",
       "       [-0.78403336,  0.55236584,  0.23523486,  0.30599973,  0.9889182 ,\n",
       "         0.41475227,  0.0786972 , -0.48034474,  0.35245046,  0.41343102,\n",
       "         0.04084873, -0.75407237, -0.13232446, -1.181412  , -0.18835855,\n",
       "         0.06244576, -0.18872862,  0.08756171,  0.51976484,  0.2325673 ]],\n",
       "      dtype=float32)>"
      ]
     },
     "execution_count": 7,
     "metadata": {},
     "output_type": "execute_result"
    }
   ],
   "source": [
    "X = tf.random.uniform((2,20))\n",
    "\n",
    "net = tf.keras.models.Sequential()\n",
    "net.add(tf.keras.layers.Flatten())\n",
    "net.add(tf.keras.layers.Dense(20))\n",
    "net.add(Mylayer())\n",
    "\n",
    "Y = net(X)\n",
    "Y"
   ]
  },
  {
   "cell_type": "code",
   "execution_count": 13,
   "metadata": {},
   "outputs": [],
   "source": [
    "# 定义一个带有参数训练参数的模型层\n",
    "\n",
    "class myDense(tf.keras.layers.Layer):\n",
    "    def __init__(self, units):\n",
    "        super().__init__()\n",
    "        self.units = units\n",
    "    \n",
    "    def build(self,input_shape):\n",
    "        self.w = self.add_weight(name='weight_w', shape=[input_shape[-1], self.units],initializer=tf.random_normal_initializer())\n",
    "        self.b = self.add_weight(name='weight_b',shape=[self.units],initializer=tf.zeros_initializer())\n",
    "        \n",
    "    def call(self, inputs):\n",
    "        y_pred = tf.matmul(inputs, self.w) + self.b\n",
    "        return y_pred"
   ]
  },
  {
   "cell_type": "code",
   "execution_count": 14,
   "metadata": {},
   "outputs": [
    {
     "data": {
      "text/plain": [
       "[array([[ 0.02371435,  0.09870239,  0.05122709],\n",
       "        [-0.0236817 ,  0.02792533, -0.05529245],\n",
       "        [ 0.05078423, -0.03863374, -0.03303786],\n",
       "        [-0.06420781,  0.01500452,  0.02963577],\n",
       "        [ 0.019641  ,  0.02328327, -0.01364207],\n",
       "        [ 0.01418063, -0.08452249, -0.00101489],\n",
       "        [ 0.02534047, -0.01680752, -0.00849258],\n",
       "        [-0.01683972, -0.02485506, -0.0323019 ],\n",
       "        [-0.04932365, -0.06599328,  0.00984652],\n",
       "        [-0.02736625, -0.05897095,  0.09234192],\n",
       "        [ 0.033977  ,  0.0016849 ,  0.0134071 ],\n",
       "        [-0.01230989,  0.07828643, -0.01648651],\n",
       "        [-0.01343331, -0.014604  ,  0.02700751],\n",
       "        [ 0.03754298, -0.04249939, -0.00055751],\n",
       "        [-0.00053397, -0.00706857,  0.05725952],\n",
       "        [-0.01105632, -0.07526953, -0.05828625],\n",
       "        [ 0.0849813 ,  0.04602172,  0.03112359],\n",
       "        [ 0.00871697, -0.02211624, -0.05208305],\n",
       "        [-0.04458448, -0.07187133,  0.03903696],\n",
       "        [ 0.01246086,  0.10141485, -0.02060576]], dtype=float32),\n",
       " array([0., 0., 0.], dtype=float32)]"
      ]
     },
     "execution_count": 14,
     "metadata": {},
     "output_type": "execute_result"
    }
   ],
   "source": [
    "dense = myDense(3)\n",
    "dense(X)\n",
    "dense.get_weights()"
   ]
  },
  {
   "cell_type": "code",
   "execution_count": 15,
   "metadata": {},
   "outputs": [
    {
     "data": {
      "text/plain": [
       "<tf.Tensor: id=119, shape=(2, 1), dtype=float32, numpy=\n",
       "array([[-0.03714238],\n",
       "       [-0.04073249]], dtype=float32)>"
      ]
     },
     "execution_count": 15,
     "metadata": {},
     "output_type": "execute_result"
    }
   ],
   "source": [
    "net = tf.keras.models.Sequential()\n",
    "net.add(myDense(8))\n",
    "net.add(myDense(1))\n",
    "\n",
    "net(X)\n"
   ]
  },
  {
   "cell_type": "code",
   "execution_count": null,
   "metadata": {},
   "outputs": [],
   "source": []
  }
 ],
 "metadata": {
  "kernelspec": {
   "display_name": "Python (tf2)",
   "language": "python",
   "name": "tf2"
  },
  "language_info": {
   "codemirror_mode": {
    "name": "ipython",
    "version": 3
   },
   "file_extension": ".py",
   "mimetype": "text/x-python",
   "name": "python",
   "nbconvert_exporter": "python",
   "pygments_lexer": "ipython3",
   "version": "3.6.10"
  }
 },
 "nbformat": 4,
 "nbformat_minor": 4
}
