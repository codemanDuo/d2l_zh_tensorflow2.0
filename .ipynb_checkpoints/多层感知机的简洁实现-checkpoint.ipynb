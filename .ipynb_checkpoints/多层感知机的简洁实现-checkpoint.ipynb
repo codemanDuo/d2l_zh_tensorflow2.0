{
 "cells": [
  {
   "cell_type": "code",
   "execution_count": 1,
   "metadata": {},
   "outputs": [
    {
     "name": "stdout",
     "output_type": "stream",
     "text": [
      "2.0.0\n"
     ]
    }
   ],
   "source": [
    "import tensorflow as tf\n",
    "import os\n",
    "print(tf.__version__)"
   ]
  },
  {
   "cell_type": "code",
   "execution_count": 2,
   "metadata": {},
   "outputs": [],
   "source": [
    "# 导入数据\n",
    "from tensorflow.keras.datasets import fashion_mnist\n",
    "\n",
    "num_inputs = 784\n",
    "# 分类类别数为: 10 分类\n",
    "num_outputs = 10\n",
    "\n",
    "(x_train, y_train), (x_test, y_test) = fashion_mnist.load_data()\n",
    "# 数据预处理\n",
    "def scale(x, y):\n",
    "    x = tf.cast(x, dtype=tf.float32)\n",
    "    y = tf.cast(y, dtype=tf.int32)\n",
    "    # 后面使用 sparse_categorical_crossentropy,即真实值所以不需要 one-hot,如果是categorical_crossentropy就需要one-hot\n",
    "#     y = tf.one_hot(y, depth=num_outputs)\n",
    "    x = x / 255.0\n",
    "    return x, y\n",
    "\n",
    "\n",
    "train_db = tf.data.Dataset.from_tensor_slices((x_train, y_train)).map(scale).batch(64)   # x:shape=( , 28, 28), y:shape=(64, 10)\n",
    "test_db = tf.data.Dataset.from_tensor_slices((x_test, y_test)).map(scale).batch(64)   # x:shape=( , 28, 28), y:shape=(64, 10)\n",
    "# next(iter(train_db))"
   ]
  },
  {
   "cell_type": "code",
   "execution_count": 3,
   "metadata": {},
   "outputs": [],
   "source": [
    "# 创建模型\n",
    "from tensorflow import keras"
   ]
  },
  {
   "cell_type": "code",
   "execution_count": 4,
   "metadata": {},
   "outputs": [],
   "source": [
    "model = keras.Sequential([\n",
    "    keras.layers.Flatten(input_shape=(28, 28)),    # 展开图片\n",
    "    keras.layers.Dense(128, activation=tf.nn.relu),\n",
    "    keras.layers.Dense(10, activation=tf.nn.softmax)\n",
    "])"
   ]
  },
  {
   "cell_type": "code",
   "execution_count": 5,
   "metadata": {},
   "outputs": [],
   "source": [
    "# 定义损失函数和优化器\n",
    "optimizer = tf.optimizers.Adam(lr=0.01)\n",
    "loss = 'sparse_categorical_crossentropy'"
   ]
  },
  {
   "cell_type": "code",
   "execution_count": 6,
   "metadata": {},
   "outputs": [
    {
     "name": "stdout",
     "output_type": "stream",
     "text": [
      "Epoch 1/2\n",
      "938/938 [==============================] - 18s 19ms/step - loss: 0.5131 - accuracy: 0.8163\n",
      "Epoch 2/2\n",
      "938/938 [==============================] - 18s 19ms/step - loss: 0.4152 - accuracy: 0.8495\n"
     ]
    },
    {
     "data": {
      "text/plain": [
       "<tensorflow.python.keras.callbacks.History at 0x1912c426c50>"
      ]
     },
     "execution_count": 6,
     "metadata": {},
     "output_type": "execute_result"
    }
   ],
   "source": [
    "# 编译模型\n",
    "model.compile(optimizer=optimizer,loss=loss, metrics=['accuracy'])\n",
    "# 训练模型\n",
    "\n",
    "model.fit_generator(generator=train_db, epochs=2)"
   ]
  },
  {
   "cell_type": "code",
   "execution_count": 7,
   "metadata": {},
   "outputs": [
    {
     "name": "stdout",
     "output_type": "stream",
     "text": [
      "Test Acc: 0.8418\n"
     ]
    }
   ],
   "source": [
    "test_loss, test_acc = model.evaluate_generator(test_db)\n",
    "print('Test Acc:',test_acc)"
   ]
  },
  {
   "cell_type": "code",
   "execution_count": null,
   "metadata": {},
   "outputs": [],
   "source": []
  }
 ],
 "metadata": {
  "kernelspec": {
   "display_name": "Python (tf2)",
   "language": "python",
   "name": "tf2"
  },
  "language_info": {
   "codemirror_mode": {
    "name": "ipython",
    "version": 3
   },
   "file_extension": ".py",
   "mimetype": "text/x-python",
   "name": "python",
   "nbconvert_exporter": "python",
   "pygments_lexer": "ipython3",
   "version": "3.6.10"
  }
 },
 "nbformat": 4,
 "nbformat_minor": 2
}
