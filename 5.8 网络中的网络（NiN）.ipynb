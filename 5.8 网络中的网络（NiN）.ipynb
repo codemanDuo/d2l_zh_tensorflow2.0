{
 "cells": [
  {
   "cell_type": "code",
   "execution_count": 1,
   "metadata": {},
   "outputs": [
    {
     "name": "stdout",
     "output_type": "stream",
     "text": [
      "2.0.0\n"
     ]
    }
   ],
   "source": [
    "import tensorflow as tf\n",
    "print(tf.__version__)\n",
    "\n",
    "for gpu in tf.config.experimental.list_physical_devices('GPU'):\n",
    "    tf.config.experimental.set_memory_growth(gpu, True)"
   ]
  },
  {
   "cell_type": "markdown",
   "metadata": {},
   "source": [
    "#### NiN块是NiN中的基础块。它由一个卷积层加两个充当全连接层的1×11×1卷积层串联而成。其中第一个卷积层的超参数可以自行设置，而第二和第三个卷积层的超参数一般是固定的。"
   ]
  },
  {
   "cell_type": "code",
   "execution_count": 2,
   "metadata": {},
   "outputs": [],
   "source": [
    "# 定义一个block\n",
    "def nin_block(num_channels, kernel_size, strides, padding):\n",
    "    blk = tf.keras.models.Sequential()\n",
    "    blk.add(tf.keras.layers.Conv2D(num_channels, kernel_size,\n",
    "                                   strides=strides, padding=padding, activation='relu',kernel_initializer='glorot_uniform')) \n",
    "    blk.add(tf.keras.layers.Conv2D(num_channels, kernel_size=1,activation='relu',kernel_initializer='glorot_uniform')) \n",
    "    blk.add(tf.keras.layers.Conv2D(num_channels, kernel_size=1,activation='relu',kernel_initializer='glorot_uniform'))    \n",
    "    return blk"
   ]
  },
  {
   "cell_type": "markdown",
   "metadata": {},
   "source": [
    "#### NiN去掉了AlexNet最后的3个全连接层，取而代之地，NiN使用了输出通道数等于标签类别数的NiN块，然后使用全局平均池化层对每个通道中所有元素求平均并直接用于分类。"
   ]
  },
  {
   "cell_type": "code",
   "execution_count": 3,
   "metadata": {},
   "outputs": [],
   "source": [
    "net = tf.keras.models.Sequential()\n",
    "net.add(nin_block(96, kernel_size=11, strides=4, padding='valid'))\n",
    "net.add(tf.keras.layers.MaxPool2D(pool_size=3, strides=2))\n",
    "net.add(nin_block(256, kernel_size=5, strides=1, padding='same'))\n",
    "net.add(tf.keras.layers.MaxPool2D(pool_size=3, strides=2))\n",
    "net.add(nin_block(384, kernel_size=3, strides=1, padding='same'))\n",
    "net.add(tf.keras.layers.MaxPool2D(pool_size=3, strides=2))\n",
    "net.add(tf.keras.layers.Dropout(0.5))\n",
    "net.add(nin_block(10, kernel_size=3, strides=1, padding='same'))\n",
    "net.add(tf.keras.layers.GlobalAveragePooling2D())\n",
    "net.add(tf.keras.layers.Flatten())\n"
   ]
  },
  {
   "cell_type": "code",
   "execution_count": 4,
   "metadata": {},
   "outputs": [
    {
     "name": "stdout",
     "output_type": "stream",
     "text": [
      "sequential_1 output shape:\t (1, 54, 54, 96)\n",
      "max_pooling2d output shape:\t (1, 26, 26, 96)\n",
      "sequential_2 output shape:\t (1, 26, 26, 256)\n",
      "max_pooling2d_1 output shape:\t (1, 12, 12, 256)\n",
      "sequential_3 output shape:\t (1, 12, 12, 384)\n",
      "max_pooling2d_2 output shape:\t (1, 5, 5, 384)\n",
      "dropout output shape:\t (1, 5, 5, 384)\n",
      "sequential_4 output shape:\t (1, 5, 5, 10)\n",
      "global_average_pooling2d output shape:\t (1, 10)\n",
      "flatten output shape:\t (1, 10)\n"
     ]
    }
   ],
   "source": [
    "X = tf.random.uniform((1,224,224,1))\n",
    "for blk in net.layers:\n",
    "    X = blk(X)\n",
    "    print(blk.name, 'output shape:\\t', X.shape)\n"
   ]
  },
  {
   "cell_type": "code",
   "execution_count": 5,
   "metadata": {},
   "outputs": [],
   "source": [
    "# 获取数据\n",
    "from tensorflow.keras.datasets import fashion_mnist\n",
    "import matplotlib.pyplot as plt\n",
    "\n",
    "\n",
    "(x_train, y_train), (x_test, y_test) = fashion_mnist.load_data()\n",
    "\n",
    "\n",
    "# 数据预处理\n",
    "def data_scale(x, y):\n",
    "    x = tf.cast(x, tf.float32)\n",
    "    x = x / 255.0\n",
    "    x = tf.reshape(x, (x.shape[0], x.shape[1], 1))\n",
    "    x = tf.image.resize_with_pad(image=x, target_height=224,target_width=224)\n",
    "    \n",
    "    return x, y\n",
    "# 由于笔记本训练太慢了，使用1000条数据，跑一下先,算力够的可以直接使用全部数据更加明显\n",
    "train_db = tf.data.Dataset.from_tensor_slices((x_train[0:5000],y_train[0:5000])).shuffle(20).map(data_scale).batch(32)\n",
    "test_db = tf.data.Dataset.from_tensor_slices((x_test[0:1000],y_test[0:1000])).shuffle(20).map(data_scale).batch(32)"
   ]
  },
  {
   "cell_type": "code",
   "execution_count": 6,
   "metadata": {},
   "outputs": [],
   "source": [
    "# 定义优化器和损失函数\n",
    "optimizer = tf.keras.optimizers.SGD(lr=1e-2)\n",
    "loss = tf.keras.losses.sparse_categorical_crossentropy\n",
    "net.compile(optimizer=optimizer, loss=loss, metrics=['accuracy'])"
   ]
  },
  {
   "cell_type": "code",
   "execution_count": null,
   "metadata": {},
   "outputs": [
    {
     "name": "stdout",
     "output_type": "stream",
     "text": [
      "129/157 [=======================>......] - ETA: 1:58 - loss: 9.6310 - accuracy: 0.0995"
     ]
    }
   ],
   "source": [
    "net.fit_generator(train_db, epochs=1, validation_data=test_db)    # 这里就不跑太多轮了，有机器可以自己调参跑个好的结果\n",
    "net.summary()"
   ]
  },
  {
   "cell_type": "code",
   "execution_count": null,
   "metadata": {},
   "outputs": [],
   "source": [
    "# 可以像alexnet一样，打印中间特征层看一下\n",
    "X = next(iter(train_db))[0][0]\n",
    "\n",
    "def show(X):\n",
    "    X_ = tf.squeeze(X)\n",
    "    plt.imshow(X_)\n",
    "    plt.figure(figsize=(5,5))\n",
    "    plt.show()\n",
    "\n",
    "\n",
    "X = tf.expand_dims(X, axis=0)\n",
    "# 打印前 8 层的部分特征图\n",
    "for blk in net.layers[0:8]:\n",
    "    print(blk.name,'itput shape:\\t',X.shape)\n",
    "    show(X[0,:,:,0])\n",
    "    X = blk(X)\n",
    "    print(blk.name, 'output shape:\\t', X.shape)\n",
    "    for i in range(3):\n",
    "        show(X[0,:,:,i])"
   ]
  },
  {
   "cell_type": "code",
   "execution_count": null,
   "metadata": {},
   "outputs": [],
   "source": []
  }
 ],
 "metadata": {
  "kernelspec": {
   "display_name": "Python (tf2)",
   "language": "python",
   "name": "tf2"
  },
  "language_info": {
   "codemirror_mode": {
    "name": "ipython",
    "version": 3
   },
   "file_extension": ".py",
   "mimetype": "text/x-python",
   "name": "python",
   "nbconvert_exporter": "python",
   "pygments_lexer": "ipython3",
   "version": "3.6.10"
  }
 },
 "nbformat": 4,
 "nbformat_minor": 4
}
