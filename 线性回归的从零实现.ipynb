{
 "cells": [
  {
   "cell_type": "code",
   "execution_count": null,
   "metadata": {},
   "outputs": [],
   "source": [
    "import tensorflow as tf\n",
    "\n",
    "print(tf.__version__)\n",
    "\n",
    "from tensorflow.python.client import device_lib\n",
    "import os\n",
    "os.environ['CUDA_VISIBLE_DEVICES'] = \"0, 1\"\n",
    "gpus = tf.config.experimental.list_physical_devices(device_type='GPU')\n",
    "cpus = tf.config.experimental.list_physical_devices(device_type='CPU')\n",
    "print(gpus, cpus)\n",
    "# 设置当前程序的可见设备范围\n",
    "tf.config.experimental.set_visible_devices(devices=gpus, device_type='GPU')\n",
    "\n",
    "# 设置仅在需要时申请：\n",
    "for gpu in gpus:\n",
    "    tf.config.experimental.set_memory_growth(gpu, True)\n",
    "    \n",
    "# 下面的方式是设置Tensorflow固定消耗GPU:0的2GB显存\n",
    "tf.config.experimental.set_virtual_device_configuration(\n",
    "    gpus[0],\n",
    "    [tf.config.experimental.VirtualDeviceConfiguration(memory_limit=1024)]\n",
    ")\n",
    "\n",
    "# 获取本地 gpu 资源\n",
    "# def get_available_gpus():\n",
    "#   local_device_protos = device_lib.list_local_devices()\n",
    "#   return [x.name for x in local_device_protos if x.device_type == 'GPU']\n",
    "\n",
    "# print(get_available_gpus())"
   ]
  },
  {
   "cell_type": "code",
   "execution_count": null,
   "metadata": {},
   "outputs": [],
   "source": [
    "with tf.device('/device:GPU:0'):\n",
    "    w = tf.constant([[2, -3.4]])\n",
    "    b = tf.constant([4.2])\n",
    "    x = tf.random.normal([1000, 2], mean=0, stddev=10)\n",
    "    e = tf.random.normal([1000, 2], mean=0, stddev=0.1)\n",
    "    W = tf.Variable(tf.constant([5, 1]))\n",
    "    B = tf.Variable(tf.constant([1]))\n",
    "w"
   ]
  },
  {
   "cell_type": "code",
   "execution_count": null,
   "metadata": {},
   "outputs": [],
   "source": [
    "import random\n",
    "from matplotlib import pyplot as plt\n",
    "# 线性回归模型， y = \n",
    "# 生成数据,生成1000组数据\n",
    "\n",
    "num_inputs = 2\n",
    "num_examples = 1000\n",
    "true_y = tf.matmul(x, tf.transpose(w)) + b\n",
    "x, true_y\n",
    "# 读取数据"
   ]
  },
  {
   "cell_type": "code",
   "execution_count": null,
   "metadata": {},
   "outputs": [],
   "source": [
    "def set_figsize(figsize=(3.5, 2.5)):\n",
    "    plt.rcParams['figure.figsize'] = figsize\n",
    "\n",
    "set_figsize()\n",
    "plt.scatter(x[: ,1], true_y, 1)"
   ]
  },
  {
   "cell_type": "code",
   "execution_count": null,
   "metadata": {},
   "outputs": [],
   "source": [
    "class Mymodel():\n",
    "    def __init__(self):\n",
    "        self.w = tf.Variable([[2.3, 1.2]])\n",
    "        self.b = tf.Variable([8.0])\n",
    "    \n",
    "    def __call__(self, x):\n",
    "        self.y = tf.matmul(x , tf.transpose(self.w)) + self.b\n",
    "        return self.y"
   ]
  },
  {
   "cell_type": "code",
   "execution_count": null,
   "metadata": {},
   "outputs": [],
   "source": [
    "def process(x, y):\n",
    "    return x, y\n",
    "    \n",
    "db = tf.data.Dataset.from_tensor_slices((x, true_y))\n",
    "db = db.shuffle(100)\n",
    "db2 = db.map(process)\n",
    "db_batch = db.batch(32)\n",
    "# db_iter = next(iter(db_batch))\n",
    "# print(db_iter[1].shape)"
   ]
  },
  {
   "cell_type": "code",
   "execution_count": null,
   "metadata": {},
   "outputs": [],
   "source": [
    "def loss(predicted_y, desired_y):\n",
    "    return tf.reduce_mean(tf.square(predicted_y - tf.reshape(desired_y, predicted_y.shape)))\n"
   ]
  },
  {
   "cell_type": "code",
   "execution_count": null,
   "metadata": {},
   "outputs": [],
   "source": [
    "def train(model, inputs, outputs, learning_rate):\n",
    "    with tf.GradientTape() as t:\n",
    "        current_loss = loss(model(inputs), outputs)\n",
    "        print('loss',current_loss)\n",
    "    dW, db = t.gradient(current_loss, [model.w, model.b])\n",
    "    # tf.assign_sub(ref, value, use_locking=None, name=None)，变量 ref 减去 value值，即 ref = ref - value\n",
    "    model.w.assign_sub(learning_rate * dW)\n",
    "    model.b.assign_sub(learning_rate * db)\n"
   ]
  },
  {
   "cell_type": "code",
   "execution_count": null,
   "metadata": {},
   "outputs": [],
   "source": [
    "model = Mymodel()\n",
    "\n",
    "Ws, bs = [], []\n",
    "epoches = 20\n",
    "\n",
    "steps = int(1000/32)\n",
    "for i in range(epoches):\n",
    "    for d in iter(db_batch):\n",
    "#         d = next(iter(db_batch))\n",
    "        it = d[0]\n",
    "#         print(it)\n",
    "        ot = d[1]\n",
    "#         print(ot)\n",
    "#         current_loss = loss(model(it), ot)\n",
    "#         print(current_loss)\n",
    "\n",
    "        train(model, it, ot, learning_rate=0.001)\n",
    "\n",
    "    Ws.append(model.w.numpy())\n",
    "    bs.append(model.b.numpy())\n",
    "    print('w',(Ws[-1]))\n",
    "    print('b',(bs[-1]))\n",
    "#         print('Epoch %2d: W=%1.2f b=%1.2f, loss=%2.5f' %\n",
    "#               (epoch, Ws[-1], bs[-1], current_loss))"
   ]
  },
  {
   "cell_type": "code",
   "execution_count": null,
   "metadata": {},
   "outputs": [],
   "source": [
    "#     w = tf.constant([[2, -3.4]])\n",
    "#     b = tf.constant([4.2])\n",
    "# print(bs)\n",
    "# plt.plot(epochs, Ws, 'r',\n",
    "#          epochs, bs, 'b')\n",
    "# plt.plot([TRUE_W] * len(epochs), 'r--',\n",
    "#          [TRUE_b] * len(epochs), 'b--')\n",
    "# plt.legend(['W', 'b', 'true W', 'true_b'])\n",
    "# plt.show()\n",
    "\n",
    "\n",
    "plt.figure(figsize=(100, 60))\n",
    "plt.plot(range(epoches), [i[0] for i in Ws], 'r',\n",
    "         range(epoches), [i[0] for i in bs], 'b', linewidth=2)\n",
    "plt.plot([2] * epoches, 'r--',\n",
    "         [4.2] * epoches, 'b--', linewidth=2)\n",
    "\n",
    "plt.xlabel('epoches(time)')\n",
    "plt.ylabel(\"w/b\")\n",
    "plt.grid(True)\n",
    "plt.title(\"Python chart\")\n",
    "plt.xticks(fontsize=20)\n",
    "plt.yticks(fontsize=20)\n",
    "plt.legend(['W', 'b', 'true W', 'true_b'])\n",
    "plt.show()"
   ]
  },
  {
   "cell_type": "code",
   "execution_count": null,
   "metadata": {},
   "outputs": [],
   "source": []
  }
 ],
 "metadata": {
  "kernelspec": {
   "display_name": "Python (tf2-1)",
   "language": "python",
   "name": "tf2"
  },
  "language_info": {
   "codemirror_mode": {
    "name": "ipython",
    "version": 3
   },
   "file_extension": ".py",
   "mimetype": "text/x-python",
   "name": "python",
   "nbconvert_exporter": "python",
   "pygments_lexer": "ipython3",
   "version": "3.6.8"
  }
 },
 "nbformat": 4,
 "nbformat_minor": 2
}
