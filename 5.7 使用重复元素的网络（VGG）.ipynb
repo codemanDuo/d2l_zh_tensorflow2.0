{
 "cells": [
  {
   "cell_type": "code",
   "execution_count": 1,
   "metadata": {},
   "outputs": [
    {
     "name": "stdout",
     "output_type": "stream",
     "text": [
      "2.0.0\n"
     ]
    }
   ],
   "source": [
    "import tensorflow as tf\n",
    "import os\n",
    "\n",
    "print(tf.__version__)"
   ]
  },
  {
   "cell_type": "code",
   "execution_count": 2,
   "metadata": {},
   "outputs": [],
   "source": [
    "# for gpu in tf.config.experimental.list_physical_devices('GPU'):\n",
    "#     tf.config.experimental.set_memory_growth(gpu, True)"
   ]
  },
  {
   "cell_type": "markdown",
   "metadata": {},
   "source": [
    "#### VGG块的组成规律是：连续使用数个相同的填充为1、窗口形状为 3×3 的卷积层后接上一个步幅为2、窗口形状为 2×2 的最大池化层。卷积层保持输入的高和宽不变，而池化层则对其减半。我们使用vgg_block函数来实现这个基础的VGG块，它可以指定卷积层的数量num_convs和输出通道数num_channels"
   ]
  },
  {
   "cell_type": "code",
   "execution_count": 3,
   "metadata": {},
   "outputs": [],
   "source": [
    "# 定义一个重复使用的vgg_block块\n",
    "\n",
    "def vgg_block(net, num_convs, num_channels):\n",
    "    # 参数说明：num_convs:卷积的个数，num_channels为卷积核的个数， num_convs个卷积核+maxpool2d\n",
    "    for _ in range(num_convs):\n",
    "        net.add(tf.keras.layers.Conv2D(num_channels,kernel_size=3,\n",
    "                                    padding='same',activation='relu'))\n",
    "\n",
    "    net.add(tf.keras.layers.MaxPool2D(pool_size=2, strides=2))\n",
    "    return net\n"
   ]
  },
  {
   "cell_type": "code",
   "execution_count": 4,
   "metadata": {},
   "outputs": [],
   "source": [
    "conv_arch = ((1, 64), (1, 128), (2, 256), (2, 512), (2, 512))"
   ]
  },
  {
   "cell_type": "code",
   "execution_count": 5,
   "metadata": {},
   "outputs": [
    {
     "data": {
      "text/plain": [
       "<tensorflow.python.keras.engine.sequential.Sequential at 0x217f0b83e80>"
      ]
     },
     "execution_count": 5,
     "metadata": {},
     "output_type": "execute_result"
    }
   ],
   "source": [
    "# 当然也可以自己自定义layer层，但是学会使用Sequential方式堆叠规范的层，更加简单方便\n",
    "\n",
    "def vgg_net(conv_arch):\n",
    "    vgg = tf.keras.models.Sequential()\n",
    "    for n, k in conv_arch:\n",
    "        vgg_block(vgg,n, k)\n",
    "    # 注意 sequential.add() 可以直接添加一个叠加层，但是这个叠加层会作为一个整体,这里就逐个添加了，方便展示模型结构\n",
    "#         net.add(tf.keras.models.Sequential([tf.keras.layers.Flatten(),\n",
    "#              tf.keras.layers.Dense(4096,activation='relu'),\n",
    "#              tf.keras.layers.Dropout(0.5),\n",
    "#              tf.keras.layers.Dense(4096,activation='relu'),\n",
    "#              tf.keras.layers.Dropout(0.5),\n",
    "#              tf.keras.layers.Dense(10,activation='sigmoid')]))\n",
    "    vgg.add(tf.keras.layers.Flatten())\n",
    "    vgg.add(tf.keras.layers.Dense(4096,activation='relu'))\n",
    "    vgg.add(tf.keras.layers.Dropout(0.5))\n",
    "    vgg.add(tf.keras.layers.Dense(4096,activation='relu'))\n",
    "    vgg.add(tf.keras.layers.Dropout(0.5))\n",
    "    vgg.add(tf.keras.layers.Dense(10,activation='sigmoid'))\n",
    "    return vgg\n",
    "\n",
    "vgg = vgg_net(conv_arch)\n",
    "vgg"
   ]
  },
  {
   "cell_type": "code",
   "execution_count": 6,
   "metadata": {},
   "outputs": [
    {
     "name": "stdout",
     "output_type": "stream",
     "text": [
      "conv2d output shape:\t (1, 224, 224, 64)\n",
      "max_pooling2d output shape:\t (1, 112, 112, 64)\n",
      "conv2d_1 output shape:\t (1, 112, 112, 128)\n",
      "max_pooling2d_1 output shape:\t (1, 56, 56, 128)\n",
      "conv2d_2 output shape:\t (1, 56, 56, 256)\n",
      "conv2d_3 output shape:\t (1, 56, 56, 256)\n",
      "max_pooling2d_2 output shape:\t (1, 28, 28, 256)\n",
      "conv2d_4 output shape:\t (1, 28, 28, 512)\n",
      "conv2d_5 output shape:\t (1, 28, 28, 512)\n",
      "max_pooling2d_3 output shape:\t (1, 14, 14, 512)\n",
      "conv2d_6 output shape:\t (1, 14, 14, 512)\n",
      "conv2d_7 output shape:\t (1, 14, 14, 512)\n",
      "max_pooling2d_4 output shape:\t (1, 7, 7, 512)\n",
      "flatten output shape:\t (1, 25088)\n",
      "dense output shape:\t (1, 4096)\n",
      "dropout output shape:\t (1, 4096)\n",
      "dense_1 output shape:\t (1, 4096)\n",
      "dropout_1 output shape:\t (1, 4096)\n",
      "dense_2 output shape:\t (1, 10)\n"
     ]
    }
   ],
   "source": [
    "X = tf.random.uniform((1,224,224,1))\n",
    "for blk in vgg.layers:\n",
    "    X = blk(X)\n",
    "    print(blk.name, 'output shape:\\t', X.shape)"
   ]
  },
  {
   "cell_type": "markdown",
   "metadata": {},
   "source": [
    "#### 因为VGG-11计算上比AlexNet更加复杂，出于测试的目的我们构造一个通道数更小，或者说更窄的网络在Fashion-MNIST数据集上进行训练。"
   ]
  },
  {
   "cell_type": "code",
   "execution_count": 7,
   "metadata": {},
   "outputs": [],
   "source": [
    "ratio = 8\n",
    "# 将每个卷积层的输出通道数较少为 1/ 8\n",
    "small_conv_arch = [(pair[0], pair[1] // ratio) for pair in conv_arch]\n",
    "net = vgg_net(small_conv_arch)"
   ]
  },
  {
   "cell_type": "code",
   "execution_count": 8,
   "metadata": {},
   "outputs": [
    {
     "data": {
      "image/png": "[encoded data removed]",
      "text/plain": [
       "<Figure size 432x288 with 1 Axes>"
      ]
     },
     "metadata": {
      "needs_background": "light"
     },
     "output_type": "display_data"
    },
    {
     "data": {
      "text/plain": [
       "<Figure size 360x360 with 0 Axes>"
      ]
     },
     "metadata": {},
     "output_type": "display_data"
    },
    {
     "data": {
      "image/png": "[encoded data removed]",
      "text/plain": [
       "<Figure size 360x360 with 1 Axes>"
      ]
     },
     "metadata": {
      "needs_background": "light"
     },
     "output_type": "display_data"
    }
   ],
   "source": [
    "# 获取数据\n",
    "from tensorflow.keras.datasets import fashion_mnist\n",
    "import matplotlib.pyplot as plt\n",
    "\n",
    "\n",
    "(x_train, y_train), (x_test, y_test) = fashion_mnist.load_data()\n",
    "\n",
    "# 熟悉一下，tf.image.resize_with_pad 函数\n",
    "def resize(x):\n",
    "    x = tf.cast(x, tf.float32)\n",
    "    x = tf.reshape(x, (x.shape[0], x.shape[1], 1))\n",
    "    x = tf.image.resize_with_pad(image=x, target_height=100, target_width=100, method='bilinear')\n",
    "    x = tf.squeeze(x)\n",
    "    return x\n",
    "\n",
    "img = x_train[0]\n",
    "img2 = resize(img)\n",
    "plt.imshow(img)\n",
    "plt.figure(figsize=(5,5))\n",
    "plt.show()\n",
    "plt.figure(figsize=(5,5))\n",
    "plt.imshow(img2)\n",
    "plt.show()"
   ]
  },
  {
   "cell_type": "code",
   "execution_count": 9,
   "metadata": {},
   "outputs": [],
   "source": [
    "# 数据预处理\n",
    "def data_scale(x, y):\n",
    "    x = tf.cast(x, tf.float32)\n",
    "    x = x / 255.0\n",
    "    x = tf.reshape(x, (x.shape[0], x.shape[1], 1))\n",
    "    x = tf.image.resize_with_pad(image=x, target_height=224,target_width=224)\n",
    "    \n",
    "    return x, y\n",
    "# 由于笔记本训练太慢了，使用1000条数据，跑一下先,算力够的可以直接使用全部数据更加明显\n",
    "train_db = tf.data.Dataset.from_tensor_slices((x_train[0:1000],y_train[0:1000])).shuffle(20).map(data_scale).batch(128)\n",
    "test_db = tf.data.Dataset.from_tensor_slices((x_test[0:1000],y_test[0:1000])).shuffle(20).map(data_scale).batch(128)"
   ]
  },
  {
   "cell_type": "code",
   "execution_count": 12,
   "metadata": {},
   "outputs": [],
   "source": [
    "# 定义优化器和损失函数\n",
    "optimizer = tf.keras.optimizers.Adam(lr=1e-1)\n",
    "loss = tf.keras.losses.sparse_categorical_crossentropy\n",
    "net.compile(optimizer=optimizer, loss=loss, metrics=['accuracy'])"
   ]
  },
  {
   "cell_type": "code",
   "execution_count": 13,
   "metadata": {},
   "outputs": [
    {
     "name": "stdout",
     "output_type": "stream",
     "text": [
      "Epoch 1/5\n",
      "8/8 [==============================] - 55s 7s/step - loss: 11.3158 - accuracy: 0.1000 - val_loss: 12.4607 - val_accuracy: 0.1050\n",
      "Epoch 2/5\n",
      "8/8 [==============================] - 57s 7s/step - loss: 12.4612 - accuracy: 0.1040 - val_loss: 12.4571 - val_accuracy: 0.1050\n",
      "Epoch 3/5\n",
      "8/8 [==============================] - 57s 7s/step - loss: 12.4611 - accuracy: 0.1040 - val_loss: 12.4680 - val_accuracy: 0.1050\n",
      "Epoch 4/5\n",
      "8/8 [==============================] - 56s 7s/step - loss: 12.4486 - accuracy: 0.1040 - val_loss: 12.4607 - val_accuracy: 0.1050\n",
      "Epoch 5/5\n",
      "8/8 [==============================] - 58s 7s/step - loss: 12.4424 - accuracy: 0.1040 - val_loss: 12.4643 - val_accuracy: 0.1050\n",
      "Model: \"sequential_1\"\n",
      "_________________________________________________________________\n",
      "Layer (type)                 Output Shape              Param #   \n",
      "=================================================================\n",
      "conv2d_8 (Conv2D)            multiple                  80        \n",
      "_________________________________________________________________\n",
      "max_pooling2d_5 (MaxPooling2 multiple                  0         \n",
      "_________________________________________________________________\n",
      "conv2d_9 (Conv2D)            multiple                  1168      \n",
      "_________________________________________________________________\n",
      "max_pooling2d_6 (MaxPooling2 multiple                  0         \n",
      "_________________________________________________________________\n",
      "conv2d_10 (Conv2D)           multiple                  4640      \n",
      "_________________________________________________________________\n",
      "conv2d_11 (Conv2D)           multiple                  9248      \n",
      "_________________________________________________________________\n",
      "max_pooling2d_7 (MaxPooling2 multiple                  0         \n",
      "_________________________________________________________________\n",
      "conv2d_12 (Conv2D)           multiple                  18496     \n",
      "_________________________________________________________________\n",
      "conv2d_13 (Conv2D)           multiple                  36928     \n",
      "_________________________________________________________________\n",
      "max_pooling2d_8 (MaxPooling2 multiple                  0         \n",
      "_________________________________________________________________\n",
      "conv2d_14 (Conv2D)           multiple                  36928     \n",
      "_________________________________________________________________\n",
      "conv2d_15 (Conv2D)           multiple                  36928     \n",
      "_________________________________________________________________\n",
      "max_pooling2d_9 (MaxPooling2 multiple                  0         \n",
      "_________________________________________________________________\n",
      "flatten_1 (Flatten)          multiple                  0         \n",
      "_________________________________________________________________\n",
      "dense_3 (Dense)              multiple                  12849152  \n",
      "_________________________________________________________________\n",
      "dropout_2 (Dropout)          multiple                  0         \n",
      "_________________________________________________________________\n",
      "dense_4 (Dense)              multiple                  16781312  \n",
      "_________________________________________________________________\n",
      "dropout_3 (Dropout)          multiple                  0         \n",
      "_________________________________________________________________\n",
      "dense_5 (Dense)              multiple                  40970     \n",
      "=================================================================\n",
      "Total params: 29,815,850\n",
      "Trainable params: 29,815,850\n",
      "Non-trainable params: 0\n",
      "_________________________________________________________________\n"
     ]
    }
   ],
   "source": [
    "net.fit_generator(train_db, epochs=5, validation_data=test_db)    # 这里就不跑太多轮了，有机器可以自己调参跑个好的结果\n",
    "net.summary()"
   ]
  },
  {
   "cell_type": "code",
   "execution_count": 16,
   "metadata": {},
   "outputs": [
    {
     "name": "stdout",
     "output_type": "stream",
     "text": [
      "(1, 224, 224, 1)\n",
      "conv2d output shape:\t (1, 224, 224, 64)\n",
      "(1, 224, 224, 64)\n",
      "max_pooling2d output shape:\t (1, 112, 112, 64)\n",
      "(1, 112, 112, 64)\n",
      "conv2d_1 output shape:\t (1, 112, 112, 128)\n",
      "(1, 112, 112, 128)\n",
      "max_pooling2d_1 output shape:\t (1, 56, 56, 128)\n",
      "(1, 56, 56, 128)\n",
      "conv2d_2 output shape:\t (1, 56, 56, 256)\n",
      "(1, 56, 56, 256)\n",
      "conv2d_3 output shape:\t (1, 56, 56, 256)\n",
      "(1, 56, 56, 256)\n",
      "max_pooling2d_2 output shape:\t (1, 28, 28, 256)\n",
      "(1, 28, 28, 256)\n",
      "conv2d_4 output shape:\t (1, 28, 28, 512)\n",
      "(1, 28, 28, 512)\n",
      "conv2d_5 output shape:\t (1, 28, 28, 512)\n",
      "(1, 28, 28, 512)\n",
      "max_pooling2d_3 output shape:\t (1, 14, 14, 512)\n",
      "(1, 14, 14, 512)\n",
      "conv2d_6 output shape:\t (1, 14, 14, 512)\n",
      "(1, 14, 14, 512)\n",
      "conv2d_7 output shape:\t (1, 14, 14, 512)\n",
      "(1, 14, 14, 512)\n",
      "max_pooling2d_4 output shape:\t (1, 7, 7, 512)\n",
      "(1, 7, 7, 512)\n",
      "flatten output shape:\t (1, 25088)\n",
      "(1, 25088)\n",
      "dense output shape:\t (1, 4096)\n",
      "(1, 4096)\n",
      "dropout output shape:\t (1, 4096)\n",
      "(1, 4096)\n",
      "dense_1 output shape:\t (1, 4096)\n",
      "(1, 4096)\n",
      "dropout_1 output shape:\t (1, 4096)\n",
      "(1, 4096)\n",
      "dense_2 output shape:\t (1, 10)\n"
     ]
    }
   ],
   "source": [
    "# net.save('vgg.h5')\n",
    "X = tf.random.uniform((1,224,224,1))\n",
    "\n",
    "for blk in vgg.layers:\n",
    "    print('input shape:\\t', X.shape)\n",
    "    X = blk(X)\n",
    "    print(blk.name, 'output shape:\\t', X.shape)"
   ]
  },
  {
   "cell_type": "code",
   "execution_count": null,
   "metadata": {},
   "outputs": [],
   "source": []
  }
 ],
 "metadata": {
  "kernelspec": {
   "display_name": "Python (tf2)",
   "language": "python",
   "name": "tf2"
  },
  "language_info": {
   "codemirror_mode": {
    "name": "ipython",
    "version": 3
   },
   "file_extension": ".py",
   "mimetype": "text/x-python",
   "name": "python",
   "nbconvert_exporter": "python",
   "pygments_lexer": "ipython3",
   "version": "3.6.10"
  }
 },
 "nbformat": 4,
 "nbformat_minor": 4
}
