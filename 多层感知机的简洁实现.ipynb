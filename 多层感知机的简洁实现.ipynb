{
 "cells": [
  {
   "cell_type": "code",
   "execution_count": 1,
   "metadata": {},
   "outputs": [
    {
     "name": "stdout",
     "output_type": "stream",
     "text": [
      "2.0.0\n"
     ]
    }
   ],
   "source": [
    "import tensorflow as tf\n",
    "import os\n",
    "print(tf.__version__)"
   ]
  },
  {
   "cell_type": "code",
   "execution_count": 2,
   "metadata": {},
   "outputs": [],
   "source": [
    "# 导入数据\n",
    "from tensorflow.keras.datasets import fashion_mnist\n",
    "\n",
    "num_inputs = 784\n",
    "# 分类类别数为: 10 分类\n",
    "num_outputs = 10\n",
    "\n",
    "(x_train, y_train), (x_test, y_test) = fashion_mnist.load_data()\n",
    "# 数据预处理\n",
    "def scale(x, y):\n",
    "    x = tf.cast(x, dtype=tf.float32)\n",
    "    y = tf.cast(y, dtype=tf.int32)\n",
    "#     y = tf.one_hot(y, depth=num_outputs)    # 后面使用 compile ,fit直接训练不需要 one-hot\n",
    "    x = x / 255.0\n",
    "    return x, y\n",
    "\n",
    "\n",
    "train_db = tf.data.Dataset.from_tensor_slices((x_train, y_train)).map(scale).batch(64)   # x:shape=( , 28, 28), y:shape=(64, 10)\n",
    "test_db = tf.data.Dataset.from_tensor_slices((x_test, y_test)).map(scale).batch(64)   # x:shape=( , 28, 28), y:shape=(64, 10)\n",
    "# next(iter(train_db))"
   ]
  },
  {
   "cell_type": "code",
   "execution_count": 3,
   "metadata": {},
   "outputs": [],
   "source": [
    "# 创建模型\n",
    "from tensorflow import keras"
   ]
  },
  {
   "cell_type": "code",
   "execution_count": 4,
   "metadata": {},
   "outputs": [],
   "source": [
    "model = keras.Sequential([\n",
    "    keras.layers.Flatten(input_shape=(28, 28)),    # 展开图片\n",
    "    keras.layers.Dense(128, activation=tf.nn.relu),\n",
    "    keras.layers.Dense(10, activation=tf.nn.softmax)\n",
    "])"
   ]
  },
  {
   "cell_type": "code",
   "execution_count": 5,
   "metadata": {},
   "outputs": [],
   "source": [
    "# 定义损失函数和优化器\n",
    "optimizer = tf.optimizers.Adam(lr=0.01)\n",
    "loss = 'sparse_categorical_crossentropy'"
   ]
  },
  {
   "cell_type": "code",
   "execution_count": 6,
   "metadata": {},
   "outputs": [
    {
     "name": "stdout",
     "output_type": "stream",
     "text": [
      "Epoch 1/2\n",
      "938/938 [==============================] - 35s 38ms/step - loss: 0.5006 - accuracy: 0.8208\n",
      "Epoch 2/2\n",
      "938/938 [==============================] - 36s 39ms/step - loss: 0.4078 - accuracy: 0.8514\n"
     ]
    },
    {
     "data": {
      "text/plain": [
       "<tensorflow.python.keras.callbacks.History at 0x1a9dfee01d0>"
      ]
     },
     "execution_count": 6,
     "metadata": {},
     "output_type": "execute_result"
    }
   ],
   "source": [
    "# 编译模型\n",
    "model.compile(optimizer=optimizer,loss=loss, metrics=['accuracy'])\n",
    "# 训练模型\n",
    "\n",
    "model.fit_generator(generator=train_db, epochs=2)"
   ]
  },
  {
   "cell_type": "code",
   "execution_count": 7,
   "metadata": {},
   "outputs": [
    {
     "name": "stdout",
     "output_type": "stream",
     "text": [
      "Test Acc: 0.8486\n"
     ]
    }
   ],
   "source": [
    "test_loss, test_acc = model.evaluate_generator(test_db)\n",
    "print('Test Acc:',test_acc)"
   ]
  }
 ],
 "metadata": {
  "kernelspec": {
   "display_name": "Python (tf2)",
   "language": "python",
   "name": "tf2"
  },
  "language_info": {
   "codemirror_mode": {
    "name": "ipython",
    "version": 3
   },
   "file_extension": ".py",
   "mimetype": "text/x-python",
   "name": "python",
   "nbconvert_exporter": "python",
   "pygments_lexer": "ipython3",
   "version": "3.6.10"
  }
 },
 "nbformat": 4,
 "nbformat_minor": 2
}
