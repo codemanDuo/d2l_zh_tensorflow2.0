{
 "cells": [
  {
   "cell_type": "code",
   "execution_count": 1,
   "metadata": {},
   "outputs": [
    {
     "name": "stdout",
     "output_type": "stream",
     "text": [
      "2.0.0\n"
     ]
    }
   ],
   "source": [
    "import tensorflow as tf\n",
    "\n",
    "print(tf.__version__)"
   ]
  },
  {
   "cell_type": "code",
   "execution_count": 2,
   "metadata": {},
   "outputs": [],
   "source": [
    "import os\n",
    "for gpu in tf.config.experimental.list_physical_devices('GPU'):\n",
    "    tf.config.experimental.set_memory_growth(gpu, True)\n"
   ]
  },
  {
   "cell_type": "code",
   "execution_count": 3,
   "metadata": {},
   "outputs": [],
   "source": [
    "# 定义网络\n",
    "net = tf.keras.models.Sequential([\n",
    "    tf.keras.layers.Conv2D(filters=96,kernel_size=11,strides=4,activation='relu'),\n",
    "    tf.keras.layers.MaxPool2D(pool_size=3, strides=2),\n",
    "    tf.keras.layers.Conv2D(filters=256,kernel_size=5,padding='same',activation='relu'),\n",
    "    tf.keras.layers.MaxPool2D(pool_size=3, strides=2),\n",
    "    tf.keras.layers.Conv2D(filters=384,kernel_size=3,padding='same',activation='relu'),\n",
    "    tf.keras.layers.Conv2D(filters=384,kernel_size=3,padding='same',activation='relu'),\n",
    "    tf.keras.layers.Conv2D(filters=256,kernel_size=3,padding='same',activation='relu'),\n",
    "    tf.keras.layers.MaxPool2D(pool_size=3, strides=2),\n",
    "    tf.keras.layers.Flatten(),\n",
    "    tf.keras.layers.Dense(4096,activation='relu'),\n",
    "    tf.keras.layers.Dropout(0.5),\n",
    "    tf.keras.layers.Dense(4096,activation='relu'),\n",
    "    tf.keras.layers.Dropout(0.5),\n",
    "    tf.keras.layers.Dense(10,activation='sigmoid')\n",
    "])\n"
   ]
  },
  {
   "cell_type": "markdown",
   "metadata": {},
   "source": [
    "#### 虽然论文中AlexNet使用ImageNet数据集，但因为ImageNet数据集训练时间较长，我们仍用前面的Fashion-MNIST数据集来演示AlexNet。读取数据的时候我们额外做了一步将图像高和宽扩大到AlexNet使用的图像高和宽224。这个可以通过tf.image.resize_with_pad来实现"
   ]
  },
  {
   "cell_type": "code",
   "execution_count": 4,
   "metadata": {},
   "outputs": [
    {
     "data": {
      "image/png": "[encoded data removed]",
      "text/plain": [
       "<Figure size 432x288 with 1 Axes>"
      ]
     },
     "metadata": {
      "needs_background": "light"
     },
     "output_type": "display_data"
    },
    {
     "data": {
      "text/plain": [
       "<Figure size 360x360 with 0 Axes>"
      ]
     },
     "metadata": {},
     "output_type": "display_data"
    },
    {
     "data": {
      "image/png": "[encoded data removed]",
      "text/plain": [
       "<Figure size 360x360 with 1 Axes>"
      ]
     },
     "metadata": {
      "needs_background": "light"
     },
     "output_type": "display_data"
    }
   ],
   "source": [
    "# 获取数据\n",
    "from tensorflow.keras.datasets import fashion_mnist\n",
    "import matplotlib.pyplot as plt\n",
    "\n",
    "\n",
    "(x_train, y_train), (x_test, y_test) = fashion_mnist.load_data()\n",
    "\n",
    "# 熟悉一下，tf.image.resize_with_pad 函数\n",
    "def resize(x):\n",
    "    x = tf.cast(x, tf.float32)\n",
    "    x = tf.reshape(x, (x.shape[0], x.shape[1], 1))\n",
    "    x = tf.image.resize_with_pad(image=x, target_height=100, target_width=100, method='bilinear')\n",
    "    x = tf.squeeze(x)\n",
    "    return x\n",
    "\n",
    "img = x_train[0]\n",
    "img2 = resize(img)\n",
    "plt.imshow(img)\n",
    "plt.figure(figsize=(5,5))\n",
    "plt.show()\n",
    "plt.figure(figsize=(5,5))\n",
    "plt.imshow(img2)\n",
    "plt.show()"
   ]
  },
  {
   "cell_type": "code",
   "execution_count": 5,
   "metadata": {},
   "outputs": [],
   "source": [
    "# 数据预处理\n",
    "def data_scale(x, y):\n",
    "    x = tf.cast(x, tf.float32)\n",
    "    x = x / 255.0\n",
    "    x = tf.reshape(x, (x.shape[0], x.shape[1], 1))\n",
    "    x = tf.image.resize_with_pad(image=x, target_height=224,target_width=224)\n",
    "    \n",
    "    return x, y\n",
    "\n",
    "train_db = tf.data.Dataset.from_tensor_slices((x_train,y_train)).shuffle(20).map(data_scale).batch(256)\n",
    "test_db = tf.data.Dataset.from_tensor_slices((x_test,y_test)).shuffle(20).map(data_scale).batch(256)"
   ]
  },
  {
   "cell_type": "code",
   "execution_count": 6,
   "metadata": {
    "scrolled": true
   },
   "outputs": [
    {
     "name": "stdout",
     "output_type": "stream",
     "text": [
      "Epoch 1/2\n",
      "235/235 [==============================] - 37s 158ms/step - loss: 1.5105 - accuracy: 0.2605 - val_loss: 0.8822 - val_accuracy: 0.6663\n",
      "Epoch 2/2\n",
      "235/235 [==============================] - 35s 150ms/step - loss: 0.5995 - accuracy: 0.7492 - val_loss: 0.7751 - val_accuracy: 0.7420\n"
     ]
    },
    {
     "data": {
      "text/plain": [
       "<tensorflow.python.keras.callbacks.History at 0x7f91d8492d68>"
      ]
     },
     "execution_count": 6,
     "metadata": {},
     "output_type": "execute_result"
    }
   ],
   "source": [
    "# 定义优化器和损失函数\n",
    "optimizer = tf.keras.optimizers.SGD(lr=1e-1)\n",
    "loss = tf.keras.losses.sparse_categorical_crossentropy\n",
    "net.compile(optimizer=optimizer, loss=loss, metrics=['accuracy'])\n",
    "\n",
    "net.fit_generator(train_db, epochs=2, validation_data=test_db)"
   ]
  },
  {
   "cell_type": "code",
   "execution_count": 7,
   "metadata": {
    "scrolled": true
   },
   "outputs": [
    {
     "name": "stdout",
     "output_type": "stream",
     "text": [
      "Model: \"sequential\"\n",
      "____________________________________________________________________________________________________\n",
      "Layer (type)                                 Output Shape                            Param #        \n",
      "====================================================================================================\n",
      "conv2d (Conv2D)                              multiple                                11712          \n",
      "____________________________________________________________________________________________________\n",
      "max_pooling2d (MaxPooling2D)                 multiple                                0              \n",
      "____________________________________________________________________________________________________\n",
      "conv2d_1 (Conv2D)                            multiple                                614656         \n",
      "____________________________________________________________________________________________________\n",
      "max_pooling2d_1 (MaxPooling2D)               multiple                                0              \n",
      "____________________________________________________________________________________________________\n",
      "conv2d_2 (Conv2D)                            multiple                                885120         \n",
      "____________________________________________________________________________________________________\n",
      "conv2d_3 (Conv2D)                            multiple                                1327488        \n",
      "____________________________________________________________________________________________________\n",
      "conv2d_4 (Conv2D)                            multiple                                884992         \n",
      "____________________________________________________________________________________________________\n",
      "max_pooling2d_2 (MaxPooling2D)               multiple                                0              \n",
      "____________________________________________________________________________________________________\n",
      "flatten (Flatten)                            multiple                                0              \n",
      "____________________________________________________________________________________________________\n",
      "dense (Dense)                                multiple                                26218496       \n",
      "____________________________________________________________________________________________________\n",
      "dropout (Dropout)                            multiple                                0              \n",
      "____________________________________________________________________________________________________\n",
      "dense_1 (Dense)                              multiple                                16781312       \n",
      "____________________________________________________________________________________________________\n",
      "dropout_1 (Dropout)                          multiple                                0              \n",
      "____________________________________________________________________________________________________\n",
      "dense_2 (Dense)                              multiple                                40970          \n",
      "====================================================================================================\n",
      "Total params: 46,764,746\n",
      "Trainable params: 46,764,746\n",
      "Non-trainable params: 0\n",
      "____________________________________________________________________________________________________\n"
     ]
    }
   ],
   "source": [
    "net.summary(line_length=100)\n",
    "# net.save()"
   ]
  },
  {
   "cell_type": "code",
   "execution_count": 8,
   "metadata": {},
   "outputs": [
    {
     "data": {
      "text/plain": [
       "[0.7806016147136688, 0.742]"
      ]
     },
     "execution_count": 8,
     "metadata": {},
     "output_type": "execute_result"
    }
   ],
   "source": [
    "net.evaluate_generator(generator=test_db)"
   ]
  },
  {
   "cell_type": "code",
   "execution_count": 9,
   "metadata": {},
   "outputs": [
    {
     "name": "stdout",
     "output_type": "stream",
     "text": [
      "conv2d\n",
      "max_pooling2d\n",
      "conv2d_1\n",
      "max_pooling2d_1\n",
      "conv2d_2\n",
      "conv2d_3\n",
      "conv2d_4\n",
      "max_pooling2d_2\n",
      "flatten\n",
      "dense\n",
      "dropout\n",
      "dense_1\n",
      "dropout_1\n",
      "dense_2\n"
     ]
    }
   ],
   "source": [
    "for layer in net.layers:\n",
    "    print(layer.name)\n",
    "#     print(layer.get_weights())"
   ]
  },
  {
   "cell_type": "code",
   "execution_count": null,
   "metadata": {},
   "outputs": [],
   "source": []
  }
 ],
 "metadata": {
  "kernelspec": {
   "display_name": "Python (tf2-1)",
   "language": "python",
   "name": "tf2"
  },
  "language_info": {
   "codemirror_mode": {
    "name": "ipython",
    "version": 3
   },
   "file_extension": ".py",
   "mimetype": "text/x-python",
   "name": "python",
   "nbconvert_exporter": "python",
   "pygments_lexer": "ipython3",
   "version": "3.6.8"
  }
 },
 "nbformat": 4,
 "nbformat_minor": 2
}
