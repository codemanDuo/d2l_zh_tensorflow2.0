{
 "cells": [
  {
   "cell_type": "code",
   "execution_count": 1,
   "metadata": {},
   "outputs": [
    {
     "name": "stdout",
     "output_type": "stream",
     "text": [
      "2.0.0\n"
     ]
    }
   ],
   "source": [
    "import tensorflow as tf\n",
    "import os\n",
    "import numpy as np\n",
    "\n",
    "print(tf.__version__)"
   ]
  },
  {
   "cell_type": "markdown",
   "metadata": {},
   "source": [
    "#### 周杰伦歌词数据:\n",
    "链接: https://pan.baidu.com/s/1QieFe3iuDlDeyTYe4dRySA 提取码: vwvs"
   ]
  },
  {
   "cell_type": "code",
   "execution_count": 2,
   "metadata": {},
   "outputs": [],
   "source": [
    "#读取数据\n",
    "import random\n",
    "import zipfile\n",
    "\n",
    "with zipfile.ZipFile('./data/jaychou_lyrics.txt.zip') as zin:\n",
    "    with zin.open('jaychou_lyrics.txt') as f:\n",
    "        corpus_chars = f.read().decode('utf-8')"
   ]
  },
  {
   "cell_type": "code",
   "execution_count": 3,
   "metadata": {},
   "outputs": [],
   "source": [
    "corpus_chars = corpus_chars.replace('\\n', ' ').replace('\\r', ' ')\n",
    "corpus_chars = corpus_chars[0:10000]"
   ]
  },
  {
   "cell_type": "code",
   "execution_count": 4,
   "metadata": {},
   "outputs": [],
   "source": [
    "# 建立字符索引\n",
    "idx_to_char = list(set(corpus_chars))\n",
    "char_to_idx = dict([(char, i) for i, char in enumerate(idx_to_char)])\n",
    "vocab_size = len(char_to_idx)"
   ]
  },
  {
   "cell_type": "code",
   "execution_count": 5,
   "metadata": {},
   "outputs": [
    {
     "name": "stdout",
     "output_type": "stream",
     "text": [
      "chars: 想要有直升机 想要和你飞到宇宙去 想要和\n",
      "indices: [440, 159, 83, 333, 894, 63, 712, 440, 159, 487, 774, 426, 516, 694, 30, 867, 712, 440, 159, 487]\n"
     ]
    }
   ],
   "source": [
    "corpus_indices = [char_to_idx[char] for char in corpus_chars]\n",
    "sample = corpus_indices[:20]\n",
    "print('chars:', ''.join([idx_to_char[idx] for idx in sample]))\n",
    "print('indices:', sample)"
   ]
  },
  {
   "cell_type": "code",
   "execution_count": 6,
   "metadata": {},
   "outputs": [
    {
     "data": {
      "text/plain": [
       "<tf.Tensor: id=4, shape=(2, 1027), dtype=float32, numpy=\n",
       "array([[1., 0., 0., ..., 0., 0., 0.],\n",
       "       [0., 0., 1., ..., 0., 0., 0.]], dtype=float32)>"
      ]
     },
     "execution_count": 6,
     "metadata": {},
     "output_type": "execute_result"
    }
   ],
   "source": [
    "# one-hot向量\n",
    "tf.one_hot(np.array([0, 2]), vocab_size)\n"
   ]
  },
  {
   "cell_type": "code",
   "execution_count": 7,
   "metadata": {},
   "outputs": [
    {
     "data": {
      "text/plain": [
       "(5, TensorShape([2, 1027]))"
      ]
     },
     "execution_count": 7,
     "metadata": {},
     "output_type": "execute_result"
    }
   ],
   "source": [
    "def to_onehot(X, size): \n",
    "    # X shape: (batch), output shape: (batch, n_class)\n",
    "    return [tf.one_hot(x, size,dtype=tf.float32) for x in X.T]\n",
    "X = np.arange(10).reshape((2, 5))\n",
    "inputs = to_onehot(X, vocab_size)\n",
    "len(inputs), inputs[0].shape"
   ]
  },
  {
   "cell_type": "code",
   "execution_count": 8,
   "metadata": {},
   "outputs": [],
   "source": [
    "# 从零实现 rnn\n",
    "# 初始化模型参数，我们依据第二章的结论，使用 Ht = theta(concate(Xt + Ht-1, axis=-1) * W),所以可训练的模型参数是 W，输出矩阵Wo及bh,bo\n",
    "\n",
    "# 初始化参数有：Ht-1 的维度\n",
    "vocab_size = 1027\n",
    "num_inputs, num_hiddens, num_outputs = vocab_size, 256, vocab_size\n",
    "class Rnn(object):\n",
    "    def __init__(self, hiden_dim，params=None):\n",
    "        \"\"\"\n",
    "        初始化待训练的参数 variabel\n",
    "        params = (hidden_weight, weight_out, bn_h, bn_o)\n",
    "        \"\"\"\n",
    "        # 是否加载已有参数\n",
    "        if params:\n",
    "            self.hidden_weight, self.weight_out, self.bn_h, self.bn_o = params\n",
    "        else:\n",
    "            self.hidden_weight = self._ones(shape=(vocab_size+ num_hiddens, num_hiddens))\n",
    "            self.weight_out = self._ones(shape=(num_hiddens, vocab_size + num_hiddens))\n",
    "            self.bn_h = tf.Variable(tf.zeros([1,num_hiddens]), dtype=tf.float32)\n",
    "            self.bn_o = tf.Variable(tf.zeros([1,vocab_size + num_hiddens]), dtype=tf.float32)\n",
    "        \n",
    "    def _ones(self,shape):\n",
    "        return tf.Variable(tf.random.normal(shape=shape,stddev=0.01,mean=0,dtype=tf.float32))\n",
    "    \n",
    "    def net(self,inputs,Ht):\n",
    "        # 展开做循环计算\n",
    "        outputs = []\n",
    "        for X in inputs:\n",
    "            x = tf.reshape(X,(-1, vocab_size))\n",
    "            # Ht = tf.tanh(theta(concate(Xt + Ht-1, axis=-1) * W) + bn)\n",
    "            Ht = tf.tanh(tf.matmul(tf.concat([X,Ht], axis=1), self.hidden_weight) + self.bn_h)\n",
    "            # 计算输出\n",
    "            Y= tf.matmul(Ht,self.weight_out) + self.bn_o\n",
    "            # 存储中间Y的输出,一般的rnn这里设置return_sequences和return_state参数, \n",
    "            # return_sequence=True返回多个序列,return_state=True代表返回隐向量\n",
    "            outputs.append(Y)\n",
    "\n",
    "        return outputs, Ht"
   ]
  },
  {
   "cell_type": "code",
   "execution_count": 9,
   "metadata": {},
   "outputs": [],
   "source": [
    "# 初始化一个 hidden_state\n",
    "def init_rnn_state(batch_size, num_hiddens):\n",
    "    #随机初始化一个初始值\n",
    "    return tf.zeros(shape=(batch_size, num_hiddens))"
   ]
  },
  {
   "cell_type": "code",
   "execution_count": 11,
   "metadata": {},
   "outputs": [
    {
     "name": "stdout",
     "output_type": "stream",
     "text": [
      "(2, 256)\n",
      "5\n",
      "(2, 1027)\n",
      "5 (2, 1283) (2, 256)\n"
     ]
    }
   ],
   "source": [
    "# 测试\n",
    "state = init_rnn_state(X.shape[0], num_hiddens)\n",
    "print(state.shape)\n",
    "inputs = to_onehot(X, vocab_size)\n",
    "print(len(inputs))# 5\n",
    "print(inputs[0].shape)\n",
    "rnn = Rnn(num_hiddens)\n",
    "outputs, state_new = rnn.net(inputs, state)\n",
    "print(len(outputs), outputs[0].shape, state_new.shape) "
   ]
  },
  {
   "cell_type": "code",
   "execution_count": null,
   "metadata": {},
   "outputs": [],
   "source": []
  }
 ],
 "metadata": {
  "kernelspec": {
   "display_name": "Python (tf2)",
   "language": "python",
   "name": "tf2"
  },
  "language_info": {
   "codemirror_mode": {
    "name": "ipython",
    "version": 3
   },
   "file_extension": ".py",
   "mimetype": "text/x-python",
   "name": "python",
   "nbconvert_exporter": "python",
   "pygments_lexer": "ipython3",
   "version": "3.6.10"
  }
 },
 "nbformat": 4,
 "nbformat_minor": 4
}
